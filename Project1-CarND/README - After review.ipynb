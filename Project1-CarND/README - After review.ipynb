{
 "cells": [
  {
   "cell_type": "markdown",
   "metadata": {},
   "source": [
    "### I wanted to thank you for the educational materials. I have made a few improvements based on them.\n",
    "\n",
    "My project shortcomings and solutions, listed together:\n",
    "    \n",
    "1. HoughLines\n",
    "\n",
    "  * I implemented the settings for HoughLinesP() that you suggested. I did not see much improvment, though there is some.\n",
    "  * I trust it will be helpful later when detecting curved lines. Specifically, making  rho=2,threshold=50,min_line_length=70, and max_line_gap=15. \n",
    "  \n",
    "2. Canny\n",
    "\n",
    "  * I did not know of the importance of the low and high threshholds for Canny(), the materials were helpful. \n",
    "  * I've created a function to calulate the correct threshholds automatically then apply them to Canny() and added it to my original  program.\n",
    "  \n",
    "3. Error\n",
    "\n",
    "  * It failed when no lines where detected in a frame, so I placed a check for that situation to stop the error that occurred.\n",
    "      \n",
    "4. Curves\n",
    "\n",
    "  * My pipeline does not detect curves, but even with the educational materials given to me I will need more time to figuire this out, so no implementation yet. \n",
    "  * I'll continue with my education on the tools available before making changes to the program.\n",
    "    \n",
    "5. Computation time\n",
    "\n",
    "  * My pipeline has inherent lag behind the real world becuase it uses past frames to steady itself. \n",
    "\n",
    "  * Minimizing the number of points needed for a steady line would be best so that it can react more quickly to changes. reduced point list size from 100 to 50 and saw small gains in calulation time without much drop in marking quality. "
   ]
  }
 ],
 "metadata": {
  "kernelspec": {
   "display_name": "Python 3",
   "language": "python",
   "name": "python3"
  },
  "language_info": {
   "codemirror_mode": {
    "name": "ipython",
    "version": 3
   },
   "file_extension": ".py",
   "mimetype": "text/x-python",
   "name": "python",
   "nbconvert_exporter": "python",
   "pygments_lexer": "ipython3",
   "version": "3.6.1"
  }
 },
 "nbformat": 4,
 "nbformat_minor": 2
}
