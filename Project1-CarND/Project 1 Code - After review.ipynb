{
 "cells": [
  {
   "cell_type": "code",
   "execution_count": null,
   "metadata": {
    "collapsed": true
   },
   "outputs": [],
   "source": [
    "import matplotlib.pyplot as plt\n",
    "import matplotlib.image as npimg \n",
    "import numpy as np\n",
    "import os\n",
    "from moviepy.editor import VideoFileClip\n",
    "from IPython.display import HTML\n",
    "import cv2"
   ]
  },
  {
   "cell_type": "code",
   "execution_count": null,
   "metadata": {
    "collapsed": true
   },
   "outputs": [],
   "source": [
    "def YellowAndWhite(hsv_image):\n",
    "    masks = []\n",
    "    low_white,high_white = np.array([0, 0, 200]),np.array([180, 25, 255])\n",
    "    low_yellow,high_yellow = np.array([15, 40, 205]),np.array([25, 255, 255])\n",
    "    white = cv2.inRange(hsv_image, low_white, high_white)\n",
    "    masks.append(white)\n",
    "    yellow = cv2.inRange(hsv_image, low_yellow, high_yellow)\n",
    "    masks.append(yellow)\n",
    "    return cv2.add(*masks)"
   ]
  },
  {
   "cell_type": "code",
   "execution_count": null,
   "metadata": {
    "collapsed": true
   },
   "outputs": [],
   "source": [
    "def Force3D(mask, image):\n",
    "    masked_image = np.zeros_like(image)\n",
    "    for i in range(3): \n",
    "        masked_image[:,:,i] = mask.copy()\n",
    "    return masked_image"
   ]
  },
  {
   "cell_type": "code",
   "execution_count": null,
   "metadata": {
    "collapsed": true
   },
   "outputs": [],
   "source": [
    "def AutoCanny(image):   #new\n",
    "    v = np.median(image)\n",
    "    \n",
    "    low = int(max(0, v*.77))\n",
    "    high = int(min(255, v*1.33))\n",
    "    \n",
    "    edged_image = cv2.Canny(image, low, high)\n",
    "    return edged_image"
   ]
  },
  {
   "cell_type": "code",
   "execution_count": null,
   "metadata": {
    "collapsed": true
   },
   "outputs": [],
   "source": [
    "def RegionOfInterest(image, points): \n",
    "    mask = np.zeros_like(image)   \n",
    "    ignore_color = 255\n",
    "\n",
    "    cv2.fillPoly(mask, [points],ignore_color)\n",
    "    masked_image = cv2.bitwise_and(image, mask)\n",
    "    \n",
    "    return masked_image"
   ]
  },
  {
   "cell_type": "code",
   "execution_count": null,
   "metadata": {
    "collapsed": true
   },
   "outputs": [],
   "source": [
    "def ProcessImage(image):\n",
    "    \n",
    "    width,height = len(image[0]),len(image)\n",
    "    hsv_image = cv2.cvtColor(image, cv2.COLOR_RGB2HSV)\n",
    "\n",
    "    color_mask = YellowAndWhite(hsv_image)\n",
    "\n",
    "    masked_image = Force3D(color_mask, image) \n",
    "\n",
    "    edge_mask = AutoCanny(masked_image)   #new\n",
    "      \n",
    "    edged_image = Force3D(edge_mask, image) \n",
    "    \n",
    "    p1,p2,p3,p4  = [10,height-10],[int(29/60*width),int(9/16*height)],[int(31/60*width),int(9/16*height)],[width-10,height-10]\n",
    "    points = np.array([p1,p2,p3,p4], dtype=np.int32) \n",
    "    region_image= RegionOfInterest(edged_image, points) \n",
    "    \n",
    "    grey_image = cv2.cvtColor(region_image, cv2.COLOR_RGB2GRAY)\n",
    "    \n",
    "    return grey_image"
   ]
  },
  {
   "cell_type": "code",
   "execution_count": null,
   "metadata": {
    "collapsed": true
   },
   "outputs": [],
   "source": [
    "def ImageToLines(image): \n",
    "    rho = 2\n",
    "    theta = np.pi/180  #modified values.\n",
    "    threshold = 60\n",
    "    min_line_length = 70\n",
    "    max_line_gap = 15\n",
    "    \n",
    "    return cv2.HoughLinesP(image, rho, theta, threshold, np.array([]),min_line_length, max_line_gap)\n",
    "    "
   ]
  },
  {
   "cell_type": "code",
   "execution_count": null,
   "metadata": {
    "collapsed": true
   },
   "outputs": [],
   "source": [
    "def HoughlinesToLanelines(lines = []):  #new\n",
    "    global left_lane_line, right_lane_line\n",
    "    \n",
    "    if lines != []:\n",
    "        for line in lines:\n",
    "            for x1,y1,x2,y2 in line:\n",
    "                if x1>width/2 and x2>width/2:\n",
    "                    if (y2-y1)/(x2-x1) > 0.4: \n",
    "                        right_lane_line.append([x1,y1])\n",
    "                        right_lane_line.append([x2,y2])\n",
    "                elif x1<width/2 and x2<width/2:\n",
    "                    if (y2-y1)/(x2-x1) < -0.4: \n",
    "                        left_lane_line.append([x1,y1])\n",
    "                        left_lane_line.append([x2,y2])        \n",
    "\n",
    "        while len(left_lane_line)> 50:\n",
    "            del left_lane_line[0]\n",
    "        while len(right_lane_line)> 50:\n",
    "            del right_lane_line[0]\n",
    "    \n",
    "    leftx,lefty = [point[0] for point in left_lane_line],[point[1] for point in left_lane_line]\n",
    "    rightx,righty = [point[0] for point in right_lane_line],[point[1] for point in right_lane_line]\n",
    "\n",
    "    return leftx,lefty,rightx,righty"
   ]
  },
  {
   "cell_type": "code",
   "execution_count": null,
   "metadata": {
    "collapsed": true
   },
   "outputs": [],
   "source": [
    "def FofY(y,mxb):\n",
    "    return (y-mxb[1])/mxb[0]"
   ]
  },
  {
   "cell_type": "code",
   "execution_count": null,
   "metadata": {
    "collapsed": true
   },
   "outputs": [],
   "source": [
    "global left_lane_line, right_lane_line\n",
    "left_lane_line, right_lane_line = [],[]\n",
    "\n",
    "def LaneLineDetector(original_image):\n",
    "    \n",
    "    image = np.copy(original_image)\n",
    "    global width,height\n",
    "    height,width = image.shape[0],image.shape[1]\n",
    "    \n",
    "    processed_image = ProcessImage(image)\n",
    "\n",
    "    lines = ImageToLines(processed_image) #new\n",
    "    \n",
    "    leftx,lefty,rightx,righty = HoughlinesToLanelines(lines)\n",
    "    \n",
    "    rightmxb = np.polyfit(rightx,righty,1)\n",
    "    leftmxb = np.polyfit(leftx,lefty,1)\n",
    "    \n",
    "    fl = np.poly1d(leftmxb)\n",
    "    fr = np.poly1d(rightmxb)\n",
    "    \n",
    "    \n",
    "    horizon = height/1.65\n",
    "    lx1,lx2,rx1,rx2 = int(min(leftx)),int(FofY(horizon,leftmxb)),int(FofY(horizon,rightmxb)),int(max(rightx))\n",
    "    ly1,ly2,ry1,ry2 = int(fl(lx1)),int(fl(lx2)),int(fr(rx1)),int(fr(rx2))\n",
    "    \n",
    "    lined_image = np.zeros_like(image) \n",
    "    cv2.line(lined_image, (lx1,ly1), (lx2, ly2), [0,0,255], 5) \n",
    "    cv2.line(lined_image, (rx1,ry1), (rx2, ry2), [0,0,255], 5)\n",
    "    \n",
    "\n",
    "    laned_image = cv2.addWeighted(original_image, 0.8, lined_image, 1, 0) \n",
    "\n",
    "    return laned_image "
   ]
  },
  {
   "cell_type": "markdown",
   "metadata": {},
   "source": [
    "# Tests"
   ]
  },
  {
   "cell_type": "markdown",
   "metadata": {},
   "source": [
    "## Yellow line video"
   ]
  },
  {
   "cell_type": "code",
   "execution_count": null,
   "metadata": {
    "collapsed": true,
    "scrolled": true
   },
   "outputs": [],
   "source": [
    "yellow_clip_output = 'solidYellowLeft1.mp4'\n",
    "clip2 = VideoFileClip(\"MathMagicMachine/TestVideos/solidYellowLeft.mp4\")\n",
    "yellow_clip = clip2.fl_image(LaneLineDetector)\n",
    "%time yellow_clip.write_videofile(yellow_clip_output, audio=False)"
   ]
  },
  {
   "cell_type": "code",
   "execution_count": null,
   "metadata": {
    "collapsed": true
   },
   "outputs": [],
   "source": [
    "HTML(\"\"\"\n",
    "<video width=\"960\" height=\"520\" controls>\n",
    "  <source src=\"{0}\" type=\"video/mp4\">\n",
    "</video>\n",
    "\"\"\".format(yellow_clip_output))"
   ]
  },
  {
   "cell_type": "markdown",
   "metadata": {},
   "source": [
    "## Challenge video"
   ]
  },
  {
   "cell_type": "code",
   "execution_count": null,
   "metadata": {
    "collapsed": true
   },
   "outputs": [],
   "source": [
    "final_clip_output = 'challenge2.mp4'\n",
    "clip = VideoFileClip(\"MathMagicMachine/TestVideos/challenge.mp4\")\n",
    "final_clip = clip.fl_image(LaneLineDetector)\n",
    "%time final_clip.write_videofile(final_clip_output, audio=False)"
   ]
  },
  {
   "cell_type": "code",
   "execution_count": null,
   "metadata": {
    "collapsed": true,
    "scrolled": false
   },
   "outputs": [],
   "source": [
    "HTML(\"\"\"\n",
    "<video width=\"960\" height=\"520\" controls>\n",
    "  <source src=\"{0}\" type=\"video/mp4\">\n",
    "</video>\n",
    "\"\"\".format(final_clip_output))"
   ]
  },
  {
   "cell_type": "markdown",
   "metadata": {},
   "source": [
    "## White line video"
   ]
  },
  {
   "cell_type": "code",
   "execution_count": null,
   "metadata": {
    "collapsed": true
   },
   "outputs": [],
   "source": [
    "white_clip_output = 'solidWhiteRight1.mp4'\n",
    "clip1 = VideoFileClip(\"TestVideos/solidWhiteRight.mp4\")\n",
    "white_clip = clip1.fl_image(LaneLineDetector)\n",
    "%time white_clip.write_videofile(white_clip_output, audio=False)"
   ]
  },
  {
   "cell_type": "code",
   "execution_count": null,
   "metadata": {
    "collapsed": true
   },
   "outputs": [],
   "source": [
    "HTML(\"\"\"\n",
    "<video width=\"960\" height=\"520\" controls>\n",
    "  <source src=\"{0}\" type=\"video/mp4\">\n",
    "</video>\n",
    "\"\"\".format(white_clip_output))"
   ]
  }
 ],
 "metadata": {
  "kernelspec": {
   "display_name": "Python 3",
   "language": "python",
   "name": "python3"
  },
  "language_info": {
   "codemirror_mode": {
    "name": "ipython",
    "version": 3
   },
   "file_extension": ".py",
   "mimetype": "text/x-python",
   "name": "python",
   "nbconvert_exporter": "python",
   "pygments_lexer": "ipython3",
   "version": "3.5.2"
  },
  "widgets": {
   "state": {},
   "version": "1.1.2"
  }
 },
 "nbformat": 4,
 "nbformat_minor": 2
}
