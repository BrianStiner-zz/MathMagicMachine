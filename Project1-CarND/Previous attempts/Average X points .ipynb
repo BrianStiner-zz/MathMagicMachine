{
 "cells": [
  {
   "cell_type": "code",
   "execution_count": 214,
   "metadata": {
    "collapsed": true
   },
   "outputs": [],
   "source": [
    "import matplotlib.pyplot as plt\n",
    "import matplotlib.image as npimg \n",
    "import numpy as np\n",
    "import os\n",
    "from moviepy.editor import VideoFileClip\n",
    "from IPython.display import HTML\n",
    "import cv2"
   ]
  },
  {
   "cell_type": "code",
   "execution_count": 215,
   "metadata": {
    "collapsed": true
   },
   "outputs": [],
   "source": [
    "def YellowAndWhite(hsv_image): #Done\n",
    "    masks = []\n",
    "    low_white,high_white = np.array([0, 0, 200]),np.array([180, 25, 255])\n",
    "    low_yellow,high_yellow = np.array([15, 40, 205]),np.array([25, 255, 255])\n",
    "    white = cv2.inRange(hsv_image, low_white, high_white)\n",
    "    masks.append(white)\n",
    "    yellow = cv2.inRange(hsv_image, low_yellow, high_yellow)\n",
    "    masks.append(yellow)\n",
    "    return cv2.add(*masks)"
   ]
  },
  {
   "cell_type": "code",
   "execution_count": 216,
   "metadata": {
    "collapsed": true
   },
   "outputs": [],
   "source": [
    "def Force3D(mask, image): #Done\n",
    "    masked_image = np.zeros_like(image)\n",
    "    for i in range(3): \n",
    "        masked_image[:,:,i] = mask.copy()\n",
    "    return masked_image"
   ]
  },
  {
   "cell_type": "code",
   "execution_count": 217,
   "metadata": {
    "collapsed": true
   },
   "outputs": [],
   "source": [
    "def RegionOfInterest(image, points): #Done\n",
    "    mask = np.zeros_like(image)   \n",
    "    ignore_color = 255\n",
    "\n",
    "    cv2.fillPoly(mask, [points],ignore_color)\n",
    "    masked_image = cv2.bitwise_and(image, mask)\n",
    "    \n",
    "    return masked_image"
   ]
  },
  {
   "cell_type": "code",
   "execution_count": 218,
   "metadata": {
    "collapsed": true
   },
   "outputs": [],
   "source": [
    "def LaneX(leftx,rightx):   \n",
    "    global maxr, minr, maxl, minl\n",
    "    maxr.append(max(rightx))\n",
    "    minr.append(min(rightx))\n",
    "    maxl.append(max(leftx))\n",
    "    minl.append(min(leftx))\n",
    "    if len(maxr)>100:\n",
    "        maxr.pop(0)\n",
    "    if len(minr)>100:    \n",
    "        minr.pop(0)\n",
    "    if len(maxl)>100:    \n",
    "        maxl.pop(0)\n",
    "    if len(minl)>100:    \n",
    "        minl.pop(0)"
   ]
  },
  {
   "cell_type": "code",
   "execution_count": 223,
   "metadata": {},
   "outputs": [],
   "source": [
    "def LaneLineDetector(original_image):\n",
    "    image = np.copy(original_image)\n",
    "    width,height = len(image[0]),len(image)\n",
    "    \n",
    "    hsv_image = cv2.cvtColor(image, cv2.COLOR_RGB2HSV)\n",
    "\n",
    "    color_mask = YellowAndWhite(hsv_image)\n",
    "\n",
    "    masked_image = Force3D(color_mask, image) \n",
    "\n",
    "    edge_mask = cv2.Canny(masked_image, 50, 150) #check if you even need this. The mask may be good enough or better\n",
    "      \n",
    "    edged_image = Force3D(edge_mask, image) \n",
    "    \n",
    "    p1,p2,p3,p4  = [10,height-10],[int(29/60*width),int(9/16*height)],[int(31/60*width),int(9/16*height)],[width-10,height-10]\n",
    "    points = np.array([p1,p2,p3,p4], dtype=np.int32) \n",
    "    region_image= RegionOfInterest(edged_image, points) \n",
    "    \n",
    "    grey_image = cv2.cvtColor(region_image, cv2.COLOR_RGB2GRAY)\n",
    "    plt.imshow(grey_image)\n",
    "    \n",
    "     #9\n",
    "    rho = 1\n",
    "    theta = np.pi/180\n",
    "    threshold = 35\n",
    "    min_line_length = 40\n",
    "    max_line_gap = 15\n",
    "    \n",
    "    lines = cv2.HoughLinesP(grey_image, rho, theta, threshold, np.array([]),min_line_length, max_line_gap)\n",
    "    \n",
    "    global left_lane_line, right_lane_line\n",
    "    lined_image = np.zeros_like(image) \n",
    "    \n",
    "    for line in lines:\n",
    "        for x1,y1,x2,y2 in line: #No lines with little slope. No lines that cross the middle line.\n",
    "            if x1>width/2 and x2>width/2:\n",
    "                if (y2-y1)/(x2-x1) > 0.4: \n",
    "                    cv2.line(lined_image, (x1, y1), (x2, y2), [255,0,0], 5)\n",
    "                    right_lane_line.append([x1,y1])\n",
    "                    right_lane_line.append([x2,y2])\n",
    "            elif x1<width/2 and x2<width/2:\n",
    "                if (y2-y1)/(x2-x1) < -0.4: \n",
    "                    cv2.line(lined_image, (x1, y1), (x2, y2), [255,0,0], 5)\n",
    "                    left_lane_line.append([x1,y1])\n",
    "                    left_lane_line.append([x2,y2])        \n",
    "    \n",
    "    while len(left_lane_line)> 50:\n",
    "        left_lane_line.pop(0)\n",
    "        \n",
    "    while len(right_lane_line)> 50:\n",
    "        right_lane_line.pop(0)\n",
    "    \n",
    "    leftx,lefty = [point[0] for point in left_lane_line],[point[1] for point in left_lane_line]\n",
    "    leftmxb = np.polyfit(leftx,lefty,1)\n",
    "    \n",
    "    rightx,righty = [point[0] for point in right_lane_line],[point[1] for point in right_lane_line]\n",
    "    rightmxb = np.polyfit(rightx,righty,1)\n",
    "    \n",
    "    fl = np.poly1d(leftmxb)\n",
    "    fr = np.poly1d(rightmxb)\n",
    "    \n",
    "    LaneX(leftx,rightx)\n",
    "        \n",
    "    #lx1,lx2,rx1,rx2 = int(10),int(width/2-10),int(width/2+10),int(width-10)\n",
    "    lx1,lx2,rx1,rx2 = int(np.mean(minl)),int(np.mean(maxl)),int(np.mean(minr)),int(np.mean(maxr))\n",
    "    ly1,ly2,ry1,ry2 = int(fl(lx1)),int(fl(lx2)),int(fr(rx1)),int(fr(rx2))\n",
    "    \n",
    "    cv2.line(lined_image, (lx1,ly1), (lx2, ly2), [0,0,255], 10) \n",
    "    cv2.line(lined_image, (rx1,ry1), (rx2, ry2), [0,0,255], 10)\n",
    "    \n",
    "\n",
    "    laned_image = cv2.addWeighted(original_image, 0.8, lined_image, 1, 0) \n",
    "\n",
    "    return laned_image "
   ]
  },
  {
   "cell_type": "code",
   "execution_count": 224,
   "metadata": {},
   "outputs": [
    {
     "name": "stdout",
     "output_type": "stream",
     "text": [
      "[MoviePy] >>>> Building video challenge2.mp4\n",
      "[MoviePy] Writing video challenge2.mp4\n"
     ]
    },
    {
     "name": "stderr",
     "output_type": "stream",
     "text": [
      "100%|██████████| 251/251 [00:47<00:00,  5.84it/s]\n"
     ]
    },
    {
     "name": "stdout",
     "output_type": "stream",
     "text": [
      "[MoviePy] Done.\n",
      "[MoviePy] >>>> Video ready: challenge2.mp4 \n",
      "\n",
      "CPU times: user 1min 31s, sys: 7.72 s, total: 1min 39s\n",
      "Wall time: 50.3 s\n"
     ]
    }
   ],
   "source": [
    "global left_lane_line, right_lane_line, maxr, minr, maxl, minl\n",
    "left_lane_line, right_lane_line, maxr, minr, maxl, minl = [],[],[],[],[],[]\n",
    "final_clip_output = 'challenge.mp4'\n",
    "clip = VideoFileClip(\"TestVideos/challenge.mp4\")\n",
    "final_clip = clip.fl_image(LaneLineDetector)\n",
    "%time final_clip.write_videofile(final_clip_output, audio=False)"
   ]
  },
  {
   "cell_type": "code",
   "execution_count": 225,
   "metadata": {},
   "outputs": [
    {
     "data": {
      "text/html": [
       "\n",
       "<video width=\"960\" height=\"520\" controls>\n",
       "  <source src=\"challenge2.mp4\" type=\"video/mp4\">\n",
       "</video>\n"
      ],
      "text/plain": [
       "<IPython.core.display.HTML object>"
      ]
     },
     "execution_count": 225,
     "metadata": {},
     "output_type": "execute_result"
    }
   ],
   "source": [
    "HTML(\"\"\"\n",
    "<video width=\"960\" height=\"520\" controls>\n",
    "  <source src=\"{0}\" type=\"video/mp4\">\n",
    "</video>\n",
    "\"\"\".format(final_clip_output))"
   ]
  },
  {
   "cell_type": "code",
   "execution_count": 226,
   "metadata": {},
   "outputs": [
    {
     "name": "stdout",
     "output_type": "stream",
     "text": [
      "[MoviePy] >>>> Building video solidWhiteRight2.mp4\n",
      "[MoviePy] Writing video solidWhiteRight2.mp4\n"
     ]
    },
    {
     "name": "stderr",
     "output_type": "stream",
     "text": [
      "100%|█████████▉| 221/222 [00:23<00:00,  9.97it/s]\n"
     ]
    },
    {
     "name": "stdout",
     "output_type": "stream",
     "text": [
      "[MoviePy] Done.\n",
      "[MoviePy] >>>> Video ready: solidWhiteRight2.mp4 \n",
      "\n",
      "CPU times: user 50.8 s, sys: 3.94 s, total: 54.8 s\n",
      "Wall time: 25.2 s\n"
     ]
    }
   ],
   "source": [
    "white_clip_output = 'solidWhiteRight.mp4'\n",
    "clip1 = VideoFileClip(\"TestVideos/solidWhiteRight.mp4\")\n",
    "white_clip = clip1.fl_image(LaneLineDetector)\n",
    "%time white_clip.write_videofile(white_clip_output, audio=False)"
   ]
  },
  {
   "cell_type": "code",
   "execution_count": 227,
   "metadata": {},
   "outputs": [
    {
     "data": {
      "text/html": [
       "\n",
       "<video width=\"960\" height=\"520\" controls>\n",
       "  <source src=\"solidWhiteRight2.mp4\" type=\"video/mp4\">\n",
       "</video>\n"
      ],
      "text/plain": [
       "<IPython.core.display.HTML object>"
      ]
     },
     "execution_count": 227,
     "metadata": {},
     "output_type": "execute_result"
    }
   ],
   "source": [
    "HTML(\"\"\"\n",
    "<video width=\"960\" height=\"520\" controls>\n",
    "  <source src=\"{0}\" type=\"video/mp4\">\n",
    "</video>\n",
    "\"\"\".format(white_clip_output))"
   ]
  },
  {
   "cell_type": "code",
   "execution_count": 228,
   "metadata": {},
   "outputs": [
    {
     "name": "stdout",
     "output_type": "stream",
     "text": [
      "[MoviePy] >>>> Building video solidYellowLeft2.mp4\n",
      "[MoviePy] Writing video solidYellowLeft2.mp4\n"
     ]
    },
    {
     "name": "stderr",
     "output_type": "stream",
     "text": [
      "100%|█████████▉| 681/682 [01:15<00:00,  9.01it/s]\n"
     ]
    },
    {
     "name": "stdout",
     "output_type": "stream",
     "text": [
      "[MoviePy] Done.\n",
      "[MoviePy] >>>> Video ready: solidYellowLeft2.mp4 \n",
      "\n",
      "CPU times: user 2min 30s, sys: 11 s, total: 2min 40s\n",
      "Wall time: 1min 17s\n"
     ]
    }
   ],
   "source": [
    "yellow_clip_output = 'solidYellowLeft.mp4'\n",
    "clip2 = VideoFileClip(\"TestVideos/solidYellowLeft.mp4\")\n",
    "yellow_clip = clip2.fl_image(LaneLineDetector)\n",
    "%time yellow_clip.write_videofile(yellow_clip_output, audio=False)"
   ]
  },
  {
   "cell_type": "code",
   "execution_count": 229,
   "metadata": {},
   "outputs": [
    {
     "data": {
      "text/html": [
       "\n",
       "<video width=\"960\" height=\"520\" controls>\n",
       "  <source src=\"solidYellowLeft2.mp4\" type=\"video/mp4\">\n",
       "</video>\n"
      ],
      "text/plain": [
       "<IPython.core.display.HTML object>"
      ]
     },
     "execution_count": 229,
     "metadata": {},
     "output_type": "execute_result"
    }
   ],
   "source": [
    "HTML(\"\"\"\n",
    "<video width=\"960\" height=\"520\" controls>\n",
    "  <source src=\"{0}\" type=\"video/mp4\">\n",
    "</video>\n",
    "\"\"\".format(yellow_clip_output))"
   ]
  },
  {
   "cell_type": "code",
   "execution_count": null,
   "metadata": {
    "collapsed": true
   },
   "outputs": [],
   "source": []
  }
 ],
 "metadata": {
  "kernelspec": {
   "display_name": "Python 3",
   "language": "python",
   "name": "python3"
  },
  "language_info": {
   "codemirror_mode": {
    "name": "ipython",
    "version": 3
   },
   "file_extension": ".py",
   "mimetype": "text/x-python",
   "name": "python",
   "nbconvert_exporter": "python",
   "pygments_lexer": "ipython3",
   "version": "3.6.1"
  }
 },
 "nbformat": 4,
 "nbformat_minor": 2
}
