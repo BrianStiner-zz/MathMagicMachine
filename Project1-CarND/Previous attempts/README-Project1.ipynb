{
 "cells": [
  {
   "cell_type": "markdown",
   "metadata": {},
   "source": [
    "# **Finding Lane Lines on the Road - Brian Edward Stiner** \n",
    "---\n",
    "\n",
    "**Finding Lane Lines on the Road**\n",
    "\n",
    "The goals / steps of this project are the following:\n",
    "* Make a pipeline that finds lane lines on the road\n",
    "* Reflect on your work in a written report\n",
    "[hsv]: ./Examples/hsv.jpg \"HSV\"\n",
    "[masked]: ./Examples/masked.jpg \"mask\"\n",
    "[edged]: ./Examples/edged.jpg \"edged\"\n",
    "[lines]: ./Examples/lines.jpg \"lines\"\n",
    "[lanes]: ./Examples/lanes.jpg \"lanes\"\n",
    "\n",
    "\n",
    "### Reflection\n",
    "\n",
    "### 1. Describe your pipeline. As part of the description, explain how you modified the draw_lines() function.\n",
    "\n",
    "My first step is to convert to HSV, as this gives better results than RGB for the next step.\n",
    "![HSV][hsv]\n",
    "Next, I seperate the yellow and white colors from the image and create a mask. While it is possible to get results from now looking for lines on this image, the result is hundreds of lines per frame.\n",
    "![Masked-Yellow and White][masked]\n",
    "Its better to use Canny edge detection to preserve the lines while reducing the pixel count. Results from this produce between 2 and 10 lines per frame, much more managable when scaled, while still getting the same quality of results.\n",
    "![alt text][edged]\n",
    "After the lines are retrieved, they are sorted into three bins, left lane lines, which have significant negative slope and are completly on the left side, right lane lines with positive slope and totally on the right side, and garbage lines, which have either little slope or cross the middle. I've drawn these lines to show what the algorithm uses to create the steady marking lines later:\n",
    "![alt text][lines]\n",
    "\n",
    "The points of the sorted lines are then stored in a global list titled for the lanes lines they are. The points in the list are used for linear regression using the polyfit function to create a y=mx+b for each of them.\n",
    "\n",
    "Bounds are set based on the lowest and highest x values in the list, as well as having a set y value with variable x for the top of the lines.\n",
    "\n",
    "Since points are in a queue that exists between frames, the lines are smooth, perfectly tracking, and steady. They are able to ignore bumps, shadows, and changes in road texture.\n",
    "![alt text][lanes]\n",
    "\n",
    "After struggling through many iterations of the methods used in my algorithm, adding and subtracting different pre-processing steps, trying many ways of smoothing the jitter of the lane lines, I am very stasfied with the results, especially the smoothness and steadyness on the challenge video.\n",
    "\n",
    "### 2. Identify potential shortcomings with your current pipeline\n",
    "\n",
    "I doubt this algorithm will be able to handle long change, a car changing lanes over the line, or the line dropping out for a time for example.\n",
    "\n",
    "It has a fixed height, which would mean up or downhill would be a challenge. I would need a way to calculate where the horizon is in the video to know where to stop drawing.\n",
    "\n",
    "It also needs to use higher dimentions of polyfit in order to notice curves of the road, but the farther away the lane gets the fewer pixels there are to infer the lines and points needed to fit. I would need some way to understand curves in a less intuitive sense in order to draw the curves of a road.\n",
    "\n",
    "On the white line video, the left lane line freaks out for a bit.\n",
    "\n",
    "\n",
    "### 3. Suggest possible improvements to your pipeline\n",
    "\n",
    "I should have a class manage the lists rather than using a global variable, but as it is I wanted to keep the code short, and it was a very simple and easy fix to smooth the lines.\n",
    "\n",
    "How I would infer the curve or the horizon is unclear to me. While improvments could be made I don't know how they would be built.\n",
    "\n",
    "I'd want to remove the fixed values or percentages eventually, in order to have this work for any video of a car driving, rather than these ideal practice videos."
   ]
  }
 ],
 "metadata": {
  "kernelspec": {
   "display_name": "Python 3",
   "language": "python",
   "name": "python3"
  },
  "language_info": {
   "codemirror_mode": {
    "name": "ipython",
    "version": 3
   },
   "file_extension": ".py",
   "mimetype": "text/x-python",
   "name": "python",
   "nbconvert_exporter": "python",
   "pygments_lexer": "ipython3",
   "version": "3.6.1"
  }
 },
 "nbformat": 4,
 "nbformat_minor": 2
}
