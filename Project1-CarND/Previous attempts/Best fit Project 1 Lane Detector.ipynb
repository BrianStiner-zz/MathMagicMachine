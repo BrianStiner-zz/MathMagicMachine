{
 "cells": [
  {
   "cell_type": "code",
   "execution_count": 2,
   "metadata": {
    "collapsed": true
   },
   "outputs": [],
   "source": [
    "import matplotlib.pyplot as plt\n",
    "import matplotlib.image as mping \n",
    "import numpy as np\n",
    "import warnings\n",
    "from moviepy.editor import VideoFileClip\n",
    "from IPython.display import HTML\n",
    "import cv2\n",
    "\n",
    "#Steps:            Parameters:\n",
    "#1:Get image       (nothing)         \n",
    "#2:Get Masked      (Thresholds)             \n",
    "#3:Darken          (level of change) \n",
    "#4:Merge all       (nothing)         \n",
    "#5:Convert to grey (nothing)  \n",
    "#6:Blur            (kernel_size)\n",
    "#7:Canny edge      (LowT,HighT)\n",
    "#8:Area            (shape, size)\n",
    "#9:Hough lines     (Threshold, min line length, max line gap, rho, theta)\n",
    "#10:Fitting        (stuff)\n",
    "#11:Draw           (Lines to ignore)"
   ]
  },
  {
   "cell_type": "code",
   "execution_count": 77,
   "metadata": {
    "collapsed": true
   },
   "outputs": [],
   "source": [
    "def ColorSelect(image, low_rgb, high_rgb):\n",
    "    mask = np.copy(image)\n",
    "    thresholds = (image[:,:,0] > high_rgb[0]) \\\n",
    "                   | (image[:,:,0] < low_rgb[0]) \\\n",
    "                   | (image[:,:,1] > high_rgb[1]) \\\n",
    "                   | (image[:,:,1] < low_rgb[1]) \\\n",
    "                   | (image[:,:,2] > high_rgb[2]) \\\n",
    "                   | (image[:,:,2] < low_rgb[2])   \n",
    "                \n",
    "    mask[thresholds] = [0,0,0]\n",
    "    return mask"
   ]
  },
  {
   "cell_type": "code",
   "execution_count": 78,
   "metadata": {
    "collapsed": true
   },
   "outputs": [],
   "source": [
    "def RegionOfInterest(original, points):\n",
    "    \n",
    "    image = np.copy(original)\n",
    "    mask = np.zeros_like(original)   \n",
    "    ignore_mask_color = 255\n",
    "    \n",
    "    cv2.fillPoly(mask, points, ignore_mask_color)\n",
    "    \n",
    "    masked_image = cv2.bitwise_and(image, mask)\n",
    "    return masked_image"
   ]
  },
  {
   "cell_type": "code",
   "execution_count": 100,
   "metadata": {
    "collapsed": true
   },
   "outputs": [],
   "source": [
    "def LaneLineDetector(original_image):\n",
    "    #1\n",
    "    image=np.copy(original_image) \n",
    "    height=len(image)\n",
    "    width=len(image[0])\n",
    "    \n",
    "    #2\n",
    "    yellow_low_thresholds = [180,160,0]\n",
    "    yellow_high_thresholds = [255,255,140] \n",
    "    white_low_thresholds = [190,190,190]\n",
    "    white_high_thresholds = [255,255,255]\n",
    "                             \n",
    "    white_mask = ColorSelect(image,white_low_thresholds,white_high_thresholds)\n",
    "    yellow_mask = ColorSelect(image,yellow_low_thresholds,yellow_high_thresholds)\n",
    "\n",
    "    #3 \n",
    "    change = 100\n",
    "    darker_image = np.where(image<change,0,image-change)\n",
    "\n",
    "    #4                             \n",
    "    whited_image = cv2.bitwise_or(darker_image, white_mask)\n",
    "    masked_image = cv2.bitwise_or(whited_image, yellow_mask)\n",
    "   \n",
    "    #5                        \n",
    "    grey_image = cv2.cvtColor(masked_image, cv2.COLOR_RGB2GRAY)\n",
    "    \n",
    "    #6\n",
    "    kernel_size = 7                  \n",
    "    blurred_image = cv2.GaussianBlur(grey_image,(kernel_size, kernel_size), 0)\n",
    "    \n",
    "    #7\n",
    "    low_threshold = 50\n",
    "    high_threshold = 150    \n",
    "    edged_image = cv2.Canny(blurred_image, low_threshold, high_threshold)\n",
    " \n",
    "    #8\n",
    "    p1,p2,p3,p4  = [int(.165*width),int(.925*height)],[int(.469*width),int(.597*height)],[int(.547*width),int(.597*height)],[int(.867*width),int(.924*height)]\n",
    "    points = np.array([[p1,p2,p3,p4]], dtype=np.int32) \n",
    "    region_image= RegionOfInterest(edged_image, points)\n",
    "\n",
    "    #9\n",
    "    rho = 1\n",
    "    theta = np.pi/180\n",
    "    threshold = 15\n",
    "    min_line_length = 20\n",
    "    max_line_gap = 15\n",
    "    lined_image = np.zeros_like(image)\n",
    "\n",
    "    lines = cv2.HoughLinesP(region_image, rho, theta, threshold, np.array([]),\n",
    "                                             min_line_length, max_line_gap)\n",
    "    #10\n",
    "    rx,ry,lx,ly = [],[],[],[]\n",
    "    line_width = 5\n",
    "    for line in lines:\n",
    "        for x1,y1,x2,y2 in line: #No lines with little slope. No lines that cross the middle.\n",
    "            if np.absolute(y1-y2)>(np.absolute(x1-x2)*.4):\n",
    "                if x1>width/2 and x2>width/2:\n",
    "                    cv2.line(lined_image,(x1,y1),(x2,y2),(255,0,0),line_width)\n",
    "                    rx.append(x1)\n",
    "                    rx.append(x2)\n",
    "                    ry.append(y1)\n",
    "                    ry.append(y2)\n",
    "                elif x1<width/2 and x2<width/2:\n",
    "                    cv2.line(lined_image,(x1,y1),(x2,y2),(255,0,0),line_width)\n",
    "                    lx.append(x1)\n",
    "                    lx.append(x2)\n",
    "                    ly.append(y1)\n",
    "                    ly.append(y2)\n",
    "\n",
    "    try:\n",
    "        \n",
    "        r = np.polyfit(rx, ry, 1)\n",
    "        l = np.polyfit(lx, ly, 1)\n",
    "        print([r,l])\n",
    "        #11\n",
    "        fr = np.poly1d(r)\n",
    "        fl = np.poly1d(l)\n",
    "\n",
    "        pxl,pxr = 21,57\n",
    "        shift = 20\n",
    "        w = width*.01\n",
    "        for x in range(23,53,2): #left\n",
    "            cv2.line(lined_image,(int(w*pxl),int(fl(w*pxl)-shift*.5)),(int(w*x),int(fl(w*x)-shift*.5)),(255,255,0),line_width)\n",
    "            pxl=x\n",
    "        for x in range(59,89,2): #right\n",
    "            cv2.line(lined_image,(int(w*pxr),int(height-fl(w*pxr)+5*shift)),(int(w*x),int(height-fl(w*x)+5*shift)),(255,255,0),line_width)\n",
    "            pxr=x\n",
    "    except:\n",
    "        pass\n",
    "    \n",
    "\n",
    "    laned_image = cv2.addWeighted(image, 0.8, lined_image, 1, 0) \n",
    "\n",
    "    return laned_image "
   ]
  },
  {
   "cell_type": "code",
   "execution_count": 101,
   "metadata": {},
   "outputs": [
    {
     "name": "stdout",
     "output_type": "stream",
     "text": [
      "[array([  0.61050051,  17.23768547]), array([ -6.71950289e-01,   8.62319908e+02])]\n",
      "[MoviePy] >>>> Building video final_output1.mp4\n",
      "[MoviePy] Writing video final_output1.mp4\n"
     ]
    },
    {
     "name": "stderr",
     "output_type": "stream",
     "text": [
      "\n",
      "\n",
      "  0%|          | 0/251 [00:00<?, ?it/s]\u001b[A\u001b[A\n",
      "\n",
      "  0%|          | 1/251 [00:00<00:45,  5.49it/s]\u001b[A\u001b[A"
     ]
    },
    {
     "name": "stdout",
     "output_type": "stream",
     "text": [
      "[array([  0.61050051,  17.23768547]), array([ -6.71950289e-01,   8.62319908e+02])]\n",
      "[array([ 0.61891808,  8.56389371]), array([ -5.97231760e-01,   8.20413760e+02])]\n"
     ]
    },
    {
     "name": "stderr",
     "output_type": "stream",
     "text": [
      "\n",
      "\n",
      "  1%|          | 2/251 [00:00<00:47,  5.28it/s]\u001b[A\u001b[A\n",
      "\n",
      "  1%|          | 3/251 [00:00<00:47,  5.26it/s]\u001b[A\u001b[A"
     ]
    },
    {
     "name": "stdout",
     "output_type": "stream",
     "text": [
      "[array([  0.61236525,  12.71750319]), array([ -6.72648717e-01,   8.62961486e+02])]\n"
     ]
    },
    {
     "name": "stderr",
     "output_type": "stream",
     "text": [
      "\n",
      "\n",
      "  2%|▏         | 4/251 [00:00<00:47,  5.21it/s]\u001b[A\u001b[A\n",
      "\n",
      "  2%|▏         | 5/251 [00:00<00:42,  5.73it/s]"
     ]
    },
    {
     "name": "stdout",
     "output_type": "stream",
     "text": [
      "[array([  0.66128231, -23.52882704]), array([ -6.52722687e-01,   8.53813463e+02])]\n",
      "[array([  0.64698523, -12.28080999]), array([ -6.77195291e-01,   8.67513695e+02])]\n"
     ]
    },
    {
     "name": "stderr",
     "output_type": "stream",
     "text": [
      "\u001b[A\u001b[A\n",
      "\n",
      "  2%|▏         | 6/251 [00:01<00:40,  6.04it/s]\u001b[A\u001b[A\n",
      "\n",
      "  3%|▎         | 7/251 [00:01<00:39,  6.19it/s]"
     ]
    },
    {
     "name": "stdout",
     "output_type": "stream",
     "text": [
      "[array([  0.68929868, -45.78636246]), array([ -6.78786849e-01,   8.67336538e+02])]\n",
      "[array([  0.65184978, -17.6724167 ]), array([ -6.80475836e-01,   8.69518885e+02])]\n"
     ]
    },
    {
     "name": "stderr",
     "output_type": "stream",
     "text": [
      "\u001b[A\u001b[A\n",
      "\n",
      "  3%|▎         | 8/251 [00:01<00:38,  6.25it/s]\u001b[A\u001b[A\n",
      "\n",
      "  4%|▎         | 9/251 [00:01<00:36,  6.58it/s]"
     ]
    },
    {
     "name": "stdout",
     "output_type": "stream",
     "text": [
      "[array([  0.66301108, -27.08365733]), array([ -6.98197500e-01,   8.80710165e+02])]\n",
      "[array([  0.60566811,  20.16645514]), array([ -7.04494778e-01,   8.83039166e+02])]\n"
     ]
    },
    {
     "name": "stderr",
     "output_type": "stream",
     "text": [
      "\u001b[A\u001b[A\n",
      "\n",
      "  4%|▍         | 10/251 [00:01<00:36,  6.67it/s]\u001b[A\u001b[A\n",
      "\n",
      "  4%|▍         | 11/251 [00:01<00:35,  6.77it/s]"
     ]
    },
    {
     "name": "stdout",
     "output_type": "stream",
     "text": [
      "[array([ 0.63840134, -7.70419632]), array([ -7.01009144e-01,   8.81135371e+02])]\n",
      "[array([  0.6016856 ,  26.86886479]), array([ -6.82275021e-01,   8.72092469e+02])]\n"
     ]
    },
    {
     "name": "stderr",
     "output_type": "stream",
     "text": [
      "\u001b[A\u001b[A\n",
      "\n",
      "  5%|▍         | 12/251 [00:01<00:36,  6.46it/s]\u001b[A\u001b[A\n",
      "\n",
      "  5%|▌         | 13/251 [00:02<00:36,  6.59it/s]"
     ]
    },
    {
     "name": "stdout",
     "output_type": "stream",
     "text": [
      "[array([  0.60547016,  20.03379189]), array([ -7.12803563e-01,   8.88715196e+02])]\n",
      "[array([  0.60016709,  24.29760108]), array([ -7.05026999e-01,   8.83887455e+02])]\n"
     ]
    },
    {
     "name": "stderr",
     "output_type": "stream",
     "text": [
      "\u001b[A\u001b[A\n",
      "\n",
      "  6%|▌         | 14/251 [00:02<00:38,  6.14it/s]\u001b[A\u001b[A\n",
      "\n",
      "  6%|▌         | 15/251 [00:02<00:37,  6.29it/s]"
     ]
    },
    {
     "name": "stdout",
     "output_type": "stream",
     "text": [
      "[array([  0.61436754,  10.69193834]), array([ -5.84363620e-01,   8.15875549e+02])]\n",
      "[array([  0.60045894,  22.4554923 ]), array([ -6.97519697e-01,   8.78036398e+02])]\n"
     ]
    },
    {
     "name": "stderr",
     "output_type": "stream",
     "text": [
      "\u001b[A\u001b[A\n",
      "\n",
      "  6%|▋         | 16/251 [00:02<00:35,  6.69it/s]\u001b[A\u001b[A"
     ]
    },
    {
     "name": "stdout",
     "output_type": "stream",
     "text": [
      "[array([  0.7131522 , -63.94619144]), array([ -7.09566577e-01,   8.84294507e+02])]\n",
      "[array([  0.69438052, -50.45310584]), array([ -7.07856012e-01,   8.81883405e+02])]\n"
     ]
    },
    {
     "name": "stderr",
     "output_type": "stream",
     "text": [
      "\n",
      "\n",
      "  7%|▋         | 17/251 [00:02<00:38,  6.13it/s]\u001b[A\u001b[A\n",
      "\n",
      "  7%|▋         | 18/251 [00:02<00:40,  5.72it/s]\u001b[A\u001b[A\n",
      "\n",
      "  8%|▊         | 19/251 [00:03<00:40,  5.72it/s]"
     ]
    },
    {
     "name": "stdout",
     "output_type": "stream",
     "text": [
      "[array([ 0.63557219, -3.29699326]), array([ -7.24834172e-01,   8.91591891e+02])]\n",
      "[array([  0.67115883, -32.24608619]), array([ -7.08437292e-01,   8.83853134e+02])]\n"
     ]
    },
    {
     "name": "stderr",
     "output_type": "stream",
     "text": [
      "\u001b[A\u001b[A\n",
      "\n",
      "  8%|▊         | 20/251 [00:03<00:44,  5.21it/s]"
     ]
    },
    {
     "name": "stdout",
     "output_type": "stream",
     "text": [
      "[array([  0.6845454 , -42.94034985]), array([ -7.00583825e-01,   8.79975935e+02])]\n",
      "[array([  0.67273417, -33.67275578]), array([ -7.13412278e-01,   8.85697072e+02])]\n"
     ]
    },
    {
     "name": "stderr",
     "output_type": "stream",
     "text": [
      "\u001b[A\u001b[A\n",
      "\n",
      "  8%|▊         | 21/251 [00:03<00:44,  5.20it/s]\u001b[A\u001b[A\n",
      "\n",
      "  9%|▉         | 22/251 [00:03<00:38,  5.90it/s]\u001b[A\u001b[A\n",
      "\n",
      "  9%|▉         | 23/251 [00:03<00:38,  5.98it/s]"
     ]
    },
    {
     "name": "stdout",
     "output_type": "stream",
     "text": [
      "[array([  0.56655666,  57.95984598]), array([ -6.93516745e-01,   8.75171492e+02])]\n",
      "[array([  0.64610387, -14.68364616]), array([ -6.99794869e-01,   8.79476629e+02])]\n"
     ]
    },
    {
     "name": "stderr",
     "output_type": "stream",
     "text": [
      "\u001b[A\u001b[A\n",
      "\n",
      " 10%|▉         | 24/251 [00:04<00:41,  5.54it/s]"
     ]
    },
    {
     "name": "stdout",
     "output_type": "stream",
     "text": [
      "[array([  0.5811987 ,  47.04387206]), array([ -6.98738049e-01,   8.77503728e+02])]\n"
     ]
    },
    {
     "name": "stderr",
     "output_type": "stream",
     "text": [
      "\u001b[A\u001b[A\n",
      "\n",
      " 10%|▉         | 25/251 [00:04<00:44,  5.03it/s]\u001b[A\u001b[A\n",
      "\n",
      " 10%|█         | 26/251 [00:04<00:42,  5.24it/s]"
     ]
    },
    {
     "name": "stdout",
     "output_type": "stream",
     "text": [
      "[array([  0.61055813,  17.89846295]), array([ -7.00936977e-01,   8.79093748e+02])]\n",
      "[array([  0.59646836,  29.35978524]), array([ -6.45274473e-01,   8.48691825e+02])]\n"
     ]
    },
    {
     "name": "stderr",
     "output_type": "stream",
     "text": [
      "\u001b[A\u001b[A\n",
      "\n",
      " 11%|█         | 27/251 [00:04<00:38,  5.82it/s]\u001b[A\u001b[A\n",
      "\n",
      " 11%|█         | 28/251 [00:04<00:35,  6.34it/s]"
     ]
    },
    {
     "name": "stdout",
     "output_type": "stream",
     "text": [
      "[array([  0.60192699,  20.65537877]), array([ -7.18432230e-01,   8.87662057e+02])]\n",
      "[array([  0.72924121, -75.46920403]), array([ -7.04295116e-01,   8.80281620e+02])]\n"
     ]
    },
    {
     "name": "stderr",
     "output_type": "stream",
     "text": [
      "\u001b[A\u001b[A\n",
      "\n",
      " 12%|█▏        | 29/251 [00:04<00:33,  6.72it/s]\u001b[A\u001b[A\n",
      "\n",
      " 12%|█▏        | 30/251 [00:04<00:30,  7.19it/s]"
     ]
    },
    {
     "name": "stdout",
     "output_type": "stream",
     "text": [
      "[array([  0.55652078,  59.23029364]), array([ -7.04155628e-01,   8.79952722e+02])]\n",
      "[array([  0.66501611, -25.30226632]), array([ -6.95005163e-01,   8.74440752e+02])]\n"
     ]
    },
    {
     "name": "stderr",
     "output_type": "stream",
     "text": [
      "\u001b[A\u001b[A\n",
      "\n",
      " 12%|█▏        | 31/251 [00:05<00:29,  7.46it/s]\u001b[A\u001b[A\n",
      "\n",
      " 13%|█▎        | 32/251 [00:05<00:32,  6.72it/s]"
     ]
    },
    {
     "name": "stdout",
     "output_type": "stream",
     "text": [
      "[array([  0.64976006, -12.04069185]), array([ -6.89305256e-01,   8.72591504e+02])]\n",
      "[array([  0.6895974 , -45.94945362]), array([ -6.87804445e-01,   8.71042797e+02])]\n"
     ]
    },
    {
     "name": "stderr",
     "output_type": "stream",
     "text": [
      "\u001b[A\u001b[A\n",
      "\n",
      " 13%|█▎        | 33/251 [00:05<00:31,  6.97it/s]\u001b[A\u001b[A\n",
      "\n",
      " 14%|█▎        | 34/251 [00:05<00:29,  7.32it/s]"
     ]
    },
    {
     "name": "stdout",
     "output_type": "stream",
     "text": [
      "[array([ 0.63364885,  1.24953202]), array([ -6.94070696e-01,   8.73425876e+02])]\n",
      "[array([  0.6750547 , -37.13158888]), array([ -6.66143900e-01,   8.59765395e+02])]\n"
     ]
    },
    {
     "name": "stderr",
     "output_type": "stream",
     "text": [
      "\u001b[A\u001b[A\n",
      "\n",
      " 14%|█▍        | 35/251 [00:05<00:28,  7.53it/s]\u001b[A\u001b[A\n",
      "\n",
      " 14%|█▍        | 36/251 [00:05<00:27,  7.80it/s]"
     ]
    },
    {
     "name": "stdout",
     "output_type": "stream",
     "text": [
      "[array([  0.59735885,  36.19767308]), array([ -6.86377492e-01,   8.69630948e+02])]\n",
      "[array([  0.62101737,  10.79867047]), array([ -6.73235912e-01,   8.62187698e+02])]\n"
     ]
    },
    {
     "name": "stderr",
     "output_type": "stream",
     "text": [
      "\u001b[A\u001b[A\n",
      "\n",
      " 15%|█▍        | 37/251 [00:05<00:27,  7.86it/s]\u001b[A\u001b[A\n",
      "\n",
      " 15%|█▌        | 38/251 [00:06<00:26,  8.04it/s]"
     ]
    },
    {
     "name": "stdout",
     "output_type": "stream",
     "text": [
      "[array([  0.61535426,  16.64760686]), array([ -6.69969273e-01,   8.63297329e+02])]\n",
      "[array([ 0.62708026,  3.04223003]), array([ -5.85714662e-01,   8.15963439e+02])]\n"
     ]
    },
    {
     "name": "stderr",
     "output_type": "stream",
     "text": [
      "\u001b[A\u001b[A\n",
      "\n",
      " 16%|█▌        | 39/251 [00:06<00:25,  8.17it/s]\u001b[A\u001b[A\n",
      "\n",
      " 16%|█▌        | 40/251 [00:06<00:25,  8.32it/s]"
     ]
    },
    {
     "name": "stdout",
     "output_type": "stream",
     "text": [
      "[array([  0.67486642, -32.35775225]), array([ -6.56390844e-01,   8.53246152e+02])]\n",
      "[array([  0.74305003, -87.01094983]), array([ -6.55302876e-01,   8.53165332e+02])]\n"
     ]
    },
    {
     "name": "stderr",
     "output_type": "stream",
     "text": [
      "\u001b[A\u001b[A\n",
      "\n",
      " 16%|█▋        | 41/251 [00:06<00:24,  8.62it/s]\u001b[A\u001b[A\n",
      "\n",
      " 17%|█▋        | 42/251 [00:06<00:27,  7.70it/s]"
     ]
    },
    {
     "name": "stdout",
     "output_type": "stream",
     "text": [
      "[array([  0.69485125, -48.28912223]), array([ -6.68241960e-01,   8.59922922e+02])]\n",
      "[array([  0.67858427, -35.70657686]), array([ -6.56950412e-01,   8.55045929e+02])]\n"
     ]
    },
    {
     "name": "stderr",
     "output_type": "stream",
     "text": [
      "\u001b[A\u001b[A\n",
      "\n",
      " 17%|█▋        | 43/251 [00:06<00:31,  6.67it/s]\u001b[A\u001b[A\n",
      "\n",
      " 18%|█▊        | 44/251 [00:06<00:31,  6.63it/s]"
     ]
    },
    {
     "name": "stdout",
     "output_type": "stream",
     "text": [
      "[array([  0.64425489, -10.37292922]), array([ -6.62057532e-01,   8.61187159e+02])]\n",
      "[array([  0.66342908, -26.10592474]), array([ -6.75496044e-01,   8.64843476e+02])]\n"
     ]
    },
    {
     "name": "stderr",
     "output_type": "stream",
     "text": [
      "\u001b[A\u001b[A\n",
      "\n",
      " 18%|█▊        | 45/251 [00:06<00:28,  7.18it/s]\u001b[A\u001b[A"
     ]
    },
    {
     "name": "stdout",
     "output_type": "stream",
     "text": [
      "[array([  0.59198618,  37.27217377]), array([ -6.63516129e-01,   8.60093602e+02])]\n"
     ]
    },
    {
     "name": "stderr",
     "output_type": "stream",
     "text": [
      "\n",
      "\n",
      " 18%|█▊        | 46/251 [00:07<00:33,  6.09it/s]\u001b[A\u001b[A\n",
      "\n",
      " 19%|█▊        | 47/251 [00:07<00:31,  6.57it/s]"
     ]
    },
    {
     "name": "stdout",
     "output_type": "stream",
     "text": [
      "[array([ 0.62536396,  5.71907928]), array([ -6.81275045e-01,   8.69546767e+02])]\n",
      "[array([  0.61692412,  10.76457521]), array([ -6.92347384e-01,   8.77157510e+02])]\n"
     ]
    },
    {
     "name": "stderr",
     "output_type": "stream",
     "text": [
      "\u001b[A\u001b[A\n",
      "\n",
      " 19%|█▉        | 48/251 [00:07<00:35,  5.72it/s]"
     ]
    },
    {
     "name": "stdout",
     "output_type": "stream",
     "text": [
      "[array([ 0.62259809,  2.97334984]), array([ -6.74464905e-01,   8.68479784e+02])]\n",
      "[array([ 0.618368  ,  8.50758801]), array([ -6.52561976e-01,   8.54317038e+02])]\n"
     ]
    },
    {
     "name": "stderr",
     "output_type": "stream",
     "text": [
      "\u001b[A\u001b[A\n",
      "\n",
      " 20%|█▉        | 49/251 [00:07<00:36,  5.56it/s]\u001b[A\u001b[A\n",
      "\n",
      " 20%|█▉        | 50/251 [00:07<00:38,  5.28it/s]"
     ]
    },
    {
     "name": "stdout",
     "output_type": "stream",
     "text": [
      "[array([  0.60406501,  21.20743155]), array([ -5.81014272e-01,   8.17071078e+02])]\n",
      "[array([  0.73596209, -80.44448734]), array([ -7.05839924e-01,   8.83421405e+02])]\n"
     ]
    },
    {
     "name": "stderr",
     "output_type": "stream",
     "text": [
      "\u001b[A\u001b[A\n",
      "\n",
      " 20%|██        | 51/251 [00:08<00:39,  5.06it/s]\u001b[A\u001b[A\n",
      "\n",
      " 21%|██        | 52/251 [00:08<00:36,  5.40it/s]\u001b[A\u001b[A\n",
      "\n",
      " 21%|██        | 53/251 [00:08<00:35,  5.63it/s]"
     ]
    },
    {
     "name": "stdout",
     "output_type": "stream",
     "text": [
      "[array([  0.70390774, -56.63512803]), array([ -7.02064763e-01,   8.80250894e+02])]\n",
      "[array([  0.700872  , -54.03973361]), array([ -6.93985129e-01,   8.77653041e+02])]\n"
     ]
    },
    {
     "name": "stderr",
     "output_type": "stream",
     "text": [
      "\u001b[A\u001b[A\n",
      "\n",
      " 22%|██▏       | 54/251 [00:08<00:34,  5.74it/s]\u001b[A\u001b[A\n",
      "\n",
      " 22%|██▏       | 55/251 [00:08<00:34,  5.67it/s]"
     ]
    },
    {
     "name": "stdout",
     "output_type": "stream",
     "text": [
      "[array([  0.70362649, -57.30126713]), array([ -6.83317111e-01,   8.71907247e+02])]\n",
      "[array([  0.68166361, -39.90232054]), array([ -6.77763850e-01,   8.69347234e+02])]\n"
     ]
    },
    {
     "name": "stderr",
     "output_type": "stream",
     "text": [
      "\u001b[A\u001b[A\n",
      "\n",
      " 22%|██▏       | 56/251 [00:09<00:36,  5.36it/s]\u001b[A\u001b[A\n",
      "\n",
      " 23%|██▎       | 57/251 [00:09<00:34,  5.64it/s]"
     ]
    },
    {
     "name": "stdout",
     "output_type": "stream",
     "text": [
      "[array([  0.66368405, -26.55533204]), array([ -6.86583023e-01,   8.74359698e+02])]\n",
      "[array([ 0.64129068, -9.04804485]), array([ -6.93060080e-01,   8.77069058e+02])]\n"
     ]
    },
    {
     "name": "stderr",
     "output_type": "stream",
     "text": [
      "\u001b[A\u001b[A\n",
      "\n",
      " 23%|██▎       | 58/251 [00:09<00:33,  5.78it/s]\u001b[A\u001b[A\n",
      "\n",
      " 24%|██▎       | 59/251 [00:09<00:31,  6.03it/s]"
     ]
    },
    {
     "name": "stdout",
     "output_type": "stream",
     "text": [
      "[array([  0.64960468, -18.13765958]), array([ -7.02503503e-01,   8.80602455e+02])]\n",
      "[array([ 0.63289437, -5.93796182]), array([ -6.86793756e-01,   8.73722715e+02])]\n"
     ]
    },
    {
     "name": "stderr",
     "output_type": "stream",
     "text": [
      "\u001b[A\u001b[A\n",
      "\n",
      " 24%|██▍       | 60/251 [00:09<00:29,  6.41it/s]\u001b[A\u001b[A\n",
      "\n",
      " 24%|██▍       | 61/251 [00:09<00:30,  6.21it/s]"
     ]
    },
    {
     "name": "stdout",
     "output_type": "stream",
     "text": [
      "[array([ 0.6297683 , -1.90650437]), array([ -6.99295801e-01,   8.78625365e+02])]\n",
      "[array([  0.61227419,  13.78241342]), array([ -6.13364762e-01,   8.32817614e+02])]\n"
     ]
    },
    {
     "name": "stderr",
     "output_type": "stream",
     "text": [
      "\u001b[A\u001b[A\n",
      "\n",
      " 25%|██▍       | 62/251 [00:09<00:30,  6.27it/s]\u001b[A\u001b[A"
     ]
    },
    {
     "name": "stdout",
     "output_type": "stream",
     "text": [
      "[array([ 0.62486417,  0.91904359]), array([ -5.74840539e-01,   8.14977705e+02])]\n"
     ]
    },
    {
     "name": "stderr",
     "output_type": "stream",
     "text": [
      "\n",
      "\n",
      " 25%|██▌       | 63/251 [00:10<00:34,  5.48it/s]\u001b[A\u001b[A\n",
      "\n",
      " 25%|██▌       | 64/251 [00:10<00:33,  5.58it/s]"
     ]
    },
    {
     "name": "stdout",
     "output_type": "stream",
     "text": [
      "[array([  0.6907275 , -49.16083847]), array([ -6.81202194e-01,   8.69194684e+02])]\n",
      "[array([  0.69238792, -50.94520346]), array([ -6.74953051e-01,   8.66617850e+02])]\n"
     ]
    },
    {
     "name": "stderr",
     "output_type": "stream",
     "text": [
      "\u001b[A\u001b[A\n",
      "\n",
      " 26%|██▌       | 65/251 [00:10<00:32,  5.74it/s]\u001b[A\u001b[A"
     ]
    },
    {
     "name": "stdout",
     "output_type": "stream",
     "text": [
      "[array([  0.65812895, -23.85394764]), array([ -6.81179070e-01,   8.69679277e+02])]\n",
      "[array([  0.64552989, -13.76392826]), array([ -6.69823430e-01,   8.64584275e+02])]\n"
     ]
    },
    {
     "name": "stderr",
     "output_type": "stream",
     "text": [
      "\n",
      "\n",
      " 26%|██▋       | 66/251 [00:10<00:36,  5.04it/s]\u001b[A\u001b[A\n",
      "\n",
      " 27%|██▋       | 67/251 [00:10<00:33,  5.42it/s]\u001b[A\u001b[A\n",
      "\n",
      " 27%|██▋       | 68/251 [00:11<00:30,  5.98it/s]"
     ]
    },
    {
     "name": "stdout",
     "output_type": "stream",
     "text": [
      "[array([  0.64937323, -18.14750024]), array([ -6.91033603e-01,   8.76797318e+02])]\n",
      "[array([ 0.63304804, -5.6956263 ]), array([ -6.84880008e-01,   8.74424409e+02])]\n"
     ]
    },
    {
     "name": "stderr",
     "output_type": "stream",
     "text": [
      "\u001b[A\u001b[A\n",
      "\n",
      " 27%|██▋       | 69/251 [00:11<00:30,  6.04it/s]\u001b[A\u001b[A\n",
      "\n",
      " 28%|██▊       | 70/251 [00:11<00:28,  6.42it/s]"
     ]
    },
    {
     "name": "stdout",
     "output_type": "stream",
     "text": [
      "[array([  0.58638925,  34.60644356]), array([ -6.82651817e-01,   8.73026892e+02])]\n",
      "[array([  0.610985  ,  12.40782539]), array([ -6.85399700e-01,   8.75315580e+02])]\n"
     ]
    },
    {
     "name": "stderr",
     "output_type": "stream",
     "text": [
      "\u001b[A\u001b[A\n",
      "\n",
      " 28%|██▊       | 71/251 [00:11<00:26,  6.81it/s]\u001b[A\u001b[A\n",
      "\n",
      " 29%|██▊       | 72/251 [00:11<00:25,  7.08it/s]"
     ]
    },
    {
     "name": "stdout",
     "output_type": "stream",
     "text": [
      "[array([  0.59544872,  25.32631983]), array([ -7.01984221e-01,   8.84283223e+02])]\n",
      "[array([  0.59185202,  26.26959929]), array([ -7.11434286e-01,   8.91011597e+02])]\n"
     ]
    },
    {
     "name": "stderr",
     "output_type": "stream",
     "text": [
      "\u001b[A\u001b[A\n",
      "\n",
      " 29%|██▉       | 73/251 [00:12<00:38,  4.68it/s]"
     ]
    },
    {
     "name": "stdout",
     "output_type": "stream",
     "text": [
      "[array([  0.59790165,  20.59979894]), array([ -6.41988524e-01,   8.53142757e+02])]\n"
     ]
    },
    {
     "name": "stderr",
     "output_type": "stream",
     "text": [
      "\u001b[A\u001b[A\n",
      "\n",
      " 29%|██▉       | 74/251 [00:12<00:36,  4.87it/s]\u001b[A\u001b[A\n",
      "\n",
      " 30%|██▉       | 75/251 [00:12<00:31,  5.67it/s]"
     ]
    },
    {
     "name": "stdout",
     "output_type": "stream",
     "text": [
      "[array([  0.54706355,  62.85217478]), array([ -7.04194243e-01,   8.86509006e+02])]\n",
      "[array([  0.60993981,  11.76607572]), array([ -7.06353642e-01,   8.90038362e+02])]\n"
     ]
    },
    {
     "name": "stderr",
     "output_type": "stream",
     "text": [
      "\u001b[A\u001b[A\n",
      "\n",
      " 30%|███       | 76/251 [00:12<00:29,  5.94it/s]\u001b[A\u001b[A\n",
      "\n",
      " 31%|███       | 77/251 [00:12<00:28,  6.07it/s]"
     ]
    },
    {
     "name": "stdout",
     "output_type": "stream",
     "text": [
      "[array([  0.58070737,  35.5328561 ]), array([ -7.01411345e-01,   8.88672181e+02])]\n",
      "[array([  0.54594922,  63.39071709]), array([ -7.05692895e-01,   8.90825961e+02])]\n"
     ]
    },
    {
     "name": "stderr",
     "output_type": "stream",
     "text": [
      "\u001b[A\u001b[A\n",
      "\n",
      " 31%|███       | 78/251 [00:12<00:28,  6.15it/s]\u001b[A\u001b[A\n",
      "\n",
      " 31%|███▏      | 79/251 [00:12<00:26,  6.48it/s]"
     ]
    },
    {
     "name": "stdout",
     "output_type": "stream",
     "text": [
      "[array([  0.55536043,  63.61871852]), array([ -7.15916097e-01,   8.96825941e+02])]\n",
      "[array([   0.47735039,  125.62781123]), array([ -7.38715997e-01,   9.08590197e+02])]\n"
     ]
    },
    {
     "name": "stderr",
     "output_type": "stream",
     "text": [
      "\u001b[A\u001b[A\n",
      "\n",
      " 32%|███▏      | 80/251 [00:13<00:29,  5.75it/s]"
     ]
    },
    {
     "name": "stdout",
     "output_type": "stream",
     "text": [
      "[array([  0.57253129,  42.55516922]), array([ -7.37212254e-01,   9.06677459e+02])]\n"
     ]
    },
    {
     "name": "stderr",
     "output_type": "stream",
     "text": [
      "\u001b[A\u001b[A\n",
      "\n",
      " 32%|███▏      | 81/251 [00:13<00:30,  5.50it/s]\u001b[A\u001b[A\n",
      "\n",
      " 33%|███▎      | 82/251 [00:13<00:28,  5.97it/s]"
     ]
    },
    {
     "name": "stdout",
     "output_type": "stream",
     "text": [
      "[array([  0.52885357,  82.81597956]), array([ -7.18514441e-01,   8.96683937e+02])]\n",
      "[array([  0.56456934,  48.46892716]), array([ -7.43565856e-01,   9.10463634e+02])]\n"
     ]
    },
    {
     "name": "stderr",
     "output_type": "stream",
     "text": [
      "\u001b[A\u001b[A\n",
      "\n",
      " 33%|███▎      | 83/251 [00:13<00:26,  6.26it/s]\u001b[A\u001b[A"
     ]
    },
    {
     "name": "stdout",
     "output_type": "stream",
     "text": [
      "[array([  0.55932984,  52.37316935]), array([ -7.41151036e-01,   9.09705197e+02])]\n",
      "[array([  0.57215573,  42.14558447]), array([ -7.39405043e-01,   9.08544099e+02])]\n"
     ]
    },
    {
     "name": "stderr",
     "output_type": "stream",
     "text": [
      "\n",
      "\n",
      " 33%|███▎      | 84/251 [00:13<00:33,  4.92it/s]\u001b[A\u001b[A\n",
      "\n",
      " 34%|███▍      | 85/251 [00:14<00:30,  5.42it/s]\u001b[A\u001b[A"
     ]
    },
    {
     "name": "stdout",
     "output_type": "stream",
     "text": [
      "[array([  0.56492598,  47.8681976 ]), array([ -6.23347825e-01,   8.44969247e+02])]\n",
      "[array([  0.60533036,  17.66941336]), array([ -7.49636295e-01,   9.14617391e+02])]\n"
     ]
    },
    {
     "name": "stderr",
     "output_type": "stream",
     "text": [
      "\n",
      "\n",
      " 34%|███▍      | 86/251 [00:14<00:31,  5.22it/s]\u001b[A\u001b[A\n",
      "\n",
      " 35%|███▍      | 87/251 [00:14<00:32,  5.07it/s]"
     ]
    },
    {
     "name": "stdout",
     "output_type": "stream",
     "text": [
      "[array([  0.60598698,  16.67865755]), array([ -7.63767541e-01,   9.21235888e+02])]\n"
     ]
    },
    {
     "name": "stderr",
     "output_type": "stream",
     "text": [
      "\u001b[A\u001b[A\n",
      "\n",
      " 35%|███▌      | 88/251 [00:14<00:32,  4.95it/s]\u001b[A\u001b[A\n",
      "\n",
      " 35%|███▌      | 89/251 [00:14<00:31,  5.10it/s]"
     ]
    },
    {
     "name": "stdout",
     "output_type": "stream",
     "text": [
      "[array([  0.59800851,  24.49140375]), array([ -7.48228009e-01,   9.14455097e+02])]\n",
      "[array([  0.58803616,  31.88473109]), array([ -7.74142513e-01,   9.29367381e+02])]\n"
     ]
    },
    {
     "name": "stderr",
     "output_type": "stream",
     "text": [
      "\u001b[A\u001b[A\n",
      "\n",
      " 36%|███▌      | 90/251 [00:15<00:31,  5.05it/s]\u001b[A\u001b[A\n",
      "\n",
      " 36%|███▋      | 91/251 [00:15<00:30,  5.22it/s]"
     ]
    },
    {
     "name": "stdout",
     "output_type": "stream",
     "text": [
      "[array([ 0.62307479,  3.00122569]), array([ -7.65316908e-01,   9.24435852e+02])]\n",
      "[array([  0.56720105,  50.09594396]), array([ -7.89559432e-01,   9.37298013e+02])]\n"
     ]
    },
    {
     "name": "stderr",
     "output_type": "stream",
     "text": [
      "\u001b[A\u001b[A\n",
      "\n",
      " 37%|███▋      | 92/251 [00:15<00:29,  5.38it/s]\u001b[A\u001b[A"
     ]
    },
    {
     "name": "stdout",
     "output_type": "stream",
     "text": [
      "[array([  0.5571764 ,  57.35783059]), array([ -7.82953487e-01,   9.33471223e+02])]\n",
      "[array([  0.55211665,  61.09666453]), array([ -7.90201308e-01,   9.35776004e+02])]\n"
     ]
    },
    {
     "name": "stderr",
     "output_type": "stream",
     "text": [
      "\n",
      "\n",
      " 37%|███▋      | 93/251 [00:15<00:29,  5.37it/s]\u001b[A\u001b[A\n",
      "\n",
      " 37%|███▋      | 94/251 [00:15<00:26,  5.85it/s]\u001b[A\u001b[A\n",
      "\n",
      " 38%|███▊      | 95/251 [00:15<00:25,  6.01it/s]"
     ]
    },
    {
     "name": "stdout",
     "output_type": "stream",
     "text": [
      "[array([  0.56484941,  48.44212612]), array([ -8.01053375e-01,   9.41150326e+02])]\n",
      "[array([  0.55963791,  54.87583707]), array([ -7.97935639e-01,   9.41546663e+02])]\n"
     ]
    },
    {
     "name": "stderr",
     "output_type": "stream",
     "text": [
      "\u001b[A\u001b[A\n",
      "\n",
      " 38%|███▊      | 96/251 [00:16<00:29,  5.28it/s]"
     ]
    },
    {
     "name": "stdout",
     "output_type": "stream",
     "text": [
      "[array([  0.54549202,  68.13248232]), array([ -7.95894579e-01,   9.37499645e+02])]\n"
     ]
    },
    {
     "name": "stderr",
     "output_type": "stream",
     "text": [
      "\u001b[A\u001b[A\n",
      "\n",
      " 39%|███▊      | 97/251 [00:16<00:28,  5.34it/s]\u001b[A\u001b[A\n",
      "\n",
      " 39%|███▉      | 98/251 [00:16<00:27,  5.59it/s]"
     ]
    },
    {
     "name": "stdout",
     "output_type": "stream",
     "text": [
      "[array([  0.5551738 ,  57.21791517]), array([ -7.36064020e-01,   9.06367588e+02])]\n",
      "[array([   0.5024264 ,  101.47330961]), array([ -8.01309799e-01,   9.39385340e+02])]\n"
     ]
    },
    {
     "name": "stderr",
     "output_type": "stream",
     "text": [
      "\u001b[A\u001b[A\n",
      "\n",
      " 39%|███▉      | 99/251 [00:16<00:27,  5.52it/s]\u001b[A\u001b[A\n",
      "\n",
      " 40%|███▉      | 100/251 [00:16<00:26,  5.80it/s]"
     ]
    },
    {
     "name": "stdout",
     "output_type": "stream",
     "text": [
      "[array([ 0.62936076,  3.24820404]), array([ -7.88705477e-01,   9.30736499e+02])]\n",
      "[array([ 0.6232422 ,  6.89424434]), array([ -7.83094261e-01,   9.27278783e+02])]\n"
     ]
    },
    {
     "name": "stderr",
     "output_type": "stream",
     "text": [
      "\u001b[A\u001b[A\n",
      "\n",
      " 40%|████      | 101/251 [00:16<00:24,  6.18it/s]\u001b[A\u001b[A\n",
      "\n",
      " 41%|████      | 102/251 [00:17<00:23,  6.43it/s]"
     ]
    },
    {
     "name": "stdout",
     "output_type": "stream",
     "text": [
      "[array([  0.53786322,  76.81983692]), array([ -7.78848100e-01,   9.24493328e+02])]\n",
      "[array([ 0.63619707, -7.56414295]), array([ -7.66100045e-01,   9.16750251e+02])]\n"
     ]
    },
    {
     "name": "stderr",
     "output_type": "stream",
     "text": [
      "\u001b[A\u001b[A\n",
      "\n",
      " 41%|████      | 103/251 [00:17<00:23,  6.24it/s]\u001b[A\u001b[A"
     ]
    },
    {
     "name": "stdout",
     "output_type": "stream",
     "text": [
      "[array([  0.5905085 ,  33.14669525]), array([ -7.71678998e-01,   9.19474669e+02])]\n",
      "[array([  0.59600345,  26.22277269]), array([ -7.75430868e-01,   9.20725906e+02])]\n"
     ]
    },
    {
     "name": "stderr",
     "output_type": "stream",
     "text": [
      "\n",
      "\n",
      " 41%|████▏     | 104/251 [00:17<00:25,  5.73it/s]\u001b[A\u001b[A\n",
      "\n",
      " 42%|████▏     | 105/251 [00:17<00:25,  5.72it/s]\u001b[A\u001b[A\n",
      "\n",
      " 42%|████▏     | 106/251 [00:17<00:22,  6.41it/s]"
     ]
    },
    {
     "name": "stdout",
     "output_type": "stream",
     "text": [
      "[array([  0.59657571,  25.86891386]), array([ -7.63422595e-01,   9.14876927e+02])]\n",
      "[array([  0.59828817,  25.29383064]), array([ -7.73929315e-01,   9.18620785e+02])]\n"
     ]
    },
    {
     "name": "stderr",
     "output_type": "stream",
     "text": [
      "\u001b[A\u001b[A\n",
      "\n",
      " 43%|████▎     | 107/251 [00:18<00:30,  4.67it/s]"
     ]
    },
    {
     "name": "stdout",
     "output_type": "stream",
     "text": [
      "[array([  0.55573583,  66.31800673]), array([ -7.86419264e-01,   9.24210443e+02])]\n"
     ]
    },
    {
     "name": "stderr",
     "output_type": "stream",
     "text": [
      "\u001b[A\u001b[A\n",
      "\n",
      " 43%|████▎     | 108/251 [00:18<00:28,  4.97it/s]\u001b[A\u001b[A\n",
      "\n",
      " 43%|████▎     | 109/251 [00:18<00:25,  5.66it/s]"
     ]
    },
    {
     "name": "stdout",
     "output_type": "stream",
     "text": [
      "[array([   0.4487086 ,  179.21519689]), array([ -7.91782917e-01,   9.27001755e+02])]\n",
      "[array([  2.36370983e-01,   3.94263283e+02]), array([ -7.74323114e-01,   9.14213518e+02])]\n"
     ]
    },
    {
     "name": "stderr",
     "output_type": "stream",
     "text": [
      "\u001b[A\u001b[A\n",
      "\n",
      " 44%|████▍     | 110/251 [00:18<00:23,  6.12it/s]\u001b[A\u001b[A\n",
      "\n",
      " 44%|████▍     | 111/251 [00:18<00:20,  6.81it/s]"
     ]
    },
    {
     "name": "stdout",
     "output_type": "stream",
     "text": [
      "[array([   0.35626425,  293.91399683]), array([ -7.34758632e-01,   8.92076342e+02])]\n",
      "[array([   0.90256869, -203.80159257]), array([ -7.07562731e-01,   8.78273739e+02])]\n"
     ]
    },
    {
     "name": "stderr",
     "output_type": "stream",
     "text": [
      "\u001b[A\u001b[A\n",
      "\n",
      " 45%|████▍     | 112/251 [00:18<00:20,  6.91it/s]\u001b[A\u001b[A\n",
      "\n",
      " 45%|████▌     | 113/251 [00:18<00:19,  6.98it/s]"
     ]
    },
    {
     "name": "stdout",
     "output_type": "stream",
     "text": [
      "[array([  0.64686116,  44.00952025]), array([ -7.10758785e-01,   8.75237516e+02])]\n",
      "[array([  0.67618572, -38.65066215]), array([ -6.67058917e-01,   8.49469516e+02])]\n"
     ]
    },
    {
     "name": "stderr",
     "output_type": "stream",
     "text": [
      "\u001b[A\u001b[A\n",
      "\n",
      " 45%|████▌     | 114/251 [00:19<00:19,  6.87it/s]\u001b[A\u001b[A"
     ]
    },
    {
     "name": "stdout",
     "output_type": "stream",
     "text": [
      "[array([  0.67775295, -42.54113941]), array([ -6.82494177e-01,   8.52883336e+02])]\n",
      "[array([  0.66105018, -29.17464304]), array([ -6.75073296e-01,   8.50958155e+02])]\n"
     ]
    },
    {
     "name": "stderr",
     "output_type": "stream",
     "text": [
      "\n",
      "\n",
      " 46%|████▌     | 115/251 [00:19<00:26,  5.08it/s]\u001b[A\u001b[A\n",
      "\n",
      " 46%|████▌     | 116/251 [00:19<00:25,  5.27it/s]\u001b[A\u001b[A\n",
      "\n",
      " 47%|████▋     | 117/251 [00:19<00:23,  5.78it/s]"
     ]
    },
    {
     "name": "stdout",
     "output_type": "stream",
     "text": [
      "[array([  0.64865426, -14.49367934]), array([ -6.77847809e-01,   8.61604068e+02])]\n",
      "[array([  0.60142311,  21.58464316]), array([ -6.71316610e-01,   8.57662220e+02])]\n"
     ]
    },
    {
     "name": "stderr",
     "output_type": "stream",
     "text": [
      "\u001b[A\u001b[A\n",
      "\n",
      " 47%|████▋     | 118/251 [00:19<00:21,  6.12it/s]\u001b[A\u001b[A\n",
      "\n",
      " 47%|████▋     | 119/251 [00:19<00:20,  6.37it/s]"
     ]
    },
    {
     "name": "stdout",
     "output_type": "stream",
     "text": [
      "[array([  0.56145705,  60.34223752]), array([ -6.61298165e-01,   8.55957082e+02])]\n",
      "[array([  0.60339402,  22.75718133]), array([ -6.74710172e-01,   8.61718228e+02])]\n"
     ]
    },
    {
     "name": "stderr",
     "output_type": "stream",
     "text": [
      "\u001b[A\u001b[A\n",
      "\n",
      " 48%|████▊     | 120/251 [00:20<00:20,  6.46it/s]\u001b[A\u001b[A\n",
      "\n",
      " 48%|████▊     | 121/251 [00:20<00:19,  6.59it/s]"
     ]
    },
    {
     "name": "stdout",
     "output_type": "stream",
     "text": [
      "[array([  0.57346288,  51.21983361]), array([ -6.51864262e-01,   8.48194528e+02])]\n",
      "[array([  0.57716004,  50.04621336]), array([ -6.38334185e-01,   8.40491167e+02])]\n"
     ]
    },
    {
     "name": "stderr",
     "output_type": "stream",
     "text": [
      "\u001b[A\u001b[A\n",
      "\n",
      " 49%|████▊     | 122/251 [00:20<00:19,  6.48it/s]\u001b[A\u001b[A"
     ]
    },
    {
     "name": "stdout",
     "output_type": "stream",
     "text": [
      "[array([  0.60345477,  22.231673  ]), array([ -6.40132955e-01,   8.35096358e+02])]\n"
     ]
    },
    {
     "name": "stderr",
     "output_type": "stream",
     "text": [
      "\n",
      "\n",
      "\r",
      " 49%|████▉     | 123/251 [00:20<00:25,  5.11it/s]"
     ]
    },
    {
     "name": "stdout",
     "output_type": "stream",
     "text": [
      "[array([  0.61424952,  14.02577446]), array([ -6.47566708e-01,   8.38549791e+02])]\n"
     ]
    },
    {
     "name": "stderr",
     "output_type": "stream",
     "text": [
      "\u001b[A\u001b[A\n",
      "\n",
      " 49%|████▉     | 124/251 [00:20<00:23,  5.30it/s]\u001b[A\u001b[A\n",
      "\n",
      " 50%|████▉     | 125/251 [00:21<00:23,  5.40it/s]"
     ]
    },
    {
     "name": "stdout",
     "output_type": "stream",
     "text": [
      "[array([  0.59833594,  27.83308431]), array([ -6.58642487e-01,   8.44974401e+02])]\n",
      "[array([  0.7068179, -56.4168291]), array([ -6.53134021e-01,   8.41780747e+02])]\n"
     ]
    },
    {
     "name": "stderr",
     "output_type": "stream",
     "text": [
      "\u001b[A\u001b[A\n",
      "\n",
      " 50%|█████     | 126/251 [00:21<00:22,  5.62it/s]\u001b[A\u001b[A\n",
      "\n",
      " 51%|█████     | 127/251 [00:21<00:21,  5.74it/s]"
     ]
    },
    {
     "name": "stdout",
     "output_type": "stream",
     "text": [
      "[array([  0.68181609, -37.57305337]), array([ -6.65035158e-01,   8.46556583e+02])]\n",
      "[array([  0.70058599, -52.53205755]), array([ -6.53665579e-01,   8.43709719e+02])]\n"
     ]
    },
    {
     "name": "stderr",
     "output_type": "stream",
     "text": [
      "\u001b[A\u001b[A\n",
      "\n",
      " 51%|█████     | 128/251 [00:21<00:24,  5.08it/s]"
     ]
    },
    {
     "name": "stdout",
     "output_type": "stream",
     "text": [
      "[array([  0.69689925, -49.72000579]), array([ -6.56920827e-01,   8.44258635e+02])]\n"
     ]
    },
    {
     "name": "stderr",
     "output_type": "stream",
     "text": [
      "\u001b[A\u001b[A\n",
      "\n",
      " 51%|█████▏    | 129/251 [00:21<00:25,  4.84it/s]"
     ]
    },
    {
     "name": "stdout",
     "output_type": "stream",
     "text": [
      "[array([  0.66088419, -21.13140418]), array([ -6.45856454e-01,   8.39037714e+02])]\n",
      "[array([  0.66516932, -25.6200137 ]), array([ -6.48077516e-01,   8.38322227e+02])]\n"
     ]
    },
    {
     "name": "stderr",
     "output_type": "stream",
     "text": [
      "\u001b[A\u001b[A\n",
      "\n",
      " 52%|█████▏    | 130/251 [00:22<00:24,  5.04it/s]\u001b[A\u001b[A\n",
      "\n",
      " 52%|█████▏    | 131/251 [00:22<00:23,  5.09it/s]\u001b[A\u001b[A"
     ]
    },
    {
     "name": "stdout",
     "output_type": "stream",
     "text": [
      "[array([ 0.64415457, -7.39442533]), array([ -6.23396660e-01,   8.29636434e+02])]\n"
     ]
    },
    {
     "name": "stderr",
     "output_type": "stream",
     "text": [
      "\n",
      "\n",
      " 53%|█████▎    | 132/251 [00:22<00:24,  4.80it/s]\u001b[A\u001b[A\n",
      "\n",
      " 53%|█████▎    | 133/251 [00:22<00:21,  5.47it/s]"
     ]
    },
    {
     "name": "stdout",
     "output_type": "stream",
     "text": [
      "[array([ 0.64133097, -7.61649679]), array([ -6.29647080e-01,   8.28979978e+02])]\n",
      "[array([ 0.62647314,  4.35425222]), array([ -6.22514234e-01,   8.24740880e+02])]\n"
     ]
    },
    {
     "name": "stderr",
     "output_type": "stream",
     "text": [
      "\u001b[A\u001b[A\n",
      "\n",
      " 53%|█████▎    | 134/251 [00:22<00:19,  5.96it/s]\u001b[A\u001b[A\n",
      "\n",
      " 54%|█████▍    | 135/251 [00:22<00:17,  6.46it/s]"
     ]
    },
    {
     "name": "stdout",
     "output_type": "stream",
     "text": [
      "[array([ 0.62244398,  6.7144701 ]), array([ -6.28640832e-01,   8.25335251e+02])]\n",
      "[array([ 0.63865725, -7.13691879]), array([ -6.25553523e-01,   8.22563757e+02])]\n"
     ]
    },
    {
     "name": "stderr",
     "output_type": "stream",
     "text": [
      "\u001b[A\u001b[A\n",
      "\n",
      " 54%|█████▍    | 136/251 [00:22<00:17,  6.71it/s]\u001b[A\u001b[A"
     ]
    },
    {
     "name": "stdout",
     "output_type": "stream",
     "text": [
      "[array([  0.59769626,  28.48595587]), array([ -6.13903621e-01,   8.21678887e+02])]\n"
     ]
    },
    {
     "name": "stderr",
     "output_type": "stream",
     "text": [
      "\n",
      "\n",
      "\r",
      " 55%|█████▍    | 137/251 [00:23<00:19,  5.86it/s]"
     ]
    },
    {
     "name": "stdout",
     "output_type": "stream",
     "text": [
      "[array([  0.59698997,  31.84615385]), array([ -6.31226353e-01,   8.28112365e+02])]\n"
     ]
    },
    {
     "name": "stderr",
     "output_type": "stream",
     "text": [
      "\u001b[A\u001b[A\n",
      "\n",
      " 55%|█████▍    | 138/251 [00:23<00:26,  4.32it/s]"
     ]
    },
    {
     "name": "stdout",
     "output_type": "stream",
     "text": [
      "[array([  0.62266739,  12.33176159]), array([ -6.17686531e-01,   8.24881980e+02])]\n"
     ]
    },
    {
     "name": "stderr",
     "output_type": "stream",
     "text": [
      "\u001b[A\u001b[A\n",
      "\n",
      " 55%|█████▌    | 139/251 [00:23<00:23,  4.71it/s]\u001b[A\u001b[A"
     ]
    },
    {
     "name": "stdout",
     "output_type": "stream",
     "text": [
      "[array([  0.59163177,  38.73006825]), array([ -6.17164140e-01,   8.24473522e+02])]\n"
     ]
    },
    {
     "name": "stderr",
     "output_type": "stream",
     "text": [
      "\n",
      "\n",
      " 56%|█████▌    | 140/251 [00:23<00:24,  4.60it/s]\u001b[A\u001b[A\n",
      "\n",
      " 56%|█████▌    | 141/251 [00:24<00:21,  5.05it/s]"
     ]
    },
    {
     "name": "stdout",
     "output_type": "stream",
     "text": [
      "[array([ 0.62809735,  9.71886879]), array([ -6.14133429e-01,   8.22308261e+02])]\n",
      "[array([  0.6281764 ,  10.79486593]), array([ -6.23261091e-01,   8.28102751e+02])]\n"
     ]
    },
    {
     "name": "stderr",
     "output_type": "stream",
     "text": [
      "\u001b[A\u001b[A\n",
      "\n",
      " 57%|█████▋    | 142/251 [00:24<00:19,  5.54it/s]\u001b[A\u001b[A\n",
      "\n",
      " 57%|█████▋    | 143/251 [00:24<00:18,  5.69it/s]"
     ]
    },
    {
     "name": "stdout",
     "output_type": "stream",
     "text": [
      "[array([  0.61688102,  20.4161163 ]), array([ -5.95729285e-01,   8.15616186e+02])]\n",
      "[array([  0.59928168,  32.89058822]), array([ -5.85904720e-01,   8.07908781e+02])]\n"
     ]
    },
    {
     "name": "stderr",
     "output_type": "stream",
     "text": [
      "\u001b[A\u001b[A\n",
      "\n",
      " 57%|█████▋    | 144/251 [00:24<00:17,  5.95it/s]\u001b[A\u001b[A\n",
      "\n",
      " 58%|█████▊    | 145/251 [00:24<00:16,  6.49it/s]"
     ]
    },
    {
     "name": "stdout",
     "output_type": "stream",
     "text": [
      "[array([  0.60845441,  26.90964002]), array([ -6.23739387e-01,   8.25123508e+02])]\n",
      "[array([  0.58525659,  48.04162232]), array([ -6.37418764e-01,   8.33856243e+02])]\n"
     ]
    },
    {
     "name": "stderr",
     "output_type": "stream",
     "text": [
      "\u001b[A\u001b[A"
     ]
    },
    {
     "name": "stdout",
     "output_type": "stream",
     "text": [
      "[array([ 0.64392312, -9.03963147]), array([ -6.07550194e-01,   8.21427736e+02])]\n"
     ]
    },
    {
     "name": "stderr",
     "output_type": "stream",
     "text": [
      "\n",
      "\n",
      " 58%|█████▊    | 146/251 [00:25<00:23,  4.54it/s]\u001b[A\u001b[A\n",
      "\n",
      " 59%|█████▊    | 147/251 [00:25<00:21,  4.94it/s]\u001b[A\u001b[A\n",
      "\n",
      " 59%|█████▉    | 148/251 [00:25<00:19,  5.24it/s]"
     ]
    },
    {
     "name": "stdout",
     "output_type": "stream",
     "text": [
      "[array([  0.65516614, -20.11462812]), array([ -5.95861641e-01,   8.16481175e+02])]\n",
      "[array([   0.83119785, -148.16816379]), array([ -5.89392347e-01,   8.13999013e+02])]\n"
     ]
    },
    {
     "name": "stderr",
     "output_type": "stream",
     "text": [
      "\u001b[A\u001b[A\n",
      "\n",
      " 59%|█████▉    | 149/251 [00:25<00:20,  4.93it/s]\u001b[A\u001b[A\n",
      "\n",
      " 60%|█████▉    | 150/251 [00:25<00:18,  5.46it/s]"
     ]
    },
    {
     "name": "stdout",
     "output_type": "stream",
     "text": [
      "[array([  0.73665742, -75.27930472]), array([ -5.83518219e-01,   8.12309546e+02])]\n",
      "[array([  0.70111705, -50.01677619]), array([ -5.93323960e-01,   8.18581219e+02])]\n"
     ]
    },
    {
     "name": "stderr",
     "output_type": "stream",
     "text": [
      "\u001b[A\u001b[A\n",
      "\n",
      " 60%|██████    | 151/251 [00:25<00:17,  5.76it/s]\u001b[A\u001b[A\n",
      "\n",
      " 61%|██████    | 152/251 [00:26<00:16,  6.11it/s]"
     ]
    },
    {
     "name": "stdout",
     "output_type": "stream",
     "text": [
      "[array([  0.70551757, -53.66897323]), array([ -5.91843424e-01,   8.16801031e+02])]\n",
      "[array([  0.6029295 ,  35.43953388]), array([ -5.99030842e-01,   8.22818301e+02])]\n"
     ]
    },
    {
     "name": "stderr",
     "output_type": "stream",
     "text": [
      "\u001b[A\u001b[A\n",
      "\n",
      " 61%|██████    | 153/251 [00:26<00:16,  5.95it/s]\u001b[A\u001b[A"
     ]
    },
    {
     "name": "stdout",
     "output_type": "stream",
     "text": [
      "[array([  0.6817837 , -35.28350858]), array([ -5.99599129e-01,   8.19212036e+02])]\n",
      "[array([ 0.65242263, -9.32631761]), array([ -5.86795934e-01,   8.13592150e+02])]\n"
     ]
    },
    {
     "name": "stderr",
     "output_type": "stream",
     "text": [
      "\n",
      "\n",
      " 61%|██████▏   | 154/251 [00:26<00:17,  5.64it/s]\u001b[A\u001b[A\n",
      "\n",
      " 62%|██████▏   | 155/251 [00:26<00:16,  5.69it/s]\u001b[A\u001b[A"
     ]
    },
    {
     "name": "stdout",
     "output_type": "stream",
     "text": [
      "[array([  0.60773021,  30.59369521]), array([ -6.06177913e-01,   8.20480061e+02])]\n",
      "[array([  0.66271158, -17.9542704 ]), array([ -6.04497188e-01,   8.21296216e+02])]\n"
     ]
    },
    {
     "name": "stderr",
     "output_type": "stream",
     "text": [
      "\n",
      "\n",
      " 62%|██████▏   | 156/251 [00:26<00:16,  5.61it/s]\u001b[A\u001b[A\n",
      "\n",
      " 63%|██████▎   | 157/251 [00:27<00:17,  5.38it/s]"
     ]
    },
    {
     "name": "stdout",
     "output_type": "stream",
     "text": [
      "[array([  0.66998631, -25.90289641]), array([ -5.24975359e-01,   7.75866874e+02])]\n",
      "[array([   0.79324759, -124.65466238]), array([ -5.45007320e-01,   7.82840874e+02])]\n"
     ]
    },
    {
     "name": "stderr",
     "output_type": "stream",
     "text": [
      "\u001b[A\u001b[A\n",
      "\n",
      " 63%|██████▎   | 158/251 [00:27<00:17,  5.37it/s]\u001b[A\u001b[A\n",
      "\n",
      " 63%|██████▎   | 159/251 [00:27<00:15,  5.91it/s]\u001b[A\u001b[A\n",
      "\n",
      " 64%|██████▎   | 160/251 [00:27<00:14,  6.38it/s]"
     ]
    },
    {
     "name": "stdout",
     "output_type": "stream",
     "text": [
      "[array([  0.75135135, -92.05405405]), array([ -5.12280877e-01,   7.64661280e+02])]\n",
      "[array([  0.74690022, -91.09724591]), array([ -5.57785485e-01,   7.88626873e+02])]\n"
     ]
    },
    {
     "name": "stderr",
     "output_type": "stream",
     "text": [
      "\u001b[A\u001b[A\n",
      "\n",
      " 64%|██████▍   | 161/251 [00:27<00:14,  6.03it/s]\u001b[A\u001b[A\n",
      "\n",
      " 65%|██████▍   | 162/251 [00:27<00:13,  6.36it/s]"
     ]
    },
    {
     "name": "stdout",
     "output_type": "stream",
     "text": [
      "[array([  0.72057632, -68.44754615]), array([ -5.80360005e-01,   8.03663460e+02])]\n",
      "[array([  0.71074629, -61.59291168]), array([ -5.87611374e-01,   8.06137010e+02])]\n"
     ]
    },
    {
     "name": "stderr",
     "output_type": "stream",
     "text": [
      "\u001b[A\u001b[A\n",
      "\n",
      " 65%|██████▍   | 163/251 [00:28<00:18,  4.75it/s]"
     ]
    },
    {
     "name": "stdout",
     "output_type": "stream",
     "text": [
      "[array([  0.70402961, -57.92699137]), array([ -5.54930055e-01,   7.90718636e+02])]\n"
     ]
    },
    {
     "name": "stderr",
     "output_type": "stream",
     "text": [
      "\u001b[A\u001b[A\n",
      "\n",
      " 65%|██████▌   | 164/251 [00:28<00:16,  5.27it/s]\u001b[A\u001b[A\n",
      "\n",
      " 66%|██████▌   | 165/251 [00:28<00:14,  6.04it/s]"
     ]
    },
    {
     "name": "stdout",
     "output_type": "stream",
     "text": [
      "[array([ 0.64046413, -3.1486354 ]), array([ -5.68102234e-01,   8.00868777e+02])]\n",
      "[array([  0.61743287,  20.49719471]), array([ -5.76036229e-01,   8.07807013e+02])]\n"
     ]
    },
    {
     "name": "stderr",
     "output_type": "stream",
     "text": [
      "\u001b[A\u001b[A\n",
      "\n",
      " 66%|██████▌   | 166/251 [00:28<00:13,  6.41it/s]\u001b[A\u001b[A\n",
      "\n",
      " 67%|██████▋   | 167/251 [00:28<00:12,  6.93it/s]"
     ]
    },
    {
     "name": "stdout",
     "output_type": "stream",
     "text": [
      "[array([  0.61163044,  24.79722613]), array([ -5.81695831e-01,   8.12303719e+02])]\n",
      "[array([  0.64914375, -10.48083001]), array([ -5.87650667e-01,   8.17886296e+02])]\n"
     ]
    },
    {
     "name": "stderr",
     "output_type": "stream",
     "text": [
      "\u001b[A\u001b[A\n",
      "\n",
      " 67%|██████▋   | 168/251 [00:28<00:11,  7.20it/s]\u001b[A\u001b[A\n",
      "\n",
      " 67%|██████▋   | 169/251 [00:28<00:11,  7.34it/s]"
     ]
    },
    {
     "name": "stdout",
     "output_type": "stream",
     "text": [
      "[array([ 0.64170555, -2.58112746]), array([ -5.93257705e-01,   8.22591192e+02])]\n",
      "[array([ 0.64030113, -1.78431138]), array([ -5.81760986e-01,   8.18147790e+02])]\n"
     ]
    },
    {
     "name": "stderr",
     "output_type": "stream",
     "text": [
      "\u001b[A\u001b[A"
     ]
    },
    {
     "name": "stdout",
     "output_type": "stream",
     "text": [
      "[array([  0.7244204 , -64.44140717]), array([ -6.13899894e-01,   8.38200257e+02])]\n"
     ]
    },
    {
     "name": "stderr",
     "output_type": "stream",
     "text": [
      "\n",
      "\n",
      " 68%|██████▊   | 170/251 [00:29<00:16,  5.00it/s]\u001b[A\u001b[A\n",
      "\n",
      " 68%|██████▊   | 171/251 [00:29<00:14,  5.34it/s]\u001b[A\u001b[A\n",
      "\n",
      " 69%|██████▊   | 172/251 [00:29<00:13,  5.91it/s]"
     ]
    },
    {
     "name": "stdout",
     "output_type": "stream",
     "text": [
      "[array([  0.66868799, -19.85221727]), array([ -6.16696542e-01,   8.40979375e+02])]\n",
      "[array([  0.69086788, -38.1260623 ]), array([ -6.33036725e-01,   8.51277160e+02])]\n"
     ]
    },
    {
     "name": "stderr",
     "output_type": "stream",
     "text": [
      "\u001b[A\u001b[A\n",
      "\n",
      " 69%|██████▉   | 173/251 [00:29<00:12,  6.18it/s]\u001b[A\u001b[A"
     ]
    },
    {
     "name": "stdout",
     "output_type": "stream",
     "text": [
      "[array([  0.67077859, -26.30228212]), array([ -6.52483107e-01,   8.58505735e+02])]\n",
      "[array([  0.59080979,  38.38990584]), array([ -6.61606407e-01,   8.62171871e+02])]\n"
     ]
    },
    {
     "name": "stderr",
     "output_type": "stream",
     "text": [
      "\n",
      "\n",
      " 69%|██████▉   | 174/251 [00:29<00:13,  5.80it/s]\u001b[A\u001b[A\n",
      "\n",
      " 70%|██████▉   | 175/251 [00:29<00:11,  6.39it/s]\u001b[A\u001b[A"
     ]
    },
    {
     "name": "stdout",
     "output_type": "stream",
     "text": [
      "[array([  0.60458949,  24.87287646]), array([ -6.53719503e-01,   8.53959050e+02])]\n",
      "[array([ 0.63412365, -3.52517228]), array([ -6.67194790e-01,   8.59521155e+02])]\n"
     ]
    },
    {
     "name": "stderr",
     "output_type": "stream",
     "text": [
      "\n",
      "\n",
      " 70%|███████   | 176/251 [00:30<00:12,  5.83it/s]\u001b[A\u001b[A"
     ]
    },
    {
     "name": "stdout",
     "output_type": "stream",
     "text": [
      "[array([  0.60523171,  22.93126856]), array([ -6.65167538e-01,   8.59701952e+02])]\n"
     ]
    },
    {
     "name": "stderr",
     "output_type": "stream",
     "text": [
      "\n",
      "\n",
      " 71%|███████   | 177/251 [00:30<00:16,  4.51it/s]\u001b[A\u001b[A\n",
      "\n",
      " 71%|███████   | 178/251 [00:30<00:15,  4.76it/s]\u001b[A\u001b[A"
     ]
    },
    {
     "name": "stdout",
     "output_type": "stream",
     "text": [
      "[array([ 0.62923571, -2.66832518]), array([ -6.63896639e-01,   8.57655253e+02])]\n"
     ]
    },
    {
     "name": "stderr",
     "output_type": "stream",
     "text": [
      "\n",
      "\n",
      " 71%|███████▏  | 179/251 [00:30<00:14,  4.94it/s]\u001b[A\u001b[A\n",
      "\n",
      " 72%|███████▏  | 180/251 [00:31<00:12,  5.48it/s]"
     ]
    },
    {
     "name": "stdout",
     "output_type": "stream",
     "text": [
      "[array([  0.6090235 ,  19.17769522]), array([ -6.71688427e-01,   8.62166025e+02])]\n",
      "[array([ 0.62099481,  7.45384554]), array([ -6.76200532e-01,   8.67489140e+02])]\n"
     ]
    },
    {
     "name": "stderr",
     "output_type": "stream",
     "text": [
      "\u001b[A\u001b[A\n",
      "\n",
      " 72%|███████▏  | 181/251 [00:31<00:14,  4.92it/s]"
     ]
    },
    {
     "name": "stdout",
     "output_type": "stream",
     "text": [
      "[array([ 0.61743094,  8.45321345]), array([ -6.84645909e-01,   8.70919965e+02])]\n"
     ]
    },
    {
     "name": "stderr",
     "output_type": "stream",
     "text": [
      "\u001b[A\u001b[A\n",
      "\n",
      " 73%|███████▎  | 182/251 [00:31<00:14,  4.92it/s]"
     ]
    },
    {
     "name": "stdout",
     "output_type": "stream",
     "text": [
      "[array([  0.74434975, -89.08598451]), array([ -6.77089553e-01,   8.67722554e+02])]\n"
     ]
    },
    {
     "name": "stderr",
     "output_type": "stream",
     "text": [
      "\u001b[A\u001b[A\n",
      "\n",
      " 73%|███████▎  | 183/251 [00:31<00:13,  4.93it/s]\u001b[A\u001b[A\n",
      "\n",
      " 73%|███████▎  | 184/251 [00:31<00:12,  5.54it/s]"
     ]
    },
    {
     "name": "stdout",
     "output_type": "stream",
     "text": [
      "[array([  0.68820369, -45.78342777]), array([ -6.89254701e-01,   8.74691865e+02])]\n",
      "[array([  0.69632393, -53.4869903 ]), array([ -6.89150402e-01,   8.74636983e+02])]\n"
     ]
    },
    {
     "name": "stderr",
     "output_type": "stream",
     "text": [
      "\u001b[A\u001b[A\n",
      "\n",
      " 74%|███████▎  | 185/251 [00:31<00:10,  6.10it/s]\u001b[A\u001b[A"
     ]
    },
    {
     "name": "stdout",
     "output_type": "stream",
     "text": [
      "[array([  0.65486731, -20.66628959]), array([ -6.76855425e-01,   8.70205008e+02])]\n",
      "[array([ 0.63127891, -1.25316696]), array([ -6.80493628e-01,   8.71193050e+02])]\n"
     ]
    },
    {
     "name": "stderr",
     "output_type": "stream",
     "text": [
      "\n",
      "\n",
      " 74%|███████▍  | 186/251 [00:32<00:13,  4.94it/s]\u001b[A\u001b[A\n",
      "\n",
      " 75%|███████▍  | 187/251 [00:32<00:12,  5.20it/s]\u001b[A\u001b[A"
     ]
    },
    {
     "name": "stdout",
     "output_type": "stream",
     "text": [
      "[array([  0.54776985,  71.89631747]), array([ -6.85619804e-01,   8.77010776e+02])]\n"
     ]
    },
    {
     "name": "stderr",
     "output_type": "stream",
     "text": [
      "\n",
      "\n",
      " 75%|███████▍  | 188/251 [00:32<00:12,  5.04it/s]\u001b[A\u001b[A\n",
      "\n",
      " 75%|███████▌  | 189/251 [00:32<00:11,  5.54it/s]"
     ]
    },
    {
     "name": "stdout",
     "output_type": "stream",
     "text": [
      "[array([  0.57634082,  47.51460621]), array([ -7.01303743e-01,   8.84523204e+02])]\n",
      "[array([  0.56143053,  61.45887473]), array([ -7.14809745e-01,   8.93325138e+02])]\n"
     ]
    },
    {
     "name": "stderr",
     "output_type": "stream",
     "text": [
      "\u001b[A\u001b[A"
     ]
    },
    {
     "name": "stdout",
     "output_type": "stream",
     "text": [
      "[array([ 0.61546808,  9.49898761]), array([ -5.98777761e-01,   8.28688283e+02])]\n"
     ]
    },
    {
     "name": "stderr",
     "output_type": "stream",
     "text": [
      "\n",
      "\n",
      " 76%|███████▌  | 190/251 [00:33<00:14,  4.26it/s]\u001b[A\u001b[A\n",
      "\n",
      " 76%|███████▌  | 191/251 [00:33<00:12,  4.82it/s]\u001b[A\u001b[A\n",
      "\n",
      " 76%|███████▋  | 192/251 [00:33<00:11,  5.08it/s]"
     ]
    },
    {
     "name": "stdout",
     "output_type": "stream",
     "text": [
      "[array([  0.6071901 ,  13.20413827]), array([ -7.18718604e-01,   8.90825908e+02])]\n",
      "[array([  0.61175666,  10.18297286]), array([ -7.32701990e-01,   8.99357393e+02])]\n"
     ]
    },
    {
     "name": "stderr",
     "output_type": "stream",
     "text": [
      "\u001b[A\u001b[A\n",
      "\n",
      " 77%|███████▋  | 193/251 [00:33<00:11,  5.15it/s]\u001b[A\u001b[A"
     ]
    },
    {
     "name": "stdout",
     "output_type": "stream",
     "text": [
      "[array([  0.69525348, -55.29475028]), array([ -7.33245732e-01,   9.03049329e+02])]\n"
     ]
    },
    {
     "name": "stderr",
     "output_type": "stream",
     "text": [
      "\n",
      "\n",
      "\r",
      " 77%|███████▋  | 194/251 [00:33<00:11,  5.08it/s]"
     ]
    },
    {
     "name": "stdout",
     "output_type": "stream",
     "text": [
      "[array([  0.6427975, -14.5650227]), array([ -7.19112339e-01,   8.94292702e+02])]\n"
     ]
    },
    {
     "name": "stderr",
     "output_type": "stream",
     "text": [
      "\u001b[A\u001b[A\n",
      "\n",
      " 78%|███████▊  | 195/251 [00:34<00:11,  4.97it/s]\u001b[A\u001b[A\n",
      "\n",
      " 78%|███████▊  | 196/251 [00:34<00:09,  5.61it/s]"
     ]
    },
    {
     "name": "stdout",
     "output_type": "stream",
     "text": [
      "[array([  0.66383713, -31.06412379]), array([ -7.38216774e-01,   9.05268639e+02])]\n",
      "[array([  0.6600244 , -31.11238364]), array([ -7.45509578e-01,   9.06937574e+02])]\n"
     ]
    },
    {
     "name": "stderr",
     "output_type": "stream",
     "text": [
      "\u001b[A\u001b[A"
     ]
    },
    {
     "name": "stdout",
     "output_type": "stream",
     "text": [
      "[array([  0.59562646,  23.74919848]), array([ -7.26367464e-01,   8.99508036e+02])]\n"
     ]
    },
    {
     "name": "stderr",
     "output_type": "stream",
     "text": [
      "\n",
      "\n",
      " 78%|███████▊  | 197/251 [00:34<00:13,  4.03it/s]\u001b[A\u001b[A\n",
      "\n",
      " 79%|███████▉  | 198/251 [00:34<00:11,  4.42it/s]\u001b[A\u001b[A"
     ]
    },
    {
     "name": "stdout",
     "output_type": "stream",
     "text": [
      "[array([ 0.62898873, -4.44561076]), array([ -7.35031925e-01,   9.01360993e+02])]\n",
      "[array([  0.55509722,  59.9693158 ]), array([ -7.24257107e-01,   8.97053857e+02])]\n"
     ]
    },
    {
     "name": "stderr",
     "output_type": "stream",
     "text": [
      "\n",
      "\n",
      " 79%|███████▉  | 199/251 [00:34<00:11,  4.69it/s]\u001b[A\u001b[A\n",
      "\n",
      " 80%|███████▉  | 200/251 [00:35<00:09,  5.47it/s]\u001b[A\u001b[A\n",
      "\n",
      " 80%|████████  | 201/251 [00:35<00:08,  5.98it/s]"
     ]
    },
    {
     "name": "stdout",
     "output_type": "stream",
     "text": [
      "[array([  0.58253692,  36.80095569]), array([ -7.25106223e-01,   8.97811276e+02])]\n",
      "[array([  0.6046114 ,  15.53361153]), array([ -6.76001258e-01,   8.71891986e+02])]\n"
     ]
    },
    {
     "name": "stderr",
     "output_type": "stream",
     "text": [
      "\u001b[A\u001b[A\n",
      "\n",
      " 80%|████████  | 202/251 [00:35<00:07,  6.23it/s]\u001b[A\u001b[A\n",
      "\n",
      " 81%|████████  | 203/251 [00:35<00:07,  6.34it/s]"
     ]
    },
    {
     "name": "stdout",
     "output_type": "stream",
     "text": [
      "[array([  0.60095611,  18.77134508]), array([ -6.14651107e-01,   8.40151497e+02])]\n",
      "[array([  0.58561268,  30.31816466]), array([ -7.37197938e-01,   9.05077176e+02])]\n"
     ]
    },
    {
     "name": "stderr",
     "output_type": "stream",
     "text": [
      "\u001b[A\u001b[A\n",
      "\n",
      " 81%|████████▏ | 204/251 [00:35<00:09,  4.75it/s]"
     ]
    },
    {
     "name": "stdout",
     "output_type": "stream",
     "text": [
      "[array([  0.59175179,  24.67344473]), array([ -7.28848890e-01,   8.98348625e+02])]\n"
     ]
    },
    {
     "name": "stderr",
     "output_type": "stream",
     "text": [
      "\u001b[A\u001b[A\n",
      "\n",
      " 82%|████████▏ | 205/251 [00:35<00:08,  5.27it/s]\u001b[A\u001b[A\n",
      "\n",
      " 82%|████████▏ | 206/251 [00:36<00:07,  5.87it/s]"
     ]
    },
    {
     "name": "stdout",
     "output_type": "stream",
     "text": [
      "[array([  0.66676358, -29.82527826]), array([ -7.39831238e-01,   9.05265339e+02])]\n",
      "[array([  0.66823922, -30.52759399]), array([ -7.43156939e-01,   9.08385006e+02])]\n"
     ]
    },
    {
     "name": "stderr",
     "output_type": "stream",
     "text": [
      "\u001b[A\u001b[A\n",
      "\n",
      " 82%|████████▏ | 207/251 [00:36<00:06,  6.42it/s]\u001b[A\u001b[A\n",
      "\n",
      " 83%|████████▎ | 208/251 [00:36<00:06,  6.26it/s]"
     ]
    },
    {
     "name": "stdout",
     "output_type": "stream",
     "text": [
      "[array([  0.66476512, -28.98657248]), array([ -7.30446810e-01,   9.01645613e+02])]\n",
      "[array([  0.56066969,  57.62777144]), array([ -7.20365851e-01,   8.97784941e+02])]\n"
     ]
    },
    {
     "name": "stderr",
     "output_type": "stream",
     "text": [
      "\u001b[A\u001b[A\n",
      "\n",
      " 83%|████████▎ | 209/251 [00:36<00:07,  5.71it/s]"
     ]
    },
    {
     "name": "stdout",
     "output_type": "stream",
     "text": [
      "[array([ 0.62743004,  0.10718171]), array([ -7.31860150e-01,   9.04406149e+02])]\n"
     ]
    },
    {
     "name": "stderr",
     "output_type": "stream",
     "text": [
      "\u001b[A\u001b[A\n",
      "\n",
      " 84%|████████▎ | 210/251 [00:36<00:07,  5.33it/s]"
     ]
    },
    {
     "name": "stdout",
     "output_type": "stream",
     "text": [
      "[array([  0.5827623 ,  39.33413279]), array([ -7.44546457e-01,   9.10112854e+02])]\n"
     ]
    },
    {
     "name": "stderr",
     "output_type": "stream",
     "text": [
      "\u001b[A\u001b[A\n",
      "\n",
      " 84%|████████▍ | 211/251 [00:37<00:08,  4.59it/s]"
     ]
    },
    {
     "name": "stdout",
     "output_type": "stream",
     "text": [
      "[array([  0.5814545 ,  38.46144063]), array([ -7.70115434e-01,   9.24920728e+02])]\n"
     ]
    },
    {
     "name": "stderr",
     "output_type": "stream",
     "text": [
      "\u001b[A\u001b[A\n",
      "\n",
      " 84%|████████▍ | 212/251 [00:37<00:08,  4.75it/s]\u001b[A\u001b[A\n",
      "\n",
      " 85%|████████▍ | 213/251 [00:37<00:07,  5.11it/s]"
     ]
    },
    {
     "name": "stdout",
     "output_type": "stream",
     "text": [
      "[array([  0.56454718,  53.88538478]), array([ -7.54330801e-01,   9.16268407e+02])]\n",
      "[array([  0.5836527 ,  32.80178642]), array([ -6.37229922e-01,   8.50466590e+02])]\n"
     ]
    },
    {
     "name": "stderr",
     "output_type": "stream",
     "text": [
      "\u001b[A\u001b[A\n",
      "\n",
      " 85%|████████▌ | 214/251 [00:37<00:06,  5.67it/s]\u001b[A\u001b[A\n",
      "\n",
      " 86%|████████▌ | 215/251 [00:37<00:06,  5.88it/s]"
     ]
    },
    {
     "name": "stdout",
     "output_type": "stream",
     "text": [
      "[array([  0.59116311,  25.30534382]), array([ -7.51688059e-01,   9.13620064e+02])]\n",
      "[array([  0.58373458,  30.32339256]), array([ -7.63640466e-01,   9.21016193e+02])]\n"
     ]
    },
    {
     "name": "stderr",
     "output_type": "stream",
     "text": [
      "\u001b[A\u001b[A\n",
      "\n",
      " 86%|████████▌ | 216/251 [00:37<00:05,  6.26it/s]\u001b[A\u001b[A\n",
      "\n",
      " 86%|████████▋ | 217/251 [00:37<00:05,  6.21it/s]"
     ]
    },
    {
     "name": "stdout",
     "output_type": "stream",
     "text": [
      "[array([ 0.62314346,  2.32469976]), array([ -7.77679164e-01,   9.31265327e+02])]\n",
      "[array([  0.65124616, -21.14578354]), array([ -7.64346467e-01,   9.21199757e+02])]\n"
     ]
    },
    {
     "name": "stderr",
     "output_type": "stream",
     "text": [
      "\u001b[A\u001b[A\n",
      "\n",
      " 87%|████████▋ | 218/251 [00:38<00:05,  6.01it/s]\u001b[A\u001b[A"
     ]
    },
    {
     "name": "stdout",
     "output_type": "stream",
     "text": [
      "[array([ 0.63257558, -7.26532572]), array([ -7.79152102e-01,   9.29582818e+02])]\n",
      "[array([  0.5977907,  19.9113004]), array([ -7.78172992e-01,   9.27909482e+02])]\n"
     ]
    },
    {
     "name": "stderr",
     "output_type": "stream",
     "text": [
      "\n",
      "\n",
      " 87%|████████▋ | 219/251 [00:38<00:06,  4.70it/s]\u001b[A\u001b[A\n",
      "\n",
      " 88%|████████▊ | 220/251 [00:38<00:05,  5.25it/s]\u001b[A\u001b[A\n",
      "\n",
      " 88%|████████▊ | 221/251 [00:38<00:05,  5.97it/s]"
     ]
    },
    {
     "name": "stdout",
     "output_type": "stream",
     "text": [
      "[array([  0.5370274 ,  72.52484837]), array([ -7.85348440e-01,   9.32785788e+02])]\n",
      "[array([ 0.61739497,  4.8311189 ]), array([ -7.96304305e-01,   9.37648118e+02])]\n"
     ]
    },
    {
     "name": "stderr",
     "output_type": "stream",
     "text": [
      "\u001b[A\u001b[A\n",
      "\n",
      " 88%|████████▊ | 222/251 [00:38<00:05,  5.56it/s]\u001b[A\u001b[A\n",
      "\n",
      " 89%|████████▉ | 223/251 [00:39<00:04,  6.10it/s]"
     ]
    },
    {
     "name": "stdout",
     "output_type": "stream",
     "text": [
      "[array([  0.54082419,  71.51207212]), array([ -7.86751421e-01,   9.32236362e+02])]\n",
      "[array([  0.53929438,  74.98298614]), array([ -7.77411874e-01,   9.27173043e+02])]\n"
     ]
    },
    {
     "name": "stderr",
     "output_type": "stream",
     "text": [
      "\u001b[A\u001b[A\n",
      "\n",
      " 89%|████████▉ | 224/251 [00:39<00:04,  6.34it/s]\u001b[A\u001b[A\n",
      "\n",
      " 90%|████████▉ | 225/251 [00:39<00:03,  6.65it/s]"
     ]
    },
    {
     "name": "stdout",
     "output_type": "stream",
     "text": [
      "[array([  0.55974879,  54.55083112]), array([ -7.81886231e-01,   9.29810208e+02])]\n",
      "[array([  0.57973178,  36.73103791]), array([ -6.31982714e-01,   8.51037733e+02])]\n"
     ]
    },
    {
     "name": "stderr",
     "output_type": "stream",
     "text": [
      "\u001b[A\u001b[A\n",
      "\n",
      " 90%|█████████ | 226/251 [00:39<00:03,  6.26it/s]\u001b[A\u001b[A"
     ]
    },
    {
     "name": "stdout",
     "output_type": "stream",
     "text": [
      "[array([  0.5745354 ,  42.11340933]), array([ -7.73989840e-01,   9.27370432e+02])]\n"
     ]
    },
    {
     "name": "stderr",
     "output_type": "stream",
     "text": [
      "\n",
      "\n",
      "\r",
      " 90%|█████████ | 227/251 [00:39<00:04,  5.30it/s]"
     ]
    },
    {
     "name": "stdout",
     "output_type": "stream",
     "text": [
      "[array([  0.57716795,  40.85129355]), array([ -7.65036564e-01,   9.22003457e+02])]\n"
     ]
    },
    {
     "name": "stderr",
     "output_type": "stream",
     "text": [
      "\u001b[A\u001b[A\n",
      "\n",
      " 91%|█████████ | 228/251 [00:39<00:04,  5.39it/s]\u001b[A\u001b[A"
     ]
    },
    {
     "name": "stdout",
     "output_type": "stream",
     "text": [
      "[array([  0.71565856, -64.51578368]), array([ -7.73090574e-01,   9.26657483e+02])]\n"
     ]
    },
    {
     "name": "stderr",
     "output_type": "stream",
     "text": [
      "\n",
      "\n",
      " 91%|█████████ | 229/251 [00:40<00:04,  5.21it/s]\u001b[A\u001b[A\n",
      "\n",
      " 92%|█████████▏| 230/251 [00:40<00:03,  5.55it/s]"
     ]
    },
    {
     "name": "stdout",
     "output_type": "stream",
     "text": [
      "[array([  0.69942708, -52.64888224]), array([ -7.66814749e-01,   9.20325694e+02])]\n",
      "[array([  0.67283526, -34.55571956]), array([ -7.51259350e-01,   9.13886700e+02])]\n"
     ]
    },
    {
     "name": "stderr",
     "output_type": "stream",
     "text": [
      "\u001b[A\u001b[A\n",
      "\n",
      " 92%|█████████▏| 231/251 [00:40<00:04,  4.34it/s]"
     ]
    },
    {
     "name": "stdout",
     "output_type": "stream",
     "text": [
      "[array([  0.66412739, -29.21524659]), array([ -7.60690979e-01,   9.17453152e+02])]\n"
     ]
    },
    {
     "name": "stderr",
     "output_type": "stream",
     "text": [
      "\u001b[A\u001b[A\n",
      "\n",
      " 92%|█████████▏| 232/251 [00:40<00:04,  4.37it/s]"
     ]
    },
    {
     "name": "stdout",
     "output_type": "stream",
     "text": [
      "[array([  0.56305816,  55.87524005]), array([ -7.61471222e-01,   9.16346536e+02])]\n",
      "[array([  0.57532269,  43.58447193]), array([ -7.58719590e-01,   9.13329321e+02])]\n"
     ]
    },
    {
     "name": "stderr",
     "output_type": "stream",
     "text": [
      "\u001b[A\u001b[A\n",
      "\n",
      " 93%|█████████▎| 233/251 [00:41<00:03,  4.63it/s]\u001b[A\u001b[A\n",
      "\n",
      " 93%|█████████▎| 234/251 [00:41<00:03,  4.54it/s]"
     ]
    },
    {
     "name": "stdout",
     "output_type": "stream",
     "text": [
      "[array([  0.5545646 ,  64.53255152]), array([ -7.70925823e-01,   9.22894358e+02])]\n"
     ]
    },
    {
     "name": "stderr",
     "output_type": "stream",
     "text": [
      "\u001b[A\u001b[A\n",
      "\n",
      " 94%|█████████▎| 235/251 [00:41<00:03,  4.70it/s]\u001b[A\u001b[A"
     ]
    },
    {
     "name": "stdout",
     "output_type": "stream",
     "text": [
      "[array([ 0.62025257,  2.79236731]), array([ -7.91724605e-01,   9.29631600e+02])]\n"
     ]
    },
    {
     "name": "stderr",
     "output_type": "stream",
     "text": [
      "\n",
      "\n",
      " 94%|█████████▍| 236/251 [00:41<00:03,  4.79it/s]\u001b[A\u001b[A\n",
      "\n",
      " 94%|█████████▍| 237/251 [00:41<00:02,  5.55it/s]"
     ]
    },
    {
     "name": "stdout",
     "output_type": "stream",
     "text": [
      "[array([  0.59680959,  20.54649928]), array([ -6.41238263e-01,   8.50969908e+02])]\n",
      "[array([ 0.61434768,  7.69349387]), array([ -7.77845496e-01,   9.24956929e+02])]\n"
     ]
    },
    {
     "name": "stderr",
     "output_type": "stream",
     "text": [
      "\u001b[A\u001b[A\n",
      "\n",
      " 95%|█████████▍| 238/251 [00:42<00:02,  5.35it/s]"
     ]
    },
    {
     "name": "stdout",
     "output_type": "stream",
     "text": [
      "[array([  0.59739253,  20.20705682]), array([ -7.66920840e-01,   9.18462714e+02])]\n",
      "[array([  0.70196029, -58.00046184]), array([ -7.72583436e-01,   9.21728275e+02])]\n"
     ]
    },
    {
     "name": "stderr",
     "output_type": "stream",
     "text": [
      "\u001b[A\u001b[A\n",
      "\n",
      " 95%|█████████▌| 239/251 [00:42<00:02,  5.30it/s]\u001b[A\u001b[A\n",
      "\n",
      " 96%|█████████▌| 240/251 [00:42<00:02,  5.26it/s]\u001b[A\u001b[A"
     ]
    },
    {
     "name": "stdout",
     "output_type": "stream",
     "text": [
      "[array([  0.65827506, -23.77334416]), array([ -7.56611837e-01,   9.13969770e+02])]\n"
     ]
    },
    {
     "name": "stderr",
     "output_type": "stream",
     "text": [
      "\n",
      "\n",
      "\r",
      " 96%|█████████▌| 241/251 [00:42<00:01,  5.12it/s]"
     ]
    },
    {
     "name": "stdout",
     "output_type": "stream",
     "text": [
      "[array([  0.66407846, -29.3459338 ]), array([ -7.80678582e-01,   9.25668572e+02])]\n"
     ]
    },
    {
     "name": "stderr",
     "output_type": "stream",
     "text": [
      "\u001b[A\u001b[A\n",
      "\n",
      " 96%|█████████▋| 242/251 [00:42<00:01,  4.96it/s]"
     ]
    },
    {
     "name": "stdout",
     "output_type": "stream",
     "text": [
      "[array([ 0.62259017,  6.34190161]), array([ -7.71977165e-01,   9.22255289e+02])]\n",
      "[array([  0.56469559,  52.99931976]), array([ -7.63823257e-01,   9.18334260e+02])]\n"
     ]
    },
    {
     "name": "stderr",
     "output_type": "stream",
     "text": [
      "\u001b[A\u001b[A\n",
      "\n",
      " 97%|█████████▋| 243/251 [00:43<00:01,  5.01it/s]\u001b[A\u001b[A\n",
      "\n",
      " 97%|█████████▋| 244/251 [00:43<00:01,  5.55it/s]\u001b[A\u001b[A"
     ]
    },
    {
     "name": "stdout",
     "output_type": "stream",
     "text": [
      "[array([  0.57584719,  45.15737609]), array([ -7.51627187e-01,   9.10178238e+02])]\n"
     ]
    },
    {
     "name": "stderr",
     "output_type": "stream",
     "text": [
      "\n",
      "\n",
      " 98%|█████████▊| 245/251 [00:43<00:01,  5.37it/s]\u001b[A\u001b[A\n",
      "\n",
      " 98%|█████████▊| 246/251 [00:43<00:00,  5.90it/s]"
     ]
    },
    {
     "name": "stdout",
     "output_type": "stream",
     "text": [
      "[array([  0.54154044,  77.1318721 ]), array([ -7.35433901e-01,   9.00628066e+02])]\n",
      "[array([  0.58843481,  35.07139667]), array([ -7.21107350e-01,   8.92797379e+02])]\n"
     ]
    },
    {
     "name": "stderr",
     "output_type": "stream",
     "text": [
      "\u001b[A\u001b[A\n",
      "\n",
      " 98%|█████████▊| 247/251 [00:43<00:00,  5.38it/s]"
     ]
    },
    {
     "name": "stdout",
     "output_type": "stream",
     "text": [
      "[array([  0.60407524,  19.45908534]), array([ -6.57001538e-01,   8.61141994e+02])]\n"
     ]
    },
    {
     "name": "stderr",
     "output_type": "stream",
     "text": [
      "\u001b[A\u001b[A\n",
      "\n",
      " 99%|█████████▉| 248/251 [00:43<00:00,  5.40it/s]\u001b[A\u001b[A"
     ]
    },
    {
     "name": "stdout",
     "output_type": "stream",
     "text": [
      "[array([  0.591345  ,  29.99494168]), array([ -7.49303259e-01,   9.10513234e+02])]\n"
     ]
    },
    {
     "name": "stderr",
     "output_type": "stream",
     "text": [
      "\n",
      "\n",
      " 99%|█████████▉| 249/251 [00:44<00:00,  5.03it/s]\u001b[A\u001b[A\n",
      "\n",
      "100%|█████████▉| 250/251 [00:44<00:00,  5.24it/s]"
     ]
    },
    {
     "name": "stdout",
     "output_type": "stream",
     "text": [
      "[array([  0.60331532,  20.34062796]), array([ -7.12963455e-01,   8.90108490e+02])]\n",
      "[array([  0.65783753, -20.12540046]), array([ -7.29992210e-01,   9.01038512e+02])]\n"
     ]
    },
    {
     "name": "stderr",
     "output_type": "stream",
     "text": [
      "\u001b[A\u001b[A\n",
      "\n",
      "100%|██████████| 251/251 [00:44<00:00,  4.19it/s]"
     ]
    },
    {
     "name": "stdout",
     "output_type": "stream",
     "text": [
      "[array([ 0.64130973, -8.46998991]), array([ -7.26857605e-01,   8.97223489e+02])]\n"
     ]
    },
    {
     "name": "stderr",
     "output_type": "stream",
     "text": [
      "\u001b[A\u001b[A\n",
      "\n",
      "\u001b[A\u001b[A"
     ]
    },
    {
     "name": "stdout",
     "output_type": "stream",
     "text": [
      "[MoviePy] Done.\n",
      "[MoviePy] >>>> Video ready: final_output1.mp4 \n",
      "\n",
      "CPU times: user 2min 3s, sys: 9.41 s, total: 2min 13s\n",
      "Wall time: 47.7 s\n"
     ]
    }
   ],
   "source": [
    "final_clip_output = 'final_output1.mp4'\n",
    "test_clip = VideoFileClip(\"test.mp4\")\n",
    "final_clip = test_clip.fl_image(LaneLineDetector)\n",
    "%time final_clip.write_videofile(final_clip_output, audio=False)"
   ]
  },
  {
   "cell_type": "code",
   "execution_count": 3,
   "metadata": {
    "scrolled": true
   },
   "outputs": [
    {
     "name": "stderr",
     "output_type": "stream",
     "text": [
      "ERROR:root:An unexpected error occurred while tokenizing input\n",
      "The following traceback may be corrupted or invalid\n",
      "The error message is: ('EOF in multi-line string', (1, 0))\n",
      "\n"
     ]
    },
    {
     "ename": "NameError",
     "evalue": "name 'final_clip_output' is not defined",
     "output_type": "error",
     "traceback": [
      "\u001b[0;31m---------------------------------------------------------------------------\u001b[0m",
      "\u001b[0;31mNameError\u001b[0m                                 Traceback (most recent call last)",
      "\u001b[0;32m<ipython-input-3-ef303f281987>\u001b[0m in \u001b[0;36m<module>\u001b[0;34m()\u001b[0m\n\u001b[1;32m      3\u001b[0m   \u001b[0;34m<\u001b[0m\u001b[0msource\u001b[0m \u001b[0msrc\u001b[0m\u001b[0;34m=\u001b[0m\u001b[0;34m\"{0}\"\u001b[0m \u001b[0mtype\u001b[0m\u001b[0;34m=\u001b[0m\u001b[0;34m\"video/mp4\"\u001b[0m\u001b[0;34m>\u001b[0m\u001b[0;34m\u001b[0m\u001b[0m\n\u001b[1;32m      4\u001b[0m \u001b[0;34m<\u001b[0m\u001b[0;34m/\u001b[0m\u001b[0mvideo\u001b[0m\u001b[0;34m>\u001b[0m\u001b[0;34m\u001b[0m\u001b[0m\n\u001b[0;32m----> 5\u001b[0;31m \"\"\".format(final_clip_output))\n\u001b[0m",
      "\u001b[0;31mNameError\u001b[0m: name 'final_clip_output' is not defined"
     ]
    }
   ],
   "source": [
    "HTML(\"\"\"\n",
    "<video width=\"960\" height=\"520\" controls>\n",
    "  <source src=\"{0}\" type=\"video/mp4\">\n",
    "</video>\n",
    "\"\"\".format(final_clip_output))"
   ]
  },
  {
   "cell_type": "code",
   "execution_count": 103,
   "metadata": {},
   "outputs": [
    {
     "name": "stdout",
     "output_type": "stream",
     "text": [
      "[array([ 0.61727469,  8.80401271]), array([  -0.71693555,  651.5242781 ])]\n",
      "[MoviePy] >>>> Building video white_output1.mp4\n",
      "[MoviePy] Writing video white_output1.mp4\n"
     ]
    },
    {
     "name": "stderr",
     "output_type": "stream",
     "text": [
      "\n",
      "\n",
      "\r",
      "  0%|          | 0/222 [00:00<?, ?it/s]"
     ]
    },
    {
     "name": "stdout",
     "output_type": "stream",
     "text": [
      "[array([ 0.61727469,  8.80401271]), array([  -0.71693555,  651.5242781 ])]\n"
     ]
    },
    {
     "name": "stderr",
     "output_type": "stream",
     "text": [
      "\u001b[A\u001b[A\n",
      "\n",
      "  0%|          | 1/222 [00:00<00:35,  6.20it/s]\u001b[A\u001b[A\n",
      "\n",
      "  1%|          | 2/222 [00:00<00:34,  6.32it/s]"
     ]
    },
    {
     "name": "stdout",
     "output_type": "stream",
     "text": [
      "[array([ 0.62904752,  1.60268295]), array([  -0.71892147,  651.67212965])]\n"
     ]
    },
    {
     "name": "stderr",
     "output_type": "stream",
     "text": [
      "\u001b[A\u001b[A\n",
      "\n",
      "  1%|▏         | 3/222 [00:00<00:34,  6.37it/s]"
     ]
    },
    {
     "name": "stdout",
     "output_type": "stream",
     "text": [
      "[array([  0.61007836,  13.86315616]), array([  -0.725076  ,  652.15932324])]\n"
     ]
    },
    {
     "name": "stderr",
     "output_type": "stream",
     "text": [
      "\u001b[A\u001b[A\n",
      "\n",
      "  2%|▏         | 4/222 [00:00<00:33,  6.43it/s]"
     ]
    },
    {
     "name": "stdout",
     "output_type": "stream",
     "text": [
      "[array([ 0.62590214,  4.17371196]), array([  -0.72404246,  651.31587448])]\n"
     ]
    },
    {
     "name": "stderr",
     "output_type": "stream",
     "text": [
      "\u001b[A\u001b[A\n",
      "\n",
      "  2%|▏         | 5/222 [00:00<00:30,  7.18it/s]"
     ]
    },
    {
     "name": "stdout",
     "output_type": "stream",
     "text": [
      "[array([ 0.62017741,  6.41830958]), array([  -0.69094271,  638.40068995])]\n",
      "[array([ 0.62072321,  7.15560598]), array([  -0.69181012,  637.73251174])]\n"
     ]
    },
    {
     "name": "stderr",
     "output_type": "stream",
     "text": [
      "\u001b[A\u001b[A\n",
      "\n",
      "  3%|▎         | 7/222 [00:00<00:26,  8.20it/s]"
     ]
    },
    {
     "name": "stdout",
     "output_type": "stream",
     "text": [
      "[array([  0.61057107,  10.99656696]), array([  -0.71467257,  647.40611245])]\n"
     ]
    },
    {
     "name": "stderr",
     "output_type": "stream",
     "text": [
      "\u001b[A\u001b[A\n",
      "\n",
      "  4%|▎         | 8/222 [00:01<00:27,  7.86it/s]"
     ]
    },
    {
     "name": "stdout",
     "output_type": "stream",
     "text": [
      "[array([ 0.62012966,  5.87480559]), array([  -0.70683444,  644.41324848])]\n"
     ]
    },
    {
     "name": "stderr",
     "output_type": "stream",
     "text": [
      "\u001b[A\u001b[A\n",
      "\n",
      "  4%|▍         | 9/222 [00:01<00:26,  7.94it/s]"
     ]
    },
    {
     "name": "stdout",
     "output_type": "stream",
     "text": [
      "[array([ 0.6144937 ,  9.46483609]), array([  -0.72163434,  649.91339261])]\n"
     ]
    },
    {
     "name": "stderr",
     "output_type": "stream",
     "text": [
      "\u001b[A\u001b[A\n",
      "\n",
      "  5%|▍         | 10/222 [00:01<00:27,  7.65it/s]"
     ]
    },
    {
     "name": "stdout",
     "output_type": "stream",
     "text": [
      "[array([  0.61634884,  10.94060582]), array([  -0.7001543 ,  644.88708757])]\n"
     ]
    },
    {
     "name": "stderr",
     "output_type": "stream",
     "text": [
      "\u001b[A\u001b[A\n",
      "\n",
      "  5%|▍         | 11/222 [00:01<00:28,  7.38it/s]"
     ]
    },
    {
     "name": "stdout",
     "output_type": "stream",
     "text": [
      "[array([  0.61197088,  17.21719792]), array([  -0.70651993,  648.79564782])]\n"
     ]
    },
    {
     "name": "stderr",
     "output_type": "stream",
     "text": [
      "\u001b[A\u001b[A\n",
      "\n",
      "  6%|▌         | 13/222 [00:01<00:25,  8.34it/s]"
     ]
    },
    {
     "name": "stdout",
     "output_type": "stream",
     "text": [
      "[array([ 0.63321252,  4.00482125]), array([  -0.71434967,  651.26779503])]\n",
      "[array([ 0.63600922,  2.34798776]), array([  -0.69936715,  647.02501571])]\n"
     ]
    },
    {
     "name": "stderr",
     "output_type": "stream",
     "text": [
      "\u001b[A\u001b[A"
     ]
    },
    {
     "name": "stdout",
     "output_type": "stream",
     "text": [
      "[array([ 0.64116407, -0.87166823]), array([  -0.67768154,  637.83777349])]\n"
     ]
    },
    {
     "name": "stderr",
     "output_type": "stream",
     "text": [
      "\n",
      "\n",
      "  6%|▋         | 14/222 [00:01<00:25,  8.16it/s]\u001b[A\u001b[A"
     ]
    },
    {
     "name": "stdout",
     "output_type": "stream",
     "text": [
      "[array([ 0.6379795 , -1.37844162]), array([  -0.72158222,  647.41178283])]\n"
     ]
    },
    {
     "name": "stderr",
     "output_type": "stream",
     "text": [
      "\n",
      "\n",
      "  7%|▋         | 16/222 [00:01<00:23,  8.70it/s]\u001b[A\u001b[A"
     ]
    },
    {
     "name": "stdout",
     "output_type": "stream",
     "text": [
      "[array([ 0.64024041, -4.2443388 ]), array([  -0.70886432,  642.40273613])]\n",
      "[array([ 0.63713869, -2.33717386]), array([  -0.68509106,  632.60785381])]\n",
      "[array([ 0.64051553, -3.61074442]), array([  -0.69059654,  635.02779695])]"
     ]
    },
    {
     "name": "stderr",
     "output_type": "stream",
     "text": [
      "\n",
      "\n",
      "  8%|▊         | 18/222 [00:02<00:22,  9.08it/s]\u001b[A\u001b[A\n",
      "\n",
      "  9%|▊         | 19/222 [00:02<00:23,  8.79it/s]"
     ]
    },
    {
     "name": "stdout",
     "output_type": "stream",
     "text": [
      "\n",
      "[array([ 0.63999133, -2.17033436]), array([  -0.70005411,  640.75895563])]\n",
      "[array([ 0.63670562,  0.90652535]), array([  -0.68480558,  636.75925722])]\n"
     ]
    },
    {
     "name": "stderr",
     "output_type": "stream",
     "text": [
      "\u001b[A\u001b[A\n",
      "\n",
      "  9%|▉         | 21/222 [00:02<00:20,  9.59it/s]"
     ]
    },
    {
     "name": "stdout",
     "output_type": "stream",
     "text": [
      "[array([ 0.63814653,  0.32083566]), array([  -0.69919346,  643.91495486])]\n"
     ]
    },
    {
     "name": "stderr",
     "output_type": "stream",
     "text": [
      "\u001b[A\u001b[A"
     ]
    },
    {
     "name": "stdout",
     "output_type": "stream",
     "text": [
      "[array([ 0.63376488,  2.83235683]), array([  -0.67375595,  635.34303445])]\n"
     ]
    },
    {
     "name": "stderr",
     "output_type": "stream",
     "text": [
      "\n",
      "\n",
      "\r",
      " 10%|█         | 23/222 [00:02<00:20,  9.54it/s]"
     ]
    },
    {
     "name": "stdout",
     "output_type": "stream",
     "text": [
      "[array([ 0.64250622, -2.40412116]), array([  -0.69244642,  642.87295631])]\n",
      "[array([ 0.63634782,  0.67881255]), array([  -0.68933857,  640.30027712])]\n",
      "[array([ 0.64424843, -3.64996906]), array([  -0.70285834,  644.8731626 ])]\n"
     ]
    },
    {
     "name": "stderr",
     "output_type": "stream",
     "text": [
      "\u001b[A\u001b[A\n",
      "\n",
      " 11%|█▏        | 25/222 [00:02<00:20,  9.50it/s]\u001b[A\u001b[A\n",
      "\n",
      " 12%|█▏        | 27/222 [00:02<00:18, 10.38it/s]\u001b[A\u001b[A"
     ]
    },
    {
     "name": "stdout",
     "output_type": "stream",
     "text": [
      "[array([ 0.64747954, -6.87004215]), array([  -0.67844241,  638.12878106])]\n",
      "[array([ 0.64660712, -5.20349675]), array([  -0.70949084,  647.3379923 ])]\n",
      "[array([ 0.65141728, -8.83404486]), array([  -0.73179056,  654.77374511])]\n"
     ]
    },
    {
     "name": "stderr",
     "output_type": "stream",
     "text": [
      "\n",
      "\n",
      " 13%|█▎        | 29/222 [00:03<00:17, 10.86it/s]\u001b[A\u001b[A"
     ]
    },
    {
     "name": "stdout",
     "output_type": "stream",
     "text": [
      "[array([ 0.63384962,  0.72986298]), array([  -0.7347597,  656.1472863])]\n",
      "[array([ 0.64175399, -4.56790446]), array([  -0.70932688,  646.58278616])]\n",
      "[array([ 0.63330097,  0.35098941]), array([  -0.73626853,  655.25453534])]\n"
     ]
    },
    {
     "name": "stderr",
     "output_type": "stream",
     "text": [
      "\n",
      "\n",
      " 14%|█▍        | 31/222 [00:03<00:18, 10.42it/s]\u001b[A\u001b[A\n",
      "\n",
      " 15%|█▍        | 33/222 [00:03<00:19,  9.56it/s]"
     ]
    },
    {
     "name": "stdout",
     "output_type": "stream",
     "text": [
      "[array([ 0.63179549,  0.95389906]), array([  -0.70164961,  642.16262739])]\n",
      "[array([ 0.63312654, -0.70965615]), array([  -0.71190071,  646.43719002])]\n"
     ]
    },
    {
     "name": "stderr",
     "output_type": "stream",
     "text": [
      "\u001b[A\u001b[A\n",
      "\n",
      " 16%|█▌        | 35/222 [00:03<00:17, 10.68it/s]\u001b[A\u001b[A"
     ]
    },
    {
     "name": "stdout",
     "output_type": "stream",
     "text": [
      "[array([ 0.63427361,  0.70998111]), array([  -0.71980938,  649.46273256])]\n",
      "[array([ 0.63890031, -1.36351023]), array([  -0.7173148 ,  649.83791081])]\n",
      "[array([ 0.6315883 ,  3.02572655]), array([  -0.68697593,  640.77930755])]\n",
      "[array([ 0.6419472 , -1.77768156]), array([  -0.69925265,  646.10830521])]\n"
     ]
    },
    {
     "name": "stderr",
     "output_type": "stream",
     "text": [
      "\n",
      "\n",
      " 17%|█▋        | 37/222 [00:03<00:15, 11.65it/s]\u001b[A\u001b[A\n",
      "\n",
      " 18%|█▊        | 39/222 [00:04<00:14, 12.43it/s]\u001b[A\u001b[A"
     ]
    },
    {
     "name": "stdout",
     "output_type": "stream",
     "text": [
      "[array([ 0.65032234, -7.58017138]), array([  -0.68420962,  641.62759216])]\n",
      "[array([ 0.65171898, -9.18477027]), array([  -0.72716911,  653.02515846])]\n",
      "[array([  0.6514846 , -10.11091034]), array([  -0.70142282,  640.83455277])]\n"
     ]
    },
    {
     "name": "stderr",
     "output_type": "stream",
     "text": [
      "\n",
      "\n",
      " 18%|█▊        | 41/222 [00:04<00:13, 13.06it/s]\u001b[A\u001b[A\n",
      "\n",
      " 19%|█▉        | 43/222 [00:04<00:13, 12.81it/s]"
     ]
    },
    {
     "name": "stdout",
     "output_type": "stream",
     "text": [
      "[array([ 0.64503041, -6.29489624]), array([  -0.7385489 ,  656.29864836])]\n",
      "[array([  0.65580229, -13.17957013]), array([  -0.72692483,  651.80388762])]\n",
      "[array([ 0.64973965, -9.58793993]), array([  -0.71884053,  647.26737265])]\n"
     ]
    },
    {
     "name": "stderr",
     "output_type": "stream",
     "text": [
      "\u001b[A\u001b[A\n",
      "\n",
      " 20%|██        | 45/222 [00:04<00:15, 11.34it/s]"
     ]
    },
    {
     "name": "stdout",
     "output_type": "stream",
     "text": [
      "[array([  0.65034637, -11.42095536]), array([  -0.73144411,  651.78218964])]\n",
      "[array([ 0.64225074, -4.89254049]), array([  -0.72563978,  650.03470246])]\n",
      "[array([ 0.64168796, -3.64998702]), array([  -0.71447864,  646.06046319])]\n"
     ]
    },
    {
     "name": "stderr",
     "output_type": "stream",
     "text": [
      "\u001b[A\u001b[A\n",
      "\n",
      " 21%|██        | 47/222 [00:04<00:15, 11.04it/s]\u001b[A\u001b[A"
     ]
    },
    {
     "name": "stdout",
     "output_type": "stream",
     "text": [
      "[array([ 0.64192353, -5.74741651]), array([  -0.70779793,  643.7728647 ])]\n",
      "[array([ 0.64867799, -8.48209773]), array([  -0.69656553,  640.68673173])]\n"
     ]
    },
    {
     "name": "stderr",
     "output_type": "stream",
     "text": [
      "\n",
      "\n",
      "\r",
      " 22%|██▏       | 49/222 [00:04<00:16, 10.29it/s]"
     ]
    },
    {
     "name": "stdout",
     "output_type": "stream",
     "text": [
      "[array([ 0.64220516, -5.14182646]), array([  -0.72388079,  649.1922212 ])]\n",
      "[array([  0.65778518, -13.37609336]), array([  -0.70605768,  641.96406078])]\n"
     ]
    },
    {
     "name": "stderr",
     "output_type": "stream",
     "text": [
      "\u001b[A\u001b[A\n",
      "\n",
      " 23%|██▎       | 51/222 [00:05<00:18,  9.30it/s]\u001b[A\u001b[A\n",
      "\n",
      " 23%|██▎       | 52/222 [00:05<00:19,  8.84it/s]"
     ]
    },
    {
     "name": "stdout",
     "output_type": "stream",
     "text": [
      "[array([ 0.6346377 , -0.12381894]), array([  -0.70008601,  640.4961136 ])]\n",
      "[array([ 0.63707002, -2.07123022]), array([  -0.71656485,  645.531892  ])]\n"
     ]
    },
    {
     "name": "stderr",
     "output_type": "stream",
     "text": [
      "\u001b[A\u001b[A\n",
      "\n",
      " 24%|██▍       | 53/222 [00:05<00:18,  9.12it/s]\u001b[A\u001b[A\n",
      "\n",
      " 24%|██▍       | 54/222 [00:05<00:18,  8.90it/s]"
     ]
    },
    {
     "name": "stdout",
     "output_type": "stream",
     "text": [
      "[array([ 0.6420865 , -4.69992414]), array([  -0.67900366,  629.67090287])]\n",
      "[array([ 0.64623238, -6.56970692]), array([  -0.70050926,  638.78845988])]\n",
      "[array([ 0.64013526, -2.2183193 ]), array([  -0.64396826,  617.83319798])]\n"
     ]
    },
    {
     "name": "stderr",
     "output_type": "stream",
     "text": [
      "\u001b[A\u001b[A\n",
      "\n",
      " 25%|██▌       | 56/222 [00:05<00:20,  8.21it/s]"
     ]
    },
    {
     "name": "stdout",
     "output_type": "stream",
     "text": [
      "[array([ 0.64071108, -1.35026471]), array([  -0.69281853,  635.85593308])]\n"
     ]
    },
    {
     "name": "stderr",
     "output_type": "stream",
     "text": [
      "\u001b[A\u001b[A\n",
      "\n",
      " 26%|██▌       | 57/222 [00:05<00:19,  8.53it/s]\u001b[A\u001b[A\n",
      "\n",
      " 26%|██▌       | 58/222 [00:06<00:19,  8.48it/s]"
     ]
    },
    {
     "name": "stdout",
     "output_type": "stream",
     "text": [
      "[array([ 0.64368003, -2.45838541]), array([  -0.65242952,  623.49227936])]\n",
      "[array([ 0.64425127, -1.56404867]), array([  -0.66640508,  629.04210857])]\n"
     ]
    },
    {
     "name": "stderr",
     "output_type": "stream",
     "text": [
      "\u001b[A\u001b[A\n",
      "\n",
      " 27%|██▋       | 59/222 [00:06<00:19,  8.48it/s]\u001b[A\u001b[A"
     ]
    },
    {
     "name": "stdout",
     "output_type": "stream",
     "text": [
      "[array([ 0.64497899, -3.52533408]), array([  -0.66863692,  630.76030443])]\n",
      "[array([ 0.65226478, -6.66958945]), array([  -0.67216028,  629.9948131 ])]\n",
      "[array([ 0.64992993, -4.9725964 ]), array([  -0.67561808,  631.52621752])]\n"
     ]
    },
    {
     "name": "stderr",
     "output_type": "stream",
     "text": [
      "\n",
      "\n",
      " 27%|██▋       | 61/222 [00:06<00:17,  9.02it/s]\u001b[A\u001b[A\n",
      "\n",
      " 28%|██▊       | 62/222 [00:06<00:17,  8.91it/s]\u001b[A\u001b[A\n",
      "\n",
      " 28%|██▊       | 63/222 [00:06<00:20,  7.74it/s]"
     ]
    },
    {
     "name": "stdout",
     "output_type": "stream",
     "text": [
      "[array([  0.66906717, -15.44603458]), array([  -0.6804333 ,  632.59833834])]\n",
      "[array([ 0.65797591, -9.08711856]), array([  -0.68160165,  633.95181522])]\n"
     ]
    },
    {
     "name": "stderr",
     "output_type": "stream",
     "text": [
      "\u001b[A\u001b[A\n",
      "\n",
      " 29%|██▉       | 64/222 [00:06<00:19,  8.03it/s]\u001b[A\u001b[A\n",
      "\n",
      " 29%|██▉       | 65/222 [00:06<00:19,  8.15it/s]"
     ]
    },
    {
     "name": "stdout",
     "output_type": "stream",
     "text": [
      "[array([ 0.63927654,  1.75777494]), array([  -0.67107055,  627.66291907])]\n",
      "[array([ 0.64937466, -4.66575997]), array([  -0.67577663,  629.7818466 ])]\n"
     ]
    },
    {
     "name": "stderr",
     "output_type": "stream",
     "text": [
      "\u001b[A\u001b[A\n",
      "\n",
      " 30%|██▉       | 66/222 [00:07<00:19,  8.11it/s]\u001b[A\u001b[A\n",
      "\n",
      " 31%|███       | 68/222 [00:07<00:16,  9.10it/s]"
     ]
    },
    {
     "name": "stdout",
     "output_type": "stream",
     "text": [
      "[array([ 0.64270776, -1.23810761]), array([  -0.66705846,  626.20603588])]\n",
      "[array([ 0.64985672, -5.59174645]), array([  -0.66349453,  623.43923275])]\n",
      "[array([ 0.64811501, -5.21539834]), array([  -0.66818434,  625.22972423])]\n"
     ]
    },
    {
     "name": "stderr",
     "output_type": "stream",
     "text": [
      "\u001b[A\u001b[A\n",
      "\n",
      " 32%|███▏      | 70/222 [00:07<00:15, 10.07it/s]\u001b[A\u001b[A"
     ]
    },
    {
     "name": "stdout",
     "output_type": "stream",
     "text": [
      "[array([ 0.64562093, -2.54426304]), array([  -0.63926663,  615.70044823])]\n",
      "[array([ 0.65596317, -8.70725309]), array([  -0.64615815,  620.26595819])]\n",
      "[array([ 0.6516619 , -5.99563466]), array([  -0.65018344,  621.49038007])]\n"
     ]
    },
    {
     "name": "stderr",
     "output_type": "stream",
     "text": [
      "\n",
      "\n",
      "\r",
      " 32%|███▏      | 72/222 [00:07<00:15,  9.83it/s]"
     ]
    },
    {
     "name": "stdout",
     "output_type": "stream",
     "text": [
      "[array([  0.66353869, -13.32964045]), array([  -0.6685609 ,  625.10630799])]\n",
      "[array([  0.65802823, -10.52623519]), array([  -0.65912926,  623.53432403])]\n"
     ]
    },
    {
     "name": "stderr",
     "output_type": "stream",
     "text": [
      "\u001b[A\u001b[A\n",
      "\n",
      " 33%|███▎      | 74/222 [00:07<00:17,  8.61it/s]"
     ]
    },
    {
     "name": "stdout",
     "output_type": "stream",
     "text": [
      "[array([  0.66352928, -12.38638631]), array([  -0.67580487,  629.32476742])]\n",
      "[array([ 0.65616639, -8.23623356]), array([  -0.6755637 ,  629.15059612])]\n"
     ]
    },
    {
     "name": "stderr",
     "output_type": "stream",
     "text": [
      "\u001b[A\u001b[A\n",
      "\n",
      " 34%|███▍      | 76/222 [00:07<00:15,  9.73it/s]\u001b[A\u001b[A\n",
      "\n",
      " 35%|███▌      | 78/222 [00:08<00:13, 10.69it/s]"
     ]
    },
    {
     "name": "stdout",
     "output_type": "stream",
     "text": [
      "[array([ 0.65532475, -8.970075  ]), array([  -0.66268239,  622.1317711 ])]\n",
      "[array([  0.66244927, -12.44252038]), array([  -0.67072035,  625.17128607])]\n",
      "[array([  0.6751835 , -18.56131095]), array([  -0.65961842,  620.53538916])]\n"
     ]
    },
    {
     "name": "stderr",
     "output_type": "stream",
     "text": [
      "\u001b[A\u001b[A\n",
      "\n",
      " 36%|███▌      | 80/222 [00:08<00:14,  9.99it/s]"
     ]
    },
    {
     "name": "stdout",
     "output_type": "stream",
     "text": [
      "[array([  0.68838313, -25.37664793]), array([  -0.63997631,  613.61928913])]\n",
      "[array([  0.67950142, -20.26454993]), array([  -0.6754544 ,  626.01531231])]\n"
     ]
    },
    {
     "name": "stderr",
     "output_type": "stream",
     "text": [
      "\u001b[A\u001b[A\n",
      "\n",
      " 37%|███▋      | 82/222 [00:08<00:13, 10.06it/s]\u001b[A\u001b[A"
     ]
    },
    {
     "name": "stdout",
     "output_type": "stream",
     "text": [
      "[array([  0.68032194, -20.87409332]), array([  -0.67557548,  625.23456175])]\n",
      "[array([  0.67823516, -20.3570997 ]), array([  -0.64058323,  614.8090809 ])]\n"
     ]
    },
    {
     "name": "stderr",
     "output_type": "stream",
     "text": [
      "\n",
      "\n",
      " 38%|███▊      | 84/222 [00:08<00:13, 10.57it/s]\u001b[A\u001b[A"
     ]
    },
    {
     "name": "stdout",
     "output_type": "stream",
     "text": [
      "[array([  0.67374184, -17.5510153 ]), array([  -0.61982335,  608.81411271])]\n",
      "[array([  0.67475999, -20.17643134]), array([  -0.62826689,  611.20379381])]\n",
      "[array([  0.68530181, -23.4285346 ]), array([  -0.63842754,  615.70426857])]\n"
     ]
    },
    {
     "name": "stderr",
     "output_type": "stream",
     "text": [
      "\n",
      "\n",
      "\r",
      " 39%|███▊      | 86/222 [00:09<00:14,  9.12it/s]"
     ]
    },
    {
     "name": "stdout",
     "output_type": "stream",
     "text": [
      "[array([  0.68049029, -22.59183776]), array([  -0.66174969,  621.74502156])]\n",
      "[array([  0.68408091, -23.94375681]), array([  -0.66597782,  623.11122263])]\n"
     ]
    },
    {
     "name": "stderr",
     "output_type": "stream",
     "text": [
      "\u001b[A\u001b[A\n",
      "\n",
      " 40%|███▉      | 88/222 [00:09<00:13,  9.82it/s]\u001b[A\u001b[A\n",
      "\n",
      " 41%|████      | 90/222 [00:09<00:12, 10.45it/s]"
     ]
    },
    {
     "name": "stdout",
     "output_type": "stream",
     "text": [
      "[array([  0.68468368, -24.12951231]), array([  -0.6636842 ,  623.15011457])]\n",
      "[array([  0.68714655, -25.26728498]), array([  -0.64399456,  615.74555275])]\n",
      "[array([  0.6770914 , -20.53525489]), array([  -0.67610409,  627.724859  ])]\n"
     ]
    },
    {
     "name": "stderr",
     "output_type": "stream",
     "text": [
      "\u001b[A\u001b[A"
     ]
    },
    {
     "name": "stdout",
     "output_type": "stream",
     "text": [
      "[array([  0.69014142, -26.54452028]), array([  -0.69268205,  635.64906273])]\n",
      "[array([  0.69019059, -26.22710782]), array([  -0.63785318,  616.40420591])]\n"
     ]
    },
    {
     "name": "stderr",
     "output_type": "stream",
     "text": [
      "\n",
      "\n",
      " 41%|████▏     | 92/222 [00:09<00:15,  8.40it/s]\u001b[A\u001b[A\n",
      "\n",
      " 42%|████▏     | 94/222 [00:09<00:13,  9.57it/s]\u001b[A\u001b[A"
     ]
    },
    {
     "name": "stdout",
     "output_type": "stream",
     "text": [
      "[array([  0.70313968, -34.92043521]), array([  -0.63544384,  616.22254486])]\n",
      "[array([  0.69077011, -27.99493064]), array([  -0.64307229,  618.40737952])]\n",
      "[array([  0.69502833, -31.40931589]), array([  -0.64749036,  618.81625111])]\n",
      "[array([  0.68739569, -27.60285268]), array([  -0.63445362,  615.78321886])]\n"
     ]
    },
    {
     "name": "stderr",
     "output_type": "stream",
     "text": [
      "\n",
      "\n",
      " 43%|████▎     | 96/222 [00:09<00:11, 10.87it/s]\u001b[A\u001b[A\n",
      "\n",
      " 44%|████▍     | 98/222 [00:10<00:10, 11.32it/s]\u001b[A\u001b[A"
     ]
    },
    {
     "name": "stdout",
     "output_type": "stream",
     "text": [
      "[array([  0.70236578, -37.86154441]), array([  -0.66016737,  622.67712625])]\n",
      "[array([  0.70478726, -39.59823286]), array([  -0.67277614,  627.97223871])]\n",
      "[array([  0.69411971, -34.86603762]), array([  -0.67337299,  627.82687162])]\n"
     ]
    },
    {
     "name": "stderr",
     "output_type": "stream",
     "text": [
      "\n",
      "\n",
      "\r",
      " 45%|████▌     | 100/222 [00:10<00:11, 10.20it/s]"
     ]
    },
    {
     "name": "stdout",
     "output_type": "stream",
     "text": [
      "[array([  0.70488535, -41.29792564]), array([  -0.65833333,  622.10277778])]\n",
      "[array([  0.68906   , -30.96993165]), array([  -0.67664955,  629.69226477])]\n"
     ]
    },
    {
     "name": "stderr",
     "output_type": "stream",
     "text": [
      "\u001b[A\u001b[A\n",
      "\n",
      " 46%|████▌     | 102/222 [00:10<00:12,  9.34it/s]"
     ]
    },
    {
     "name": "stdout",
     "output_type": "stream",
     "text": [
      "[array([  0.69332723, -32.56103948]), array([  -0.60959837,  605.01940095])]\n",
      "[array([  0.69413246, -31.97885368]), array([  -0.68081561,  633.18834959])]\n"
     ]
    },
    {
     "name": "stderr",
     "output_type": "stream",
     "text": [
      "\u001b[A\u001b[A\n",
      "\n",
      " 47%|████▋     | 104/222 [00:10<00:13,  8.68it/s]\u001b[A\u001b[A\n",
      "\n",
      " 47%|████▋     | 105/222 [00:11<00:14,  8.06it/s]"
     ]
    },
    {
     "name": "stdout",
     "output_type": "stream",
     "text": [
      "[array([  0.68899905, -28.11991646]), array([  -0.63861095,  619.28958211])]\n",
      "[array([  0.68096064, -25.49491004]), array([  -0.69675689,  639.4577213 ])]\n"
     ]
    },
    {
     "name": "stderr",
     "output_type": "stream",
     "text": [
      "\u001b[A\u001b[A\n",
      "\n",
      " 48%|████▊     | 106/222 [00:11<00:15,  7.71it/s]\u001b[A\u001b[A\n",
      "\n",
      " 48%|████▊     | 107/222 [00:11<00:13,  8.22it/s]"
     ]
    },
    {
     "name": "stdout",
     "output_type": "stream",
     "text": [
      "[array([  0.68637597, -28.09325891]), array([  -0.67649178,  631.65134783])]\n",
      "[array([  0.692202  , -33.25476597]), array([  -0.6404946 ,  620.24300109])]\n"
     ]
    },
    {
     "name": "stderr",
     "output_type": "stream",
     "text": [
      "\u001b[A\u001b[A\n",
      "\n",
      " 49%|████▊     | 108/222 [00:11<00:13,  8.28it/s]\u001b[A\u001b[A\n",
      "\n",
      " 50%|████▉     | 110/222 [00:11<00:12,  9.10it/s]"
     ]
    },
    {
     "name": "stdout",
     "output_type": "stream",
     "text": [
      "[array([  0.68876004, -30.28320791]), array([  -0.66259246,  628.94936909])]\n",
      "[array([  0.68268498, -28.07689002]), array([  -0.67797232,  633.6656441 ])]\n",
      "[array([  0.68857093, -29.92398482]), array([  -0.68416469,  635.15018975])]\n"
     ]
    },
    {
     "name": "stderr",
     "output_type": "stream",
     "text": [
      "\u001b[A\u001b[A\n",
      "\n",
      " 50%|█████     | 112/222 [00:11<00:12,  9.10it/s]"
     ]
    },
    {
     "name": "stdout",
     "output_type": "stream",
     "text": [
      "[array([  0.68459039, -28.2858101 ]), array([  -0.6502471 ,  628.02440655])]\n",
      "[array([  0.67658882, -22.28233615]), array([  -0.6952621 ,  639.39706239])]\n"
     ]
    },
    {
     "name": "stderr",
     "output_type": "stream",
     "text": [
      "\u001b[A\u001b[A\n",
      "\n",
      " 51%|█████     | 113/222 [00:11<00:12,  8.62it/s]\u001b[A\u001b[A\n",
      "\n",
      " 52%|█████▏    | 115/222 [00:12<00:11,  9.39it/s]"
     ]
    },
    {
     "name": "stdout",
     "output_type": "stream",
     "text": [
      "[array([  0.67982403, -25.55449866]), array([  -0.6839809 ,  634.77849381])]\n",
      "[array([  0.68338333, -27.40438063]), array([  -0.65962793,  624.96245056])]\n",
      "[array([  0.66419393, -18.4723433 ]), array([  -0.64737534,  619.90680194])]\n"
     ]
    },
    {
     "name": "stderr",
     "output_type": "stream",
     "text": [
      "\u001b[A\u001b[A\n",
      "\n",
      " 53%|█████▎    | 117/222 [00:12<00:10, 10.22it/s]\u001b[A\u001b[A"
     ]
    },
    {
     "name": "stdout",
     "output_type": "stream",
     "text": [
      "[array([  0.66923854, -20.34249966]), array([  -0.66537119,  626.57091008])]\n",
      "[array([  0.66141633, -15.14846852]), array([  -0.66537266,  627.04289224])]\n",
      "[array([  0.66321062, -15.72261982]), array([  -0.6547388,  622.5233775])]\n"
     ]
    },
    {
     "name": "stderr",
     "output_type": "stream",
     "text": [
      "\n",
      "\n",
      " 54%|█████▎    | 119/222 [00:12<00:09, 10.92it/s]\u001b[A\u001b[A"
     ]
    },
    {
     "name": "stdout",
     "output_type": "stream",
     "text": [
      "[array([  0.65413985, -11.10331968]), array([  -0.65676352,  623.6963761 ])]\n",
      "[array([  0.65581697, -11.25116036]), array([  -0.64216591,  620.29710384])]\n"
     ]
    },
    {
     "name": "stderr",
     "output_type": "stream",
     "text": [
      "\n",
      "\n",
      " 55%|█████▍    | 121/222 [00:12<00:10, 10.05it/s]\u001b[A\u001b[A\n",
      "\n",
      " 55%|█████▌    | 123/222 [00:12<00:09, 10.49it/s]"
     ]
    },
    {
     "name": "stdout",
     "output_type": "stream",
     "text": [
      "[array([  0.65874004, -12.84727852]), array([  -0.66969719,  631.57702947])]\n",
      "[array([ 0.64723499, -6.6876833 ]), array([  -0.64712773,  626.23699285])]\n",
      "[array([ 0.63881879, -1.71385165]), array([ -6.19173078e-01,   6.19815787e+02])]\n"
     ]
    },
    {
     "name": "stderr",
     "output_type": "stream",
     "text": [
      "\u001b[A\u001b[A\n",
      "\n",
      " 56%|█████▋    | 125/222 [00:13<00:09, 10.08it/s]"
     ]
    },
    {
     "name": "stdout",
     "output_type": "stream",
     "text": [
      "[array([ 0.64731335, -6.61670994]), array([  -0.67145567,  631.9165213 ])]\n",
      "[array([ 0.632011  ,  1.50665614]), array([  -0.68619196,  637.45412312])]\n",
      "[array([ 0.64010652, -2.78786044]), array([  -0.69399756,  641.99385055])]\n"
     ]
    },
    {
     "name": "stderr",
     "output_type": "stream",
     "text": [
      "\u001b[A\u001b[A\n",
      "\n",
      " 57%|█████▋    | 127/222 [00:13<00:09,  9.56it/s]"
     ]
    },
    {
     "name": "stdout",
     "output_type": "stream",
     "text": [
      "[array([ 0.63708874, -0.74069538]), array([  -0.68902373,  639.57717992])]\n",
      "[array([ 0.63313761,  0.25494539]), array([  -0.69723306,  643.20090606])]\n",
      "[array([ 0.63563894, -2.30759199]), array([  -0.69843898,  643.96617786])]\n"
     ]
    },
    {
     "name": "stderr",
     "output_type": "stream",
     "text": [
      "\u001b[A\u001b[A\n",
      "\n",
      " 58%|█████▊    | 129/222 [00:13<00:09,  9.73it/s]\u001b[A\u001b[A\n",
      "\n",
      " 59%|█████▊    | 130/222 [00:13<00:09,  9.39it/s]\u001b[A\u001b[A\n",
      "\n",
      " 59%|█████▉    | 132/222 [00:13<00:09,  9.95it/s]"
     ]
    },
    {
     "name": "stdout",
     "output_type": "stream",
     "text": [
      "[array([ 0.63109544,  0.2622704 ]), array([  -0.6573575 ,  630.80995527])]\n",
      "[array([ 0.63347442,  0.40763409]), array([  -0.67422492,  638.82397163])]\n",
      "[array([ 0.63249653,  1.60938699]), array([  -0.65943798,  633.86175336])]\n"
     ]
    },
    {
     "name": "stderr",
     "output_type": "stream",
     "text": [
      "\u001b[A\u001b[A\n",
      "\n",
      " 60%|██████    | 134/222 [00:13<00:08, 10.57it/s]\u001b[A\u001b[A"
     ]
    },
    {
     "name": "stdout",
     "output_type": "stream",
     "text": [
      "[array([ 0.63271047,  0.72698592]), array([  -0.6764197 ,  641.38615917])]\n",
      "[array([ 0.64419516, -6.22543921]), array([  -0.70927244,  647.62509764])]\n",
      "[array([ 0.64377655, -7.50534131]), array([  -0.69994958,  643.64210343])]\n"
     ]
    },
    {
     "name": "stderr",
     "output_type": "stream",
     "text": [
      "\n",
      "\n",
      " 61%|██████▏   | 136/222 [00:14<00:07, 10.87it/s]\u001b[A\u001b[A"
     ]
    },
    {
     "name": "stdout",
     "output_type": "stream",
     "text": [
      "[array([ 0.64202127, -8.3707775 ]), array([  -0.70543429,  644.89216032])]\n",
      "[array([ 0.64074727, -8.18615256]), array([  -0.66302743,  626.05732632])]\n"
     ]
    },
    {
     "name": "stderr",
     "output_type": "stream",
     "text": [
      "\n",
      "\n",
      "\r",
      " 62%|██████▏   | 138/222 [00:14<00:08, 10.16it/s]"
     ]
    },
    {
     "name": "stdout",
     "output_type": "stream",
     "text": [
      "[array([ 0.63615956, -4.49686902]), array([  -0.71697629,  649.09644595])]\n",
      "[array([ 0.62893393,  0.43771322]), array([  -0.71413021,  649.77119531])]\n",
      "[array([ 0.63764621, -3.56164654]), array([  -0.68896873,  641.27430569])]\n"
     ]
    },
    {
     "name": "stderr",
     "output_type": "stream",
     "text": [
      "\u001b[A\u001b[A\n",
      "\n",
      " 63%|██████▎   | 140/222 [00:14<00:07, 10.35it/s]\u001b[A\u001b[A\n",
      "\n",
      " 64%|██████▍   | 142/222 [00:14<00:07, 10.05it/s]"
     ]
    },
    {
     "name": "stdout",
     "output_type": "stream",
     "text": [
      "[array([ 0.6376712 , -1.73833443]), array([  -0.68811024,  641.49848772])]\n",
      "[array([  0.65155213, -10.78570561]), array([  -0.71798536,  654.6458329 ])]\n"
     ]
    },
    {
     "name": "stderr",
     "output_type": "stream",
     "text": [
      "\u001b[A\u001b[A\n",
      "\n",
      " 65%|██████▍   | 144/222 [00:14<00:07, 10.49it/s]\u001b[A\u001b[A"
     ]
    },
    {
     "name": "stdout",
     "output_type": "stream",
     "text": [
      "[array([ 0.6356721 ,  0.54778117]), array([  -0.68714793,  644.24768177])]\n",
      "[array([ 0.64170902, -4.46750623]), array([  -0.73595347,  659.40261048])]\n",
      "[array([ 0.62948507,  2.59172489]), array([  -0.70348989,  650.49993333])]\n"
     ]
    },
    {
     "name": "stderr",
     "output_type": "stream",
     "text": [
      "\n",
      "\n",
      "\r",
      " 66%|██████▌   | 146/222 [00:15<00:07, 10.00it/s]"
     ]
    },
    {
     "name": "stdout",
     "output_type": "stream",
     "text": [
      "[array([ 0.63487452, -2.26966998]), array([  -0.72928909,  657.09093752])]\n",
      "[array([ 0.63637769, -5.41051725]), array([  -0.71712825,  651.53807737])]\n",
      "[array([ 0.61285606,  8.61607691]), array([  -0.72822665,  655.25183631])]\n"
     ]
    },
    {
     "name": "stderr",
     "output_type": "stream",
     "text": [
      "\u001b[A\u001b[A\n",
      "\n",
      " 67%|██████▋   | 148/222 [00:15<00:07,  9.49it/s]\u001b[A\u001b[A\n",
      "\n",
      " 68%|██████▊   | 150/222 [00:15<00:07,  9.05it/s]"
     ]
    },
    {
     "name": "stdout",
     "output_type": "stream",
     "text": [
      "[array([ 0.61388286,  8.07419196]), array([  -0.75668535,  667.34971978])]\n",
      "[array([ 0.61738212,  5.95612828]), array([  -0.73297873,  659.24824567])]\n"
     ]
    },
    {
     "name": "stderr",
     "output_type": "stream",
     "text": [
      "\u001b[A\u001b[A\n",
      "\n",
      " 68%|██████▊   | 152/222 [00:15<00:07,  9.57it/s]\u001b[A\u001b[A"
     ]
    },
    {
     "name": "stdout",
     "output_type": "stream",
     "text": [
      "[array([ 0.62106078,  3.88889738]), array([  -0.73349938,  659.55639566])]\n",
      "[array([ 0.61606648,  7.7319248 ]), array([  -0.73503111,  661.43484465])]\n",
      "[array([ 0.62242629,  3.79155727]), array([  -0.72928717,  658.3247712 ])]\n"
     ]
    },
    {
     "name": "stderr",
     "output_type": "stream",
     "text": [
      "\n",
      "\n",
      "\r",
      " 69%|██████▉   | 154/222 [00:15<00:07,  9.52it/s]"
     ]
    },
    {
     "name": "stdout",
     "output_type": "stream",
     "text": [
      "[array([ 0.6326163 , -2.45783866]), array([  -0.72292872,  655.57755653])]\n",
      "[array([ 0.62245874,  3.19047574]), array([  -0.72981869,  658.29533533])]\n",
      "[array([ 0.62182289,  2.02445698]), array([  -0.71901191,  654.70194219])]\n"
     ]
    },
    {
     "name": "stderr",
     "output_type": "stream",
     "text": [
      "\u001b[A\u001b[A\n",
      "\n",
      " 70%|███████   | 156/222 [00:16<00:06,  9.59it/s]\u001b[A\u001b[A"
     ]
    },
    {
     "name": "stdout",
     "output_type": "stream",
     "text": [
      "[array([ 0.6301582 , -3.16536129]), array([  -0.72541596,  657.95459368])]\n",
      "[array([ 0.61728718,  5.24552712]), array([  -0.72381249,  656.88174173])]\n"
     ]
    },
    {
     "name": "stderr",
     "output_type": "stream",
     "text": [
      "\n",
      "\n",
      " 71%|███████   | 158/222 [00:16<00:07,  8.78it/s]\u001b[A\u001b[A\n",
      "\n",
      " 72%|███████▏  | 160/222 [00:16<00:06,  8.94it/s]"
     ]
    },
    {
     "name": "stdout",
     "output_type": "stream",
     "text": [
      "[array([ 0.61608902,  5.58558991]), array([  -0.70870571,  653.09983857])]\n",
      "[array([  0.60696891,  10.6770272 ]), array([  -0.73721749,  661.47635314])]\n"
     ]
    },
    {
     "name": "stderr",
     "output_type": "stream",
     "text": [
      "\u001b[A\u001b[A\n",
      "\n",
      " 73%|███████▎  | 162/222 [00:16<00:06,  9.71it/s]\u001b[A\u001b[A"
     ]
    },
    {
     "name": "stdout",
     "output_type": "stream",
     "text": [
      "[array([  0.60177898,  13.27598932]), array([  -0.75629175,  670.79385925])]\n",
      "[array([  0.59881353,  15.51404967]), array([  -0.75365101,  671.5873489 ])]\n",
      "[array([  0.57875669,  27.31407216]), array([  -0.7284747 ,  659.93557434])]\n"
     ]
    },
    {
     "name": "stderr",
     "output_type": "stream",
     "text": [
      "\n",
      "\n",
      " 74%|███████▍  | 164/222 [00:16<00:05, 10.67it/s]\u001b[A\u001b[A"
     ]
    },
    {
     "name": "stdout",
     "output_type": "stream",
     "text": [
      "[array([  0.58588952,  23.42817003]), array([  -0.76975448,  677.73717207])]\n",
      "[array([  0.59523501,  17.38496334]), array([  -0.76107996,  674.58065136])]\n"
     ]
    },
    {
     "name": "stderr",
     "output_type": "stream",
     "text": [
      "\n",
      "\n",
      "\r",
      " 75%|███████▍  | 166/222 [00:17<00:05,  9.65it/s]"
     ]
    },
    {
     "name": "stdout",
     "output_type": "stream",
     "text": [
      "[array([  0.59098228,  21.73148367]), array([  -0.77353412,  679.72571089])]\n",
      "[array([  0.58703402,  24.12537511]), array([  -0.75553142,  674.32839367])]\n"
     ]
    },
    {
     "name": "stderr",
     "output_type": "stream",
     "text": [
      "\u001b[A\u001b[A\n",
      "\n",
      " 76%|███████▌  | 168/222 [00:17<00:06,  8.41it/s]\u001b[A\u001b[A\n",
      "\n",
      " 76%|███████▌  | 169/222 [00:17<00:06,  8.57it/s]"
     ]
    },
    {
     "name": "stdout",
     "output_type": "stream",
     "text": [
      "[array([  0.58909514,  22.67070253]), array([  -0.76262977,  676.12028148])]\n",
      "[array([  0.59342553,  21.0843308 ]), array([  -0.74617116,  671.97625378])]\n"
     ]
    },
    {
     "name": "stderr",
     "output_type": "stream",
     "text": [
      "\u001b[A\u001b[A\n",
      "\n",
      " 77%|███████▋  | 170/222 [00:17<00:06,  7.96it/s]\u001b[A\u001b[A\n",
      "\n",
      " 77%|███████▋  | 171/222 [00:17<00:06,  7.48it/s]"
     ]
    },
    {
     "name": "stdout",
     "output_type": "stream",
     "text": [
      "[array([  0.59256855,  21.8901763 ]), array([  -0.76420933,  677.57835913])]\n",
      "[array([  0.59346436,  20.98589238]), array([  -0.73831482,  671.80013752])]\n"
     ]
    },
    {
     "name": "stderr",
     "output_type": "stream",
     "text": [
      "\u001b[A\u001b[A\n",
      "\n",
      " 77%|███████▋  | 172/222 [00:18<00:06,  7.81it/s]\u001b[A\u001b[A"
     ]
    },
    {
     "name": "stdout",
     "output_type": "stream",
     "text": [
      "[array([  0.5909889 ,  22.02953911]), array([  -0.78360959,  684.92572417])]\n",
      "[array([  0.59248432,  20.28110707]), array([  -0.74033514,  665.11289968])]\n"
     ]
    },
    {
     "name": "stderr",
     "output_type": "stream",
     "text": [
      "\n",
      "\n",
      " 78%|███████▊  | 174/222 [00:18<00:05,  8.55it/s]\u001b[A\u001b[A\n",
      "\n",
      " 79%|███████▉  | 175/222 [00:18<00:05,  8.52it/s]"
     ]
    },
    {
     "name": "stdout",
     "output_type": "stream",
     "text": [
      "[array([  0.58925237,  21.76198584]), array([  -0.75782429,  673.82263725])]\n",
      "[array([  0.58310869,  25.57410446]), array([  -0.76176159,  675.53429781])]\n"
     ]
    },
    {
     "name": "stderr",
     "output_type": "stream",
     "text": [
      "\u001b[A\u001b[A\n",
      "\n",
      " 79%|███████▉  | 176/222 [00:18<00:05,  8.61it/s]\u001b[A\u001b[A\n",
      "\n",
      " 80%|███████▉  | 177/222 [00:18<00:05,  8.40it/s]"
     ]
    },
    {
     "name": "stdout",
     "output_type": "stream",
     "text": [
      "[array([  0.59036153,  21.22025886]), array([  -0.79445373,  688.69126254])]\n",
      "[array([  0.5934515,  20.3118625]), array([  -0.77594891,  682.09348804])]\n"
     ]
    },
    {
     "name": "stderr",
     "output_type": "stream",
     "text": [
      "\u001b[A\u001b[A\n",
      "\n",
      " 80%|████████  | 178/222 [00:18<00:05,  8.72it/s]\u001b[A\u001b[A\n",
      "\n",
      " 81%|████████  | 180/222 [00:18<00:04,  9.92it/s]"
     ]
    },
    {
     "name": "stdout",
     "output_type": "stream",
     "text": [
      "[array([  0.59738001,  17.80374382]), array([  -0.78858524,  686.46670202])]\n",
      "[array([  0.59283611,  19.36686655]), array([  -0.7876619 ,  687.75017042])]\n",
      "[array([  0.59638887,  15.75733111]), array([  -0.79692385,  690.11821295])]\n"
     ]
    },
    {
     "name": "stderr",
     "output_type": "stream",
     "text": [
      "\u001b[A\u001b[A\n",
      "\n",
      " 82%|████████▏ | 182/222 [00:19<00:04,  9.44it/s]"
     ]
    },
    {
     "name": "stdout",
     "output_type": "stream",
     "text": [
      "[array([  0.59979418,  14.27949934]), array([  -0.78961902,  688.26099055])]\n",
      "[array([  0.59928686,  14.2203113 ]), array([  -0.76445917,  680.38032404])]\n"
     ]
    },
    {
     "name": "stderr",
     "output_type": "stream",
     "text": [
      "\u001b[A\u001b[A\n",
      "\n",
      " 82%|████████▏ | 183/222 [00:19<00:04,  8.94it/s]\u001b[A\u001b[A\n",
      "\n",
      " 83%|████████▎ | 184/222 [00:19<00:04,  8.61it/s]"
     ]
    },
    {
     "name": "stdout",
     "output_type": "stream",
     "text": [
      "[array([  0.60074817,  13.77674973]), array([  -0.74766999,  676.15127397])]\n",
      "[array([  0.59498093,  15.97565898]), array([  -0.80596819,  692.23226099])]\n"
     ]
    },
    {
     "name": "stderr",
     "output_type": "stream",
     "text": [
      "\u001b[A\u001b[A\n",
      "\n",
      " 83%|████████▎ | 185/222 [00:19<00:04,  8.40it/s]\u001b[A\u001b[A\n",
      "\n",
      " 84%|████████▍ | 186/222 [00:19<00:04,  7.94it/s]"
     ]
    },
    {
     "name": "stdout",
     "output_type": "stream",
     "text": [
      "[array([  0.59417526,  16.73158201]), array([  -0.7,  647.3])]\n",
      "[array([  0.5958654 ,  15.64790004]), array([  -0.73152241,  659.68927181])]\n"
     ]
    },
    {
     "name": "stderr",
     "output_type": "stream",
     "text": [
      "\u001b[A\u001b[A\n",
      "\n",
      " 85%|████████▍ | 188/222 [00:19<00:03,  8.75it/s]\u001b[A\u001b[A"
     ]
    },
    {
     "name": "stdout",
     "output_type": "stream",
     "text": [
      "[array([  0.59295744,  18.18658409]), array([  -0.76354275,  674.19826939])]\n",
      "[array([  0.5871762 ,  20.39827465]), array([  -0.81162936,  691.98719538])]\n",
      "[array([  0.58108381,  23.53204351]), array([  -0.78982556,  683.0713094 ])]\n"
     ]
    },
    {
     "name": "stderr",
     "output_type": "stream",
     "text": [
      "\n",
      "\n",
      " 86%|████████▌ | 190/222 [00:19<00:03,  9.17it/s]\u001b[A\u001b[A\n",
      "\n",
      " 86%|████████▌ | 191/222 [00:20<00:03,  9.19it/s]"
     ]
    },
    {
     "name": "stdout",
     "output_type": "stream",
     "text": [
      "[array([  0.57841512,  21.78480285]), array([  -0.79016071,  681.11046812])]\n",
      "[array([  0.57074132,  27.30303048]), array([  -0.78187565,  679.71513432])]\n"
     ]
    },
    {
     "name": "stderr",
     "output_type": "stream",
     "text": [
      "\u001b[A\u001b[A\n",
      "\n",
      " 86%|████████▋ | 192/222 [00:20<00:04,  7.39it/s]\u001b[A\u001b[A\n",
      "\n",
      " 87%|████████▋ | 193/222 [00:20<00:04,  6.90it/s]"
     ]
    },
    {
     "name": "stdout",
     "output_type": "stream",
     "text": [
      "[array([  0.57051841,  28.374352  ]), array([  -0.79351513,  685.40930674])]\n",
      "[array([  0.57284108,  29.94931285]), array([  -0.78216462,  686.01779955])]\n"
     ]
    },
    {
     "name": "stderr",
     "output_type": "stream",
     "text": [
      "\u001b[A\u001b[A\n",
      "\n",
      " 87%|████████▋ | 194/222 [00:20<00:04,  6.48it/s]\u001b[A\u001b[A\n",
      "\n",
      " 88%|████████▊ | 196/222 [00:20<00:03,  7.53it/s]"
     ]
    },
    {
     "name": "stdout",
     "output_type": "stream",
     "text": [
      "[array([  0.57545726,  30.260137  ]), array([  -0.74661831,  676.32389884])]\n",
      "[array([  0.57724433,  29.26805219]), array([  -0.75383353,  678.60276835])]\n",
      "[array([  0.57697642,  30.94755495]), array([ -6.47022985e-01,   6.50674716e+02])]\n"
     ]
    },
    {
     "name": "stderr",
     "output_type": "stream",
     "text": [
      "\u001b[A\u001b[A\n",
      "\n",
      " 89%|████████▊ | 197/222 [00:20<00:03,  6.92it/s]\u001b[A\u001b[A\n",
      "\n",
      " 89%|████████▉ | 198/222 [00:21<00:03,  7.47it/s]"
     ]
    },
    {
     "name": "stdout",
     "output_type": "stream",
     "text": [
      "[array([  0.57729232,  29.79722955]), array([  -0.74926079,  667.48965109])]\n",
      "[array([  0.57739146,  29.19980509]), array([  -0.77281101,  679.52495539])]\n"
     ]
    },
    {
     "name": "stderr",
     "output_type": "stream",
     "text": [
      "\u001b[A\u001b[A\n",
      "\n",
      " 90%|█████████ | 200/222 [00:21<00:02,  8.32it/s]\u001b[A\u001b[A"
     ]
    },
    {
     "name": "stdout",
     "output_type": "stream",
     "text": [
      "[array([  0.57655041,  29.02194979]), array([  -0.78817633,  684.32059937])]\n",
      "[array([  0.57484307,  31.08426043]), array([  -0.792426  ,  687.34647641])]\n",
      "[array([  0.56725184,  34.46433243]), array([  -0.79025996,  685.14308094])]\n"
     ]
    },
    {
     "name": "stderr",
     "output_type": "stream",
     "text": [
      "\n",
      "\n",
      " 91%|█████████ | 202/222 [00:21<00:02,  8.81it/s]\u001b[A\u001b[A"
     ]
    },
    {
     "name": "stdout",
     "output_type": "stream",
     "text": [
      "[array([  0.58024664,  26.59782123]), array([  -0.81337778,  694.21279614])]\n",
      "[array([  0.56793201,  33.48311831]), array([  -0.81562804,  695.0334251 ])]\n",
      "[array([  0.5712728 ,  31.27924654]), array([  -0.75101162,  673.44416703])]\n"
     ]
    },
    {
     "name": "stderr",
     "output_type": "stream",
     "text": [
      "\n",
      "\n",
      " 92%|█████████▏| 204/222 [00:21<00:02,  8.86it/s]\u001b[A\u001b[A\n",
      "\n",
      " 92%|█████████▏| 205/222 [00:21<00:01,  8.69it/s]\u001b[A\u001b[A\n",
      "\n",
      " 93%|█████████▎| 206/222 [00:21<00:01,  8.26it/s]"
     ]
    },
    {
     "name": "stdout",
     "output_type": "stream",
     "text": [
      "[array([  0.56280895,  35.18204409]), array([  -0.75230866,  675.64720614])]\n",
      "[array([  0.56360866,  34.18706126]), array([  -0.74901681,  673.20590091])]\n"
     ]
    },
    {
     "name": "stderr",
     "output_type": "stream",
     "text": [
      "\u001b[A\u001b[A\n",
      "\n",
      " 93%|█████████▎| 207/222 [00:22<00:01,  8.61it/s]\u001b[A\u001b[A\n",
      "\n",
      " 94%|█████████▍| 209/222 [00:22<00:01,  9.32it/s]"
     ]
    },
    {
     "name": "stdout",
     "output_type": "stream",
     "text": [
      "[array([  0.56919215,  30.34844517]), array([  -0.73116732,  670.95180753])]\n",
      "[array([  0.56434491,  34.23254566]), array([  -0.67777652,  657.08717832])]\n",
      "[array([  0.55757232,  36.98553372]), array([  -0.74926079,  666.11354228])]\n"
     ]
    },
    {
     "name": "stderr",
     "output_type": "stream",
     "text": [
      "\u001b[A\u001b[A\n",
      "\n",
      " 95%|█████████▌| 211/222 [00:22<00:01,  9.19it/s]"
     ]
    },
    {
     "name": "stdout",
     "output_type": "stream",
     "text": [
      "[array([  0.56101399,  35.83852901]), array([  -0.74728152,  665.92391897])]\n",
      "[array([  0.55851363,  38.14348145]), array([  -0.74120852,  665.28826152])]\n"
     ]
    },
    {
     "name": "stderr",
     "output_type": "stream",
     "text": [
      "\u001b[A\u001b[A\n",
      "\n",
      " 95%|█████████▌| 212/222 [00:22<00:01,  9.03it/s]\u001b[A\u001b[A"
     ]
    },
    {
     "name": "stdout",
     "output_type": "stream",
     "text": [
      "[array([  0.56471565,  35.95018431]), array([  -0.73825082,  665.56684018])]\n",
      "[array([  0.56366366,  37.24803476]), array([  -0.76612889,  676.35343923])]\n"
     ]
    },
    {
     "name": "stderr",
     "output_type": "stream",
     "text": [
      "\n",
      "\n",
      " 96%|█████████▋| 214/222 [00:22<00:00,  9.13it/s]\u001b[A\u001b[A\n",
      "\n",
      " 97%|█████████▋| 215/222 [00:22<00:00,  8.98it/s]"
     ]
    },
    {
     "name": "stdout",
     "output_type": "stream",
     "text": [
      "[array([  0.56556672,  36.14490501]), array([  -0.74595875,  670.32898551])]\n",
      "[array([  0.56280197,  37.69924923]), array([  -0.75510861,  673.85093998])]\n",
      "[array([  0.56140877,  39.52647142]), array([  -0.7804749 ,  684.01310685])]\n"
     ]
    },
    {
     "name": "stderr",
     "output_type": "stream",
     "text": [
      "\u001b[A\u001b[A\n",
      "\n",
      " 98%|█████████▊| 217/222 [00:23<00:00,  9.31it/s]\u001b[A\u001b[A"
     ]
    },
    {
     "name": "stdout",
     "output_type": "stream",
     "text": [
      "[array([  0.56618031,  35.22763905]), array([  -0.79286662,  686.5335123 ])]\n",
      "[array([  0.56202567,  38.36785764]), array([  -0.82001736,  693.6549031 ])]\n"
     ]
    },
    {
     "name": "stderr",
     "output_type": "stream",
     "text": [
      "\n",
      "\n",
      "\r",
      " 99%|█████████▊| 219/222 [00:23<00:00,  9.22it/s]"
     ]
    },
    {
     "name": "stdout",
     "output_type": "stream",
     "text": [
      "[array([  0.57693608,  28.99413473]), array([  -0.73556536,  671.35888327])]\n",
      "[array([  0.57415549,  30.87390889]), array([  -0.76092389,  675.16020508])]\n",
      "[array([  0.57500491,  30.34524668]), array([  -0.69906929,  646.64150293])]\n"
     ]
    },
    {
     "name": "stderr",
     "output_type": "stream",
     "text": [
      "\u001b[A\u001b[A\n",
      "\n",
      "100%|█████████▉| 221/222 [00:23<00:00, 10.05it/s]\u001b[A\u001b[A\n",
      "\n",
      "\u001b[A\u001b[A"
     ]
    },
    {
     "name": "stdout",
     "output_type": "stream",
     "text": [
      "[MoviePy] Done.\n",
      "[MoviePy] >>>> Video ready: white_output1.mp4 \n",
      "\n",
      "CPU times: user 1min 8s, sys: 4.5 s, total: 1min 12s\n",
      "Wall time: 24.6 s\n"
     ]
    }
   ],
   "source": [
    "white_output = 'white_output1.mp4'\n",
    "testw_clip = VideoFileClip(\"solidWhiteRight.mp4\")\n",
    "white_clip = testw_clip.fl_image(LaneLineDetector)\n",
    "%time white_clip.write_videofile(white_output, audio=False)"
   ]
  },
  {
   "cell_type": "code",
   "execution_count": 104,
   "metadata": {},
   "outputs": [
    {
     "data": {
      "text/html": [
       "\n",
       "<video width=\"960\" height=\"520\" controls>\n",
       "  <source src=\"white_output1.mp4\" type=\"video/mp4\">\n",
       "</video>\n"
      ],
      "text/plain": [
       "<IPython.core.display.HTML object>"
      ]
     },
     "execution_count": 104,
     "metadata": {},
     "output_type": "execute_result"
    }
   ],
   "source": [
    "HTML(\"\"\"\n",
    "<video width=\"960\" height=\"520\" controls>\n",
    "  <source src=\"{0}\" type=\"video/mp4\">\n",
    "</video>\n",
    "\"\"\".format(white_output))"
   ]
  },
  {
   "cell_type": "code",
   "execution_count": 105,
   "metadata": {},
   "outputs": [
    {
     "name": "stdout",
     "output_type": "stream",
     "text": [
      "[array([  0.68934276, -32.01146541]), array([  -0.62580396,  611.55926607])]\n",
      "[MoviePy] >>>> Building video yellow_output1.mp4\n",
      "[MoviePy] Writing video yellow_output1.mp4\n"
     ]
    },
    {
     "name": "stderr",
     "output_type": "stream",
     "text": [
      "\n",
      "\n",
      "  0%|          | 0/682 [00:00<?, ?it/s]\u001b[A\u001b[A\n",
      "\n",
      "  0%|          | 2/682 [00:00<00:50, 13.46it/s]"
     ]
    },
    {
     "name": "stdout",
     "output_type": "stream",
     "text": [
      "[array([  0.68934276, -32.01146541]), array([  -0.62580396,  611.55926607])]\n",
      "[array([  0.68735834, -29.76692379]), array([  -0.63033525,  614.3376622 ])]\n"
     ]
    },
    {
     "name": "stderr",
     "output_type": "stream",
     "text": [
      "\u001b[A\u001b[A"
     ]
    },
    {
     "name": "stdout",
     "output_type": "stream",
     "text": [
      "[array([  0.67897649, -25.11654336]), array([  -0.6168337,  609.343378 ])]\n"
     ]
    },
    {
     "name": "stderr",
     "output_type": "stream",
     "text": [
      "\n",
      "\n",
      "  1%|          | 4/682 [00:00<00:48, 13.92it/s]\u001b[A\u001b[A"
     ]
    },
    {
     "name": "stdout",
     "output_type": "stream",
     "text": [
      "[array([  0.68120813, -26.17041094]), array([  -0.63035707,  614.56426033])]\n",
      "[array([  0.69910628, -36.39617637]), array([  -0.63318136,  616.61135898])]\n"
     ]
    },
    {
     "name": "stderr",
     "output_type": "stream",
     "text": [
      "\n",
      "\n",
      "\r",
      "  1%|          | 6/682 [00:00<00:48, 13.91it/s]"
     ]
    },
    {
     "name": "stdout",
     "output_type": "stream",
     "text": [
      "[array([  0.67729144, -24.85603567]), array([  -0.63853882,  619.77385362])]\n"
     ]
    },
    {
     "name": "stderr",
     "output_type": "stream",
     "text": [
      "\u001b[A\u001b[A\n",
      "\n",
      "  1%|          | 8/682 [00:00<00:46, 14.43it/s]"
     ]
    },
    {
     "name": "stdout",
     "output_type": "stream",
     "text": [
      "[array([  0.67562712, -23.90883095]), array([  -0.64640211,  623.2793375 ])]\n",
      "[array([  0.66038069, -15.84162088]), array([  -0.64577132,  621.8799992 ])]\n",
      "[array([  0.66550059, -19.72442594]), array([  -0.64694044,  623.32579318])]\n"
     ]
    },
    {
     "name": "stderr",
     "output_type": "stream",
     "text": [
      "\u001b[A\u001b[A\n",
      "\n",
      "  1%|▏         | 10/682 [00:00<00:48, 13.74it/s]\u001b[A\u001b[A\n",
      "\n",
      "  2%|▏         | 12/682 [00:00<00:52, 12.86it/s]"
     ]
    },
    {
     "name": "stdout",
     "output_type": "stream",
     "text": [
      "[array([ 0.64403892, -6.61267842]), array([  -0.66389501,  628.32072171])]\n",
      "[array([  0.66137714, -18.13745009]), array([  -0.66284302,  627.13168242])]\n",
      "[array([  0.65751879, -16.53643434]), array([  -0.65576529,  624.47033697])]\n"
     ]
    },
    {
     "name": "stderr",
     "output_type": "stream",
     "text": [
      "\u001b[A\u001b[A\n",
      "\n",
      "  2%|▏         | 14/682 [00:01<00:52, 12.76it/s]\u001b[A\u001b[A"
     ]
    },
    {
     "name": "stdout",
     "output_type": "stream",
     "text": [
      "[array([  0.64839373, -10.1581935 ]), array([  -0.68136956,  636.31542022])]\n",
      "[array([ 0.64153332, -6.26058287]), array([  -0.67204685,  632.06423336])]\n",
      "[array([  0.64838058, -10.62623171]), array([  -0.6759875 ,  634.85915165])]\n"
     ]
    },
    {
     "name": "stderr",
     "output_type": "stream",
     "text": [
      "\n",
      "\n",
      "  2%|▏         | 16/682 [00:01<00:50, 13.22it/s]\u001b[A\u001b[A\n",
      "\n",
      "  3%|▎         | 18/682 [00:01<00:48, 13.79it/s]"
     ]
    },
    {
     "name": "stdout",
     "output_type": "stream",
     "text": [
      "[array([ 0.64396237, -7.88142721]), array([  -0.677966  ,  633.47548497])]\n",
      "[array([ 0.64453389, -8.32940301]), array([  -0.68759887,  638.74308228])]\n",
      "[array([ 0.63521119, -2.59338531]), array([  -0.68655179,  639.38735194])]\n"
     ]
    },
    {
     "name": "stderr",
     "output_type": "stream",
     "text": [
      "\u001b[A\u001b[A\n",
      "\n",
      "  3%|▎         | 20/682 [00:01<00:47, 14.00it/s]\u001b[A\u001b[A"
     ]
    },
    {
     "name": "stdout",
     "output_type": "stream",
     "text": [
      "[array([  0.64924611, -11.61593681]), array([  -0.69417545,  640.98379372])]\n",
      "[array([  0.65304124, -13.55959881]), array([  -0.70411262,  643.98927616])]\n",
      "[array([ 0.64056629, -6.87444491]), array([  -0.70372352,  642.2312552 ])]\n",
      "[array([ 0.62733976,  1.76800908]), array([  -0.67950887,  632.8802143 ])]\n"
     ]
    },
    {
     "name": "stderr",
     "output_type": "stream",
     "text": [
      "\n",
      "\n",
      "  3%|▎         | 22/682 [00:01<00:46, 14.30it/s]\u001b[A\u001b[A\n",
      "\n",
      "  4%|▎         | 24/682 [00:01<00:45, 14.37it/s]\u001b[A\u001b[A"
     ]
    },
    {
     "name": "stdout",
     "output_type": "stream",
     "text": [
      "[array([  0.65162173, -13.42972043]), array([  -0.69000317,  636.35546685])]\n",
      "[array([ 0.64119907, -7.32720696]), array([  -0.68710368,  635.03240203])]\n",
      "[array([ 0.6376673, -6.3045616]), array([  -0.69251391,  637.79102046])]\n"
     ]
    },
    {
     "name": "stderr",
     "output_type": "stream",
     "text": [
      "\n",
      "\n",
      "  4%|▍         | 26/682 [00:01<00:45, 14.41it/s]\u001b[A\u001b[A\n",
      "\n",
      "  4%|▍         | 28/682 [00:02<00:45, 14.50it/s]"
     ]
    },
    {
     "name": "stdout",
     "output_type": "stream",
     "text": [
      "[array([ 0.64215512, -8.08950796]), array([  -0.69775831,  642.29522123])]\n",
      "[array([ 0.62928211, -2.02401206]), array([  -0.71759277,  649.68370103])]\n",
      "[array([ 0.62963976, -3.01068618]), array([  -0.71413903,  647.86022753])]\n"
     ]
    },
    {
     "name": "stderr",
     "output_type": "stream",
     "text": [
      "\u001b[A\u001b[A\n",
      "\n",
      "  4%|▍         | 30/682 [00:02<00:47, 13.73it/s]\u001b[A\u001b[A\n",
      "\n",
      "  5%|▍         | 32/682 [00:02<00:45, 14.30it/s]"
     ]
    },
    {
     "name": "stdout",
     "output_type": "stream",
     "text": [
      "[array([ 0.61953882,  3.04281427]), array([  -0.70823238,  644.88718358])]\n",
      "[array([  0.65105017, -15.53282097]), array([  -0.72887748,  652.04264635])]\n",
      "[array([  0.66437464, -23.86568368]), array([  -0.74449123,  660.22188682])]\n",
      "[array([  0.64022778, -10.61169377]), array([  -0.72915805,  653.06303655])]\n"
     ]
    },
    {
     "name": "stderr",
     "output_type": "stream",
     "text": [
      "\u001b[A\u001b[A\n",
      "\n",
      "  5%|▍         | 34/682 [00:02<00:44, 14.64it/s]\u001b[A\u001b[A\n",
      "\n",
      "  5%|▌         | 36/682 [00:02<00:43, 14.88it/s]"
     ]
    },
    {
     "name": "stdout",
     "output_type": "stream",
     "text": [
      "[array([  0.63886998, -10.01404306]), array([  -0.72116536,  650.09069038])]\n",
      "[array([  0.59749435,  16.85710249]), array([  -0.73082765,  653.06993724])]\n",
      "[array([  0.58603072,  24.64340569]), array([  -0.73776182,  656.35212299])]\n",
      "[array([  0.6400275, -11.0179296]), array([  -0.73963745,  656.94469672])]\n"
     ]
    },
    {
     "name": "stderr",
     "output_type": "stream",
     "text": [
      "\u001b[A\u001b[A\n",
      "\n",
      "  6%|▌         | 38/682 [00:02<00:42, 15.01it/s]\u001b[A\u001b[A"
     ]
    },
    {
     "name": "stdout",
     "output_type": "stream",
     "text": [
      "[array([ 0.62993342, -5.30850647]), array([  -0.73536715,  654.20006993])]\n",
      "[array([ 0.6187116,  1.6782297]), array([  -0.73402254,  653.66378966])]\n",
      "[array([ 0.62348608, -1.95734291]), array([  -0.74016579,  655.61330161])]\n"
     ]
    },
    {
     "name": "stderr",
     "output_type": "stream",
     "text": [
      "\n",
      "\n",
      "  6%|▌         | 40/682 [00:02<00:44, 14.37it/s]\u001b[A\u001b[A\n",
      "\n",
      "  6%|▌         | 42/682 [00:02<00:43, 14.57it/s]"
     ]
    },
    {
     "name": "stdout",
     "output_type": "stream",
     "text": [
      "[array([ 0.62054954, -1.33436763]), array([  -0.73672694,  652.54025301])]\n",
      "[array([ 0.61573678,  2.18882024]), array([  -0.7326208 ,  651.40872066])]\n",
      "[array([ 0.63609711, -8.87010783]), array([  -0.73760068,  653.42447994])]\n"
     ]
    },
    {
     "name": "stderr",
     "output_type": "stream",
     "text": [
      "\u001b[A\u001b[A\n",
      "\n",
      "  6%|▋         | 44/682 [00:03<00:56, 11.31it/s]"
     ]
    },
    {
     "name": "stdout",
     "output_type": "stream",
     "text": [
      "[array([ 0.63107455, -5.60755733]), array([  -0.72962123,  650.21592125])]\n",
      "[array([ 0.62495712, -1.05524837]), array([  -0.73324945,  651.90405882])]\n"
     ]
    },
    {
     "name": "stderr",
     "output_type": "stream",
     "text": [
      "\u001b[A\u001b[A\n",
      "\n",
      "  7%|▋         | 46/682 [00:03<01:01, 10.36it/s]"
     ]
    },
    {
     "name": "stdout",
     "output_type": "stream",
     "text": [
      "[array([ 0.62124681,  1.39942758]), array([  -0.75511678,  661.30663179])]\n",
      "[array([ 0.62128338,  2.64833456]), array([  -0.73622163,  653.45723702])]\n",
      "[array([  0.59246499,  21.57549579]), array([  -0.72596818,  649.95382511])]\n"
     ]
    },
    {
     "name": "stderr",
     "output_type": "stream",
     "text": [
      "\u001b[A\u001b[A\n",
      "\n",
      "  7%|▋         | 48/682 [00:03<00:55, 11.32it/s]\u001b[A\u001b[A\n",
      "\n",
      "  7%|▋         | 50/682 [00:03<00:52, 12.08it/s]"
     ]
    },
    {
     "name": "stdout",
     "output_type": "stream",
     "text": [
      "[array([ 0.6218053 ,  2.74273399]), array([  -0.72764065,  650.07596102])]\n",
      "[array([ 0.62664371, -0.58485037]), array([  -0.72599086,  649.5331297 ])]\n",
      "[array([ 0.62374003,  0.14307309]), array([  -0.7367681 ,  653.11124773])]\n"
     ]
    },
    {
     "name": "stderr",
     "output_type": "stream",
     "text": [
      "\u001b[A\u001b[A\n",
      "\n",
      "  8%|▊         | 52/682 [00:03<00:50, 12.60it/s]\u001b[A\u001b[A"
     ]
    },
    {
     "name": "stdout",
     "output_type": "stream",
     "text": [
      "[array([ 0.61186409,  6.45896769]), array([  -0.73047047,  648.89676621])]\n",
      "[array([ 0.61846477,  4.32728183]), array([  -0.73194649,  650.00553432])]\n",
      "[array([ 0.61500296,  6.41200032]), array([  -0.73811606,  653.0904573 ])]\n"
     ]
    },
    {
     "name": "stderr",
     "output_type": "stream",
     "text": [
      "\n",
      "\n",
      "  8%|▊         | 54/682 [00:04<00:53, 11.85it/s]\u001b[A\u001b[A"
     ]
    },
    {
     "name": "stdout",
     "output_type": "stream",
     "text": [
      "[array([  0.6107644 ,  10.13002495]), array([  -0.73588452,  652.65007684])]\n",
      "[array([ 0.6288295 ,  0.00758316]), array([  -0.73347039,  652.07539425])]\n"
     ]
    },
    {
     "name": "stderr",
     "output_type": "stream",
     "text": [
      "\n",
      "\n",
      "  8%|▊         | 56/682 [00:04<00:53, 11.73it/s]\u001b[A\u001b[A"
     ]
    },
    {
     "name": "stdout",
     "output_type": "stream",
     "text": [
      "[array([ 0.6244545 ,  2.46194852]), array([  -0.73661627,  652.91343717])]\n",
      "[array([ 0.62135334,  4.56415968]), array([  -0.73840714,  653.90189212])]\n"
     ]
    },
    {
     "name": "stderr",
     "output_type": "stream",
     "text": [
      "\n",
      "\n",
      "  9%|▊         | 58/682 [00:04<00:57, 10.80it/s]\u001b[A\u001b[A\n",
      "\n",
      "  9%|▉         | 60/682 [00:04<00:53, 11.55it/s]"
     ]
    },
    {
     "name": "stdout",
     "output_type": "stream",
     "text": [
      "[array([ 0.62350991,  4.41563078]), array([  -0.72499669,  648.22805963])]\n",
      "[array([ 0.62269923,  5.22658098]), array([  -0.718021 ,  647.6746925])]\n",
      "[array([  0.59707057,  20.65657319]), array([  -0.72102139,  647.80724734])]\n"
     ]
    },
    {
     "name": "stderr",
     "output_type": "stream",
     "text": [
      "\u001b[A\u001b[A\n",
      "\n",
      "  9%|▉         | 62/682 [00:04<00:51, 11.96it/s]\u001b[A\u001b[A"
     ]
    },
    {
     "name": "stdout",
     "output_type": "stream",
     "text": [
      "[array([  0.6086962 ,  14.33442182]), array([  -0.72093274,  647.64472685])]\n",
      "[array([ 0.62387091,  2.88745942]), array([  -0.70635371,  640.99025724])]\n",
      "[array([ 0.62459873,  2.24681094]), array([  -0.69757375,  636.01346429])]\n"
     ]
    },
    {
     "name": "stderr",
     "output_type": "stream",
     "text": [
      "\n",
      "\n",
      "  9%|▉         | 64/682 [00:04<00:57, 10.81it/s]\u001b[A\u001b[A\n",
      "\n",
      " 10%|▉         | 66/682 [00:05<00:55, 11.11it/s]"
     ]
    },
    {
     "name": "stdout",
     "output_type": "stream",
     "text": [
      "[array([ 0.62827804, -0.45476053]), array([  -0.69591834,  635.86456708])]\n",
      "[array([ 0.63002144,  0.00667778]), array([  -0.70631617,  640.88389657])]\n",
      "[array([ 0.62975568,  0.12373891]), array([  -0.70317499,  640.09005544])]\n"
     ]
    },
    {
     "name": "stderr",
     "output_type": "stream",
     "text": [
      "\u001b[A\u001b[A\n",
      "\n",
      " 10%|▉         | 68/682 [00:05<00:52, 11.71it/s]\u001b[A\u001b[A"
     ]
    },
    {
     "name": "stdout",
     "output_type": "stream",
     "text": [
      "[array([ 0.64231477, -6.20492982]), array([  -0.71107387,  644.6538193 ])]\n",
      "[array([ 0.64046738, -4.50155659]), array([  -0.70444645,  641.12043288])]\n",
      "[array([  0.6601971 , -14.89849217]), array([  -0.70681538,  641.9893803 ])]\n"
     ]
    },
    {
     "name": "stderr",
     "output_type": "stream",
     "text": [
      "\n",
      "\n",
      " 10%|█         | 70/682 [00:05<01:07,  9.06it/s]\u001b[A\u001b[A\n",
      "\n",
      " 11%|█         | 72/682 [00:05<00:59, 10.31it/s]"
     ]
    },
    {
     "name": "stdout",
     "output_type": "stream",
     "text": [
      "[array([ 0.64462749, -6.21762332]), array([  -0.70676288,  642.77886924])]\n",
      "[array([ 0.63484904, -0.46927347]), array([  -0.7055812 ,  642.12287511])]\n",
      "[array([  0.61618077,  10.98470003]), array([  -0.71096225,  643.85820041])]\n"
     ]
    },
    {
     "name": "stderr",
     "output_type": "stream",
     "text": [
      "\u001b[A\u001b[A\n",
      "\n",
      " 11%|█         | 74/682 [00:05<00:56, 10.83it/s]\u001b[A\u001b[A"
     ]
    },
    {
     "name": "stdout",
     "output_type": "stream",
     "text": [
      "[array([ 0.62267993,  7.19638804]), array([  -0.70029681,  640.46144798])]\n",
      "[array([  0.5979148 ,  25.61353835]), array([  -0.71018715,  644.49635429])]\n",
      "[array([ 0.6363671 , -1.74896618]), array([  -0.71656578,  647.65861878])]\n"
     ]
    },
    {
     "name": "stderr",
     "output_type": "stream",
     "text": [
      "\n",
      "\n",
      "\r",
      " 11%|█         | 76/682 [00:06<01:05,  9.31it/s]"
     ]
    },
    {
     "name": "stdout",
     "output_type": "stream",
     "text": [
      "[array([ 0.6427369 , -4.14784619]), array([  -0.70913741,  644.24305322])]\n",
      "[array([ 0.6458917 , -6.37404373]), array([  -0.71237765,  645.61305509])]\n"
     ]
    },
    {
     "name": "stderr",
     "output_type": "stream",
     "text": [
      "\u001b[A\u001b[A\n",
      "\n",
      " 11%|█▏        | 78/682 [00:06<01:12,  8.37it/s]\u001b[A\u001b[A\n",
      "\n",
      " 12%|█▏        | 80/682 [00:06<01:05,  9.23it/s]"
     ]
    },
    {
     "name": "stdout",
     "output_type": "stream",
     "text": [
      "[array([ 0.64453727, -6.46523454]), array([  -0.70495924,  641.2528407 ])]\n",
      "[array([ 0.63818571, -2.21887472]), array([  -0.71562947,  646.55379885])]\n",
      "[array([  0.65205508, -10.33936991]), array([  -0.70636906,  642.01001381])]\n"
     ]
    },
    {
     "name": "stderr",
     "output_type": "stream",
     "text": [
      "\u001b[A\u001b[A\n",
      "\n",
      " 12%|█▏        | 82/682 [00:06<01:00,  9.88it/s]\u001b[A\u001b[A"
     ]
    },
    {
     "name": "stdout",
     "output_type": "stream",
     "text": [
      "[array([  0.6609373 , -14.59188013]), array([  -0.70880429,  642.8448368 ])]\n",
      "[array([  0.65396287, -11.43442768]), array([  -0.70579536,  640.27406961])]\n",
      "[array([  0.65331923, -10.74323307]), array([  -0.70512474,  640.20576684])]\n"
     ]
    },
    {
     "name": "stderr",
     "output_type": "stream",
     "text": [
      "\n",
      "\n",
      "\r",
      " 12%|█▏        | 84/682 [00:07<01:02,  9.60it/s]"
     ]
    },
    {
     "name": "stdout",
     "output_type": "stream",
     "text": [
      "[array([  0.66635755, -18.01619857]), array([  -0.69345245,  635.68479351])]\n",
      "[array([ 0.6454977 , -6.88784026]), array([  -0.71079424,  642.18769101])]\n"
     ]
    },
    {
     "name": "stderr",
     "output_type": "stream",
     "text": [
      "\u001b[A\u001b[A\n",
      "\n",
      " 13%|█▎        | 86/682 [00:07<01:02,  9.54it/s]"
     ]
    },
    {
     "name": "stdout",
     "output_type": "stream",
     "text": [
      "[array([  0.61787723,  11.644045  ]), array([  -0.6987847 ,  638.77939859])]\n",
      "[array([  0.62079307,  11.55181606]), array([  -0.70804307,  642.50107694])]\n"
     ]
    },
    {
     "name": "stderr",
     "output_type": "stream",
     "text": [
      "\u001b[A\u001b[A\n",
      "\n",
      " 13%|█▎        | 88/682 [00:07<01:02,  9.47it/s]\u001b[A\u001b[A\n",
      "\n",
      " 13%|█▎        | 89/682 [00:07<01:06,  8.90it/s]"
     ]
    },
    {
     "name": "stdout",
     "output_type": "stream",
     "text": [
      "[array([ 0.64526189, -7.5142978 ]), array([  -0.69591612,  637.1825796 ])]\n",
      "[array([ 0.64666257, -7.36884122]), array([  -0.68847133,  634.24923931])]\n"
     ]
    },
    {
     "name": "stderr",
     "output_type": "stream",
     "text": [
      "\u001b[A\u001b[A\n",
      "\n",
      " 13%|█▎        | 90/682 [00:07<01:10,  8.37it/s]\u001b[A\u001b[A\n",
      "\n",
      " 13%|█▎        | 91/682 [00:07<01:11,  8.25it/s]"
     ]
    },
    {
     "name": "stdout",
     "output_type": "stream",
     "text": [
      "[array([ 0.63822421, -2.62842682]), array([  -0.68408048,  632.61454442])]\n",
      "[array([ 0.64495973, -6.07520132]), array([  -0.68258228,  632.12483628])]\n"
     ]
    },
    {
     "name": "stderr",
     "output_type": "stream",
     "text": [
      "\u001b[A\u001b[A\n",
      "\n",
      " 13%|█▎        | 92/682 [00:08<01:12,  8.19it/s]\u001b[A\u001b[A\n",
      "\n",
      " 14%|█▎        | 93/682 [00:08<01:11,  8.27it/s]"
     ]
    },
    {
     "name": "stdout",
     "output_type": "stream",
     "text": [
      "[array([ 0.64894081, -6.3214195 ]), array([  -0.68450191,  634.62840375])]\n",
      "[array([ 0.65172795, -6.8055741 ]), array([  -0.68704027,  637.43234303])]\n"
     ]
    },
    {
     "name": "stderr",
     "output_type": "stream",
     "text": [
      "\u001b[A\u001b[A\n",
      "\n",
      " 14%|█▍        | 94/682 [00:08<01:10,  8.35it/s]\u001b[A\u001b[A\n",
      "\n",
      " 14%|█▍        | 96/682 [00:08<01:03,  9.20it/s]"
     ]
    },
    {
     "name": "stdout",
     "output_type": "stream",
     "text": [
      "[array([  0.66834136, -14.94326983]), array([  -0.68792195,  638.63454298])]\n",
      "[array([ 0.65441275, -7.00372049]), array([  -0.68348159,  637.36579774])]\n",
      "[array([ 0.6401235,  1.2333078]), array([  -0.69244759,  641.25543204])]\n"
     ]
    },
    {
     "name": "stderr",
     "output_type": "stream",
     "text": [
      "\u001b[A\u001b[A\n",
      "\n",
      " 14%|█▍        | 98/682 [00:08<00:59,  9.79it/s]\u001b[A\u001b[A"
     ]
    },
    {
     "name": "stdout",
     "output_type": "stream",
     "text": [
      "[array([  0.67090553, -18.15524402]), array([  -0.68759368,  638.53097717])]\n",
      "[array([ 0.62824061,  8.54156287]), array([  -0.69317555,  639.76293011])]\n",
      "[array([ 0.65153994, -7.78280817]), array([  -0.70252996,  643.57105367])]\n"
     ]
    },
    {
     "name": "stderr",
     "output_type": "stream",
     "text": [
      "\n",
      "\n",
      " 15%|█▍        | 100/682 [00:08<00:54, 10.61it/s]\u001b[A\u001b[A"
     ]
    },
    {
     "name": "stdout",
     "output_type": "stream",
     "text": [
      "[array([ 0.65012074, -6.31153552]), array([  -0.70724759,  645.34826536])]\n",
      "[array([ 0.65075887, -9.37035164]), array([  -0.69725334,  642.08592287])]\n",
      "[array([ 0.64988635, -8.58181898]), array([  -0.70460929,  643.63341687])]\n"
     ]
    },
    {
     "name": "stderr",
     "output_type": "stream",
     "text": [
      "\n",
      "\n",
      " 15%|█▍        | 102/682 [00:08<00:57, 10.05it/s]\u001b[A\u001b[A\n",
      "\n",
      " 15%|█▌        | 104/682 [00:09<01:00,  9.55it/s]"
     ]
    },
    {
     "name": "stdout",
     "output_type": "stream",
     "text": [
      "[array([ 0.64330148, -3.94284172]), array([  -0.69007402,  637.53043598])]\n",
      "[array([ 0.65282147, -9.61181307]), array([  -0.68836969,  636.22415492])]\n"
     ]
    },
    {
     "name": "stderr",
     "output_type": "stream",
     "text": [
      "\u001b[A\u001b[A\n",
      "\n",
      " 15%|█▌        | 105/682 [00:09<01:03,  9.14it/s]\u001b[A\u001b[A\n",
      "\n",
      " 16%|█▌        | 106/682 [00:09<01:03,  9.05it/s]"
     ]
    },
    {
     "name": "stdout",
     "output_type": "stream",
     "text": [
      "[array([ 0.64677059, -6.62216616]), array([  -0.68134683,  632.84716378])]\n",
      "[array([ 0.64317886, -3.49294075]), array([  -0.68713935,  635.76543823])]\n"
     ]
    },
    {
     "name": "stderr",
     "output_type": "stream",
     "text": [
      "\u001b[A\u001b[A\n",
      "\n",
      " 16%|█▌        | 107/682 [00:09<01:04,  8.98it/s]\u001b[A\u001b[A\n",
      "\n",
      " 16%|█▌        | 109/682 [00:09<00:58,  9.78it/s]"
     ]
    },
    {
     "name": "stdout",
     "output_type": "stream",
     "text": [
      "[array([ 0.65401194, -9.22353006]), array([  -0.69678345,  640.45240661])]\n",
      "[array([  0.65856116, -11.82239861]), array([  -0.68381995,  635.61042704])]\n",
      "[array([ 0.64461647, -3.3722385 ]), array([  -0.69619561,  640.71978894])]\n"
     ]
    },
    {
     "name": "stderr",
     "output_type": "stream",
     "text": [
      "\u001b[A\u001b[A\n",
      "\n",
      " 16%|█▋        | 111/682 [00:09<00:55, 10.34it/s]\u001b[A\u001b[A"
     ]
    },
    {
     "name": "stdout",
     "output_type": "stream",
     "text": [
      "[array([ 0.64401717, -2.82959225]), array([  -0.69551554,  640.98192583])]\n",
      "[array([  0.61705138,  14.80514581]), array([  -0.67911803,  635.52238349])]\n",
      "[array([  0.61592647,  15.54649135]), array([  -0.70933832,  646.57228557])]\n"
     ]
    },
    {
     "name": "stderr",
     "output_type": "stream",
     "text": [
      "\n",
      "\n",
      "\r",
      " 17%|█▋        | 113/682 [00:10<00:59,  9.59it/s]"
     ]
    },
    {
     "name": "stdout",
     "output_type": "stream",
     "text": [
      "[array([  0.61618756,  14.54911315]), array([  -0.69883399,  642.97976571])]\n",
      "[array([ 0.64113597, -2.14935374]), array([  -0.70812861,  646.54182411])]\n"
     ]
    },
    {
     "name": "stderr",
     "output_type": "stream",
     "text": [
      "\u001b[A\u001b[A\n",
      "\n",
      " 17%|█▋        | 115/682 [00:10<00:56, 10.06it/s]\u001b[A\u001b[A\n",
      "\n",
      " 17%|█▋        | 117/682 [00:10<00:52, 10.80it/s]"
     ]
    },
    {
     "name": "stdout",
     "output_type": "stream",
     "text": [
      "[array([ 0.63456611,  0.94346395]), array([  -0.69158398,  641.05377383])]\n",
      "[array([ 0.64933384, -8.44342081]), array([  -0.71470259,  649.05326415])]\n",
      "[array([ 0.63662976, -1.19385858]), array([  -0.71094323,  647.16258363])]\n"
     ]
    },
    {
     "name": "stderr",
     "output_type": "stream",
     "text": [
      "\u001b[A\u001b[A\n",
      "\n",
      " 17%|█▋        | 119/682 [00:10<00:54, 10.39it/s]"
     ]
    },
    {
     "name": "stdout",
     "output_type": "stream",
     "text": [
      "[array([  0.65917273, -13.49926808]), array([  -0.69421958,  640.24485321])]\n",
      "[array([  0.67554334, -23.39894491]), array([  -0.7199425,  650.5395111])]\n"
     ]
    },
    {
     "name": "stderr",
     "output_type": "stream",
     "text": [
      "\u001b[A\u001b[A\n",
      "\n",
      " 18%|█▊        | 121/682 [00:10<00:57,  9.81it/s]"
     ]
    },
    {
     "name": "stdout",
     "output_type": "stream",
     "text": [
      "[array([ 0.63657308, -0.72338606]), array([  -0.70033542,  642.7115104 ])]\n",
      "[array([ 0.65040278, -8.58777189]), array([  -0.69848607,  641.86836102])]\n"
     ]
    },
    {
     "name": "stderr",
     "output_type": "stream",
     "text": [
      "\u001b[A\u001b[A\n",
      "\n",
      " 18%|█▊        | 123/682 [00:11<00:54, 10.19it/s]\u001b[A\u001b[A"
     ]
    },
    {
     "name": "stdout",
     "output_type": "stream",
     "text": [
      "[array([  0.66759083, -18.23811015]), array([  -0.70131832,  643.26995544])]\n",
      "[array([  0.6191719,  11.2536226]), array([  -0.69803315,  643.02068322])]\n",
      "[array([ 0.64348189, -4.44999368]), array([  -0.69822962,  643.98524922])]\n"
     ]
    },
    {
     "name": "stderr",
     "output_type": "stream",
     "text": [
      "\n",
      "\n",
      " 18%|█▊        | 125/682 [00:11<00:52, 10.58it/s]\u001b[A\u001b[A\n",
      "\n",
      " 19%|█▊        | 127/682 [00:11<00:49, 11.14it/s]"
     ]
    },
    {
     "name": "stdout",
     "output_type": "stream",
     "text": [
      "[array([  0.61828207,  11.38486539]), array([  -0.70141474,  645.11677611])]\n",
      "[array([ 0.62913102,  5.14419202]), array([  -0.69339556,  641.04511516])]\n",
      "[array([ 0.63302064,  1.48669596]), array([  -0.69159603,  641.35879212])]\n"
     ]
    },
    {
     "name": "stderr",
     "output_type": "stream",
     "text": [
      "\u001b[A\u001b[A\n",
      "\n",
      " 19%|█▉        | 129/682 [00:11<00:52, 10.43it/s]"
     ]
    },
    {
     "name": "stdout",
     "output_type": "stream",
     "text": [
      "[array([ 0.6342257 ,  1.33105793]), array([  -0.70289216,  646.31443528])]\n",
      "[array([ 0.63119941,  2.12741786]), array([  -0.70386308,  646.6108206 ])]\n"
     ]
    },
    {
     "name": "stderr",
     "output_type": "stream",
     "text": [
      "\u001b[A\u001b[A\n",
      "\n",
      " 19%|█▉        | 131/682 [00:11<00:55,  9.93it/s]"
     ]
    },
    {
     "name": "stdout",
     "output_type": "stream",
     "text": [
      "[array([ 0.63095227,  2.93242867]), array([  -0.69902074,  644.76328538])]\n",
      "[array([ 0.63457561,  0.78043128]), array([  -0.71095721,  649.28980821])]\n",
      "[array([ 0.64247205, -3.43188722]), array([  -0.69584123,  642.87901017])]\n"
     ]
    },
    {
     "name": "stderr",
     "output_type": "stream",
     "text": [
      "\u001b[A\u001b[A\n",
      "\n",
      " 20%|█▉        | 133/682 [00:12<00:53, 10.35it/s]\u001b[A\u001b[A"
     ]
    },
    {
     "name": "stdout",
     "output_type": "stream",
     "text": [
      "[array([ 0.65258561, -9.76754458]), array([  -0.70037995,  645.08973854])]\n",
      "[array([ 0.62737802,  5.49633239]), array([  -0.70244864,  646.14179987])]\n",
      "[array([ 0.63220101,  2.15058956]), array([  -0.70387883,  646.73135647])]\n"
     ]
    },
    {
     "name": "stderr",
     "output_type": "stream",
     "text": [
      "\n",
      "\n",
      " 20%|█▉        | 135/682 [00:12<00:53, 10.19it/s]\u001b[A\u001b[A\n",
      "\n",
      " 20%|██        | 137/682 [00:12<00:55,  9.85it/s]"
     ]
    },
    {
     "name": "stdout",
     "output_type": "stream",
     "text": [
      "[array([ 0.62242506,  9.48580692]), array([  -0.69552794,  644.29669616])]\n",
      "[array([ 0.62517568,  8.69446262]), array([  -0.69922446,  645.5726319 ])]\n"
     ]
    },
    {
     "name": "stderr",
     "output_type": "stream",
     "text": [
      "\u001b[A\u001b[A\n",
      "\n",
      " 20%|██        | 138/682 [00:12<00:58,  9.32it/s]\u001b[A\u001b[A\n",
      "\n",
      " 20%|██        | 139/682 [00:12<01:01,  8.79it/s]"
     ]
    },
    {
     "name": "stdout",
     "output_type": "stream",
     "text": [
      "[array([ 0.62530082,  8.19120919]), array([  -0.70227089,  646.68133996])]\n",
      "[array([ 0.62376507,  8.06047247]), array([  -0.71629907,  651.40762487])]\n"
     ]
    },
    {
     "name": "stderr",
     "output_type": "stream",
     "text": [
      "\u001b[A\u001b[A\n",
      "\n",
      " 21%|██        | 140/682 [00:12<01:04,  8.42it/s]\u001b[A\u001b[A\n",
      "\n",
      " 21%|██        | 142/682 [00:12<00:58,  9.29it/s]"
     ]
    },
    {
     "name": "stdout",
     "output_type": "stream",
     "text": [
      "[array([ 0.6409098 , -2.86581014]), array([  -0.70910918,  647.8992847 ])]\n",
      "[array([ 0.63321317,  1.08725482]), array([  -0.70119976,  645.07544132])]\n",
      "[array([ 0.62516095,  7.80655948]), array([  -0.69171516,  641.66693387])]\n"
     ]
    },
    {
     "name": "stderr",
     "output_type": "stream",
     "text": [
      "\u001b[A\u001b[A\n",
      "\n",
      " 21%|██        | 144/682 [00:13<00:53, 10.07it/s]\u001b[A\u001b[A"
     ]
    },
    {
     "name": "stdout",
     "output_type": "stream",
     "text": [
      "[array([ 0.62709799,  5.78290275]), array([  -0.69290052,  642.51160662])]\n",
      "[array([  0.61408126,  13.17925516]), array([  -0.6958829 ,  642.16253695])]\n",
      "[array([  0.61345162,  14.33865522]), array([  -0.68628346,  640.24085835])]\n"
     ]
    },
    {
     "name": "stderr",
     "output_type": "stream",
     "text": [
      "\n",
      "\n",
      " 21%|██▏       | 146/682 [00:13<00:53, 10.06it/s]\u001b[A\u001b[A\n",
      "\n",
      " 22%|██▏       | 148/682 [00:13<00:50, 10.52it/s]"
     ]
    },
    {
     "name": "stdout",
     "output_type": "stream",
     "text": [
      "[array([  0.60403498,  19.49038614]), array([  -0.68402667,  638.74400682])]\n",
      "[array([  0.60633032,  18.27422721]), array([  -0.69826096,  644.60012733])]\n",
      "[array([  0.61089649,  15.99903106]), array([  -0.69857613,  644.61302628])]\n"
     ]
    },
    {
     "name": "stderr",
     "output_type": "stream",
     "text": [
      "\u001b[A\u001b[A"
     ]
    },
    {
     "name": "stdout",
     "output_type": "stream",
     "text": [
      "[array([  0.6167385 ,  12.05244834]), array([  -0.69603596,  643.9718573 ])]\n"
     ]
    },
    {
     "name": "stderr",
     "output_type": "stream",
     "text": [
      "\n",
      "\n",
      " 22%|██▏       | 150/682 [00:13<01:00,  8.76it/s]\u001b[A\u001b[A\n",
      "\n",
      " 22%|██▏       | 152/682 [00:13<00:54,  9.65it/s]"
     ]
    },
    {
     "name": "stdout",
     "output_type": "stream",
     "text": [
      "[array([  0.61745755,  11.90420651]), array([  -0.69074497,  641.70706453])]\n",
      "[array([  0.61289421,  14.6646073 ]), array([  -0.70584617,  648.26265171])]\n",
      "[array([ 0.62196682,  8.62791029]), array([  -0.69265159,  643.30349163])]\n"
     ]
    },
    {
     "name": "stderr",
     "output_type": "stream",
     "text": [
      "\u001b[A\u001b[A\n",
      "\n",
      " 23%|██▎       | 154/682 [00:14<00:56,  9.37it/s]"
     ]
    },
    {
     "name": "stdout",
     "output_type": "stream",
     "text": [
      "[array([ 0.62006111,  9.65709567]), array([  -0.69161199,  644.45609884])]\n",
      "[array([  0.60657734,  18.15667019]), array([  -0.69225179,  644.16276869])]\n",
      "[array([  0.61245718,  14.91298393]), array([  -0.69723297,  647.24366345])]\n"
     ]
    },
    {
     "name": "stderr",
     "output_type": "stream",
     "text": [
      "\u001b[A\u001b[A\n",
      "\n",
      " 23%|██▎       | 156/682 [00:14<00:54,  9.64it/s]\u001b[A\u001b[A"
     ]
    },
    {
     "name": "stdout",
     "output_type": "stream",
     "text": [
      "[array([  0.58632256,  30.02327819]), array([  -0.69305691,  648.11612271])]\n",
      "[array([  0.57366319,  37.56779732]), array([  -0.68643218,  644.9665273 ])]\n",
      "[array([  0.62047221,  10.88562459]), array([  -0.68830557,  647.01297021])]\n"
     ]
    },
    {
     "name": "stderr",
     "output_type": "stream",
     "text": [
      "\n",
      "\n",
      " 23%|██▎       | 158/682 [00:14<00:53,  9.72it/s]\u001b[A\u001b[A\n",
      "\n",
      " 23%|██▎       | 160/682 [00:14<00:58,  8.98it/s]"
     ]
    },
    {
     "name": "stdout",
     "output_type": "stream",
     "text": [
      "[array([  0.58397761,  32.83975148]), array([  -0.69494812,  648.94818928])]\n",
      "[array([  0.57538974,  38.72282889]), array([  -0.70119916,  651.86249996])]\n"
     ]
    },
    {
     "name": "stderr",
     "output_type": "stream",
     "text": [
      "\u001b[A\u001b[A\n",
      "\n",
      " 24%|██▎       | 161/682 [00:14<00:57,  9.06it/s]\u001b[A\u001b[A\n",
      "\n",
      " 24%|██▍       | 162/682 [00:15<00:57,  9.10it/s]"
     ]
    },
    {
     "name": "stdout",
     "output_type": "stream",
     "text": [
      "[array([  0.58539565,  32.17413702]), array([  -0.69831576,  652.19593499])]\n",
      "[array([  0.60336482,  21.18699833]), array([  -0.70059622,  651.94031088])]\n",
      "[array([  0.595078  ,  24.90798471]), array([  -0.70235692,  652.16616967])]\n"
     ]
    },
    {
     "name": "stderr",
     "output_type": "stream",
     "text": [
      "\u001b[A\u001b[A\n",
      "\n",
      " 24%|██▍       | 164/682 [00:15<00:52,  9.80it/s]\u001b[A\u001b[A\n",
      "\n",
      " 24%|██▍       | 166/682 [00:15<00:50, 10.24it/s]"
     ]
    },
    {
     "name": "stdout",
     "output_type": "stream",
     "text": [
      "[array([  0.6066786 ,  17.50576017]), array([  -0.70974513,  654.84934346])]\n",
      "[array([  0.60072324,  20.70594192]), array([  -0.7043456 ,  653.59319105])]\n",
      "[array([  0.60138387,  19.4317458 ]), array([  -0.71483512,  657.61207174])]\n"
     ]
    },
    {
     "name": "stderr",
     "output_type": "stream",
     "text": [
      "\u001b[A\u001b[A\n",
      "\n",
      " 25%|██▍       | 168/682 [00:15<00:46, 10.96it/s]\u001b[A\u001b[A"
     ]
    },
    {
     "name": "stdout",
     "output_type": "stream",
     "text": [
      "[array([  0.59103927,  25.0840112 ]), array([  -0.7051669 ,  653.69814619])]\n",
      "[array([  0.58083812,  29.57839031]), array([  -0.7087737 ,  655.44143288])]\n",
      "[array([  0.5777192 ,  31.82620666]), array([  -0.71720505,  658.57095301])]\n"
     ]
    },
    {
     "name": "stderr",
     "output_type": "stream",
     "text": [
      "\n",
      "\n",
      " 25%|██▍       | 170/682 [00:15<00:45, 11.29it/s]\u001b[A\u001b[A"
     ]
    },
    {
     "name": "stdout",
     "output_type": "stream",
     "text": [
      "[array([  0.56880102,  38.04908897]), array([  -0.7201423 ,  659.70735331])]\n",
      "[array([  0.55223067,  46.4972268 ]), array([  -0.72515253,  662.18095364])]\n",
      "[array([  0.5651234 ,  39.87578815]), array([  -0.74049168,  668.37044899])]\n"
     ]
    },
    {
     "name": "stderr",
     "output_type": "stream",
     "text": [
      "\n",
      "\n",
      " 25%|██▌       | 172/682 [00:15<00:46, 10.99it/s]\u001b[A\u001b[A\n",
      "\n",
      " 26%|██▌       | 174/682 [00:16<00:50, 10.08it/s]"
     ]
    },
    {
     "name": "stdout",
     "output_type": "stream",
     "text": [
      "[array([  0.56119749,  42.23712642]), array([  -0.73778091,  667.98848152])]\n",
      "[array([  0.5767759 ,  31.54322234]), array([  -0.73334934,  664.08166584])]\n"
     ]
    },
    {
     "name": "stderr",
     "output_type": "stream",
     "text": [
      "\u001b[A\u001b[A\n",
      "\n",
      " 26%|██▌       | 176/682 [00:16<00:49, 10.20it/s]\u001b[A\u001b[A"
     ]
    },
    {
     "name": "stdout",
     "output_type": "stream",
     "text": [
      "[array([  0.57146863,  34.45682575]), array([  -0.73755273,  665.85738074])]\n",
      "[array([  0.56811227,  36.37631596]), array([  -0.73763798,  667.16496828])]\n",
      "[array([  0.57792436,  30.19769224]), array([  -0.75134431,  673.14314924])]\n"
     ]
    },
    {
     "name": "stderr",
     "output_type": "stream",
     "text": [
      "\n",
      "\n",
      " 26%|██▌       | 178/682 [00:16<00:47, 10.69it/s]\u001b[A\u001b[A\n",
      "\n",
      " 26%|██▋       | 180/682 [00:16<00:46, 10.86it/s]"
     ]
    },
    {
     "name": "stdout",
     "output_type": "stream",
     "text": [
      "[array([  0.56847935,  36.22923058]), array([  -0.76585303,  678.81959566])]\n",
      "[array([  0.56352667,  39.94767425]), array([  -0.75234131,  672.85093569])]\n",
      "[array([  0.56011927,  41.95676005]), array([  -0.75795348,  675.16121928])]\n"
     ]
    },
    {
     "name": "stderr",
     "output_type": "stream",
     "text": [
      "\u001b[A\u001b[A"
     ]
    },
    {
     "name": "stdout",
     "output_type": "stream",
     "text": [
      "[array([  0.56387011,  38.51889198]), array([  -0.75157495,  673.20733568])]\n",
      "[array([  0.5356546 ,  55.67158774]), array([  -0.74978163,  670.42144305])]\n"
     ]
    },
    {
     "name": "stderr",
     "output_type": "stream",
     "text": [
      "\n",
      "\n",
      " 27%|██▋       | 182/682 [00:17<00:56,  8.91it/s]\u001b[A\u001b[A\n",
      "\n",
      " 27%|██▋       | 183/682 [00:17<00:54,  9.11it/s]\u001b[A\u001b[A\n",
      "\n",
      " 27%|██▋       | 185/682 [00:17<00:47, 10.45it/s]"
     ]
    },
    {
     "name": "stdout",
     "output_type": "stream",
     "text": [
      "[array([  0.54749038,  48.71246669]), array([  -0.76215304,  675.4651231 ])]\n",
      "[array([  0.54080772,  54.07848808]), array([  -0.76968948,  679.47537271])]\n",
      "[array([  0.53843895,  55.54725317]), array([  -0.76628613,  679.0726394 ])]\n"
     ]
    },
    {
     "name": "stderr",
     "output_type": "stream",
     "text": [
      "\u001b[A\u001b[A\n",
      "\n",
      " 27%|██▋       | 187/682 [00:17<00:49, 10.00it/s]"
     ]
    },
    {
     "name": "stdout",
     "output_type": "stream",
     "text": [
      "[array([  0.54107055,  55.67022694]), array([  -0.75390046,  673.81716107])]\n",
      "[array([  0.55348204,  47.54470841]), array([  -0.76494416,  678.58529147])]\n"
     ]
    },
    {
     "name": "stderr",
     "output_type": "stream",
     "text": [
      "\u001b[A\u001b[A\n",
      "\n",
      " 28%|██▊       | 189/682 [00:17<00:47, 10.42it/s]\u001b[A\u001b[A"
     ]
    },
    {
     "name": "stdout",
     "output_type": "stream",
     "text": [
      "[array([  0.55424341,  46.83857111]), array([  -0.75104791,  673.14200193])]\n",
      "[array([  0.55714863,  44.98550593]), array([  -0.77788908,  684.07455585])]\n",
      "[array([  0.55285359,  47.48908515]), array([  -0.78370092,  685.19866187])]\n",
      "[array([  0.56164849,  43.11917246]), array([  -0.77270669,  680.86747246])]\n"
     ]
    },
    {
     "name": "stderr",
     "output_type": "stream",
     "text": [
      "\n",
      "\n",
      " 28%|██▊       | 191/682 [00:17<00:46, 10.45it/s]\u001b[A\u001b[A"
     ]
    },
    {
     "name": "stdout",
     "output_type": "stream",
     "text": [
      "[array([  0.55710513,  46.05590172]), array([  -0.77887308,  683.51945825])]\n",
      "[array([  0.55717221,  45.25341979]), array([  -0.77126785,  679.20177309])]\n"
     ]
    },
    {
     "name": "stderr",
     "output_type": "stream",
     "text": [
      "\n",
      "\n",
      " 28%|██▊       | 193/682 [00:18<01:01,  7.94it/s]\u001b[A\u001b[A\n",
      "\n",
      " 29%|██▊       | 195/682 [00:18<00:57,  8.49it/s]\u001b[A\u001b[A"
     ]
    },
    {
     "name": "stdout",
     "output_type": "stream",
     "text": [
      "[array([  0.56484636,  40.64952213]), array([  -0.77958823,  682.46865888])]\n",
      "[array([  0.55879058,  43.73365875]), array([  -0.78651035,  684.4384453 ])]\n"
     ]
    },
    {
     "name": "stderr",
     "output_type": "stream",
     "text": [
      "\n",
      "\n",
      " 29%|██▊       | 196/682 [00:18<00:59,  8.19it/s]\u001b[A\u001b[A\n",
      "\n",
      " 29%|██▉       | 197/682 [00:18<00:59,  8.14it/s]"
     ]
    },
    {
     "name": "stdout",
     "output_type": "stream",
     "text": [
      "[array([  0.56490403,  40.8541611 ]), array([  -0.77929031,  681.57624782])]\n",
      "[array([  0.55773734,  44.89328244]), array([  -0.76901855,  676.44189635])]\n"
     ]
    },
    {
     "name": "stderr",
     "output_type": "stream",
     "text": [
      "\u001b[A\u001b[A\n",
      "\n",
      " 29%|██▉       | 198/682 [00:18<00:57,  8.45it/s]\u001b[A\u001b[A\n",
      "\n",
      " 29%|██▉       | 199/682 [00:18<00:55,  8.65it/s]"
     ]
    },
    {
     "name": "stdout",
     "output_type": "stream",
     "text": [
      "[array([  0.55716239,  46.37773454]), array([  -0.77243025,  679.94347899])]\n",
      "[array([  0.55400183,  48.3103834 ]), array([  -0.76539974,  676.72559053])]\n",
      "[array([  0.5604895 ,  44.51698993]), array([  -0.75961775,  673.41744602])]\n"
     ]
    },
    {
     "name": "stderr",
     "output_type": "stream",
     "text": [
      "\u001b[A\u001b[A\n",
      "\n",
      " 29%|██▉       | 201/682 [00:19<00:50,  9.43it/s]\u001b[A\u001b[A\n",
      "\n",
      " 30%|██▉       | 203/682 [00:19<00:46, 10.40it/s]"
     ]
    },
    {
     "name": "stdout",
     "output_type": "stream",
     "text": [
      "[array([  0.571463  ,  38.46390897]), array([  -0.75455672,  670.96362863])]\n",
      "[array([  0.57271229,  37.92462759]), array([  -0.76015868,  672.70199435])]\n",
      "[array([  0.57463357,  36.78177803]), array([  -0.7634981 ,  674.91984227])]\n"
     ]
    },
    {
     "name": "stderr",
     "output_type": "stream",
     "text": [
      "\u001b[A\u001b[A\n",
      "\n",
      " 30%|███       | 205/682 [00:19<00:42, 11.31it/s]\u001b[A\u001b[A"
     ]
    },
    {
     "name": "stdout",
     "output_type": "stream",
     "text": [
      "[array([  0.57746542,  36.08090208]), array([  -0.73771948,  663.83966955])]\n",
      "[array([  0.54540861,  55.05838578]), array([  -0.75507994,  671.48897259])]\n",
      "[array([  0.56417094,  44.56126789]), array([  -0.74295327,  666.72706016])]\n"
     ]
    },
    {
     "name": "stderr",
     "output_type": "stream",
     "text": [
      "\n",
      "\n",
      " 30%|███       | 207/682 [00:19<00:40, 11.65it/s]\u001b[A\u001b[A"
     ]
    },
    {
     "name": "stdout",
     "output_type": "stream",
     "text": [
      "[array([  0.57947537,  36.39121342]), array([  -0.74419287,  666.88894465])]\n",
      "[array([  0.56984682,  42.08360159]), array([  -0.74138231,  665.45934055])]\n",
      "[array([  0.55640521,  49.56115207]), array([  -0.74497813,  665.29270786])]\n"
     ]
    },
    {
     "name": "stderr",
     "output_type": "stream",
     "text": [
      "\n",
      "\n",
      " 31%|███       | 209/682 [00:19<00:42, 11.04it/s]\u001b[A\u001b[A\n",
      "\n",
      " 31%|███       | 211/682 [00:19<00:45, 10.35it/s]"
     ]
    },
    {
     "name": "stdout",
     "output_type": "stream",
     "text": [
      "[array([  0.55980611,  48.2713999 ]), array([  -0.73380259,  661.67950128])]\n",
      "[array([  0.56708167,  43.39311504]), array([  -0.73915979,  662.92031528])]\n"
     ]
    },
    {
     "name": "stderr",
     "output_type": "stream",
     "text": [
      "\u001b[A\u001b[A\n",
      "\n",
      " 31%|███       | 213/682 [00:20<00:43, 10.79it/s]\u001b[A\u001b[A"
     ]
    },
    {
     "name": "stdout",
     "output_type": "stream",
     "text": [
      "[array([  0.58111861,  35.97084002]), array([  -0.73983139,  663.28156758])]\n",
      "[array([  0.57880877,  36.99242737]), array([  -0.72794001,  659.68479996])]\n",
      "[array([  0.58517876,  34.26514153]), array([  -0.73883423,  662.78905542])]\n"
     ]
    },
    {
     "name": "stderr",
     "output_type": "stream",
     "text": [
      "\n",
      "\n",
      " 32%|███▏      | 215/682 [00:20<00:41, 11.28it/s]\u001b[A\u001b[A"
     ]
    },
    {
     "name": "stdout",
     "output_type": "stream",
     "text": [
      "[array([  0.58028157,  37.47190642]), array([  -0.71569587,  653.96426774])]\n",
      "[array([  0.58251933,  35.75077292]), array([  -0.73555121,  661.39485616])]\n",
      "[array([  0.59051096,  30.81538377]), array([  -0.73405532,  660.21418846])]\n"
     ]
    },
    {
     "name": "stderr",
     "output_type": "stream",
     "text": [
      "\n",
      "\n",
      " 32%|███▏      | 217/682 [00:20<00:42, 10.83it/s]\u001b[A\u001b[A\n",
      "\n",
      " 32%|███▏      | 219/682 [00:20<00:41, 11.24it/s]\u001b[A\u001b[A"
     ]
    },
    {
     "name": "stdout",
     "output_type": "stream",
     "text": [
      "[array([  0.57330547,  41.01803944]), array([  -0.73791045,  661.32467745])]\n",
      "[array([  0.59767158,  27.23451982]), array([  -0.72957937,  658.53279847])]\n",
      "[array([  0.60258631,  23.51782621]), array([  -0.72331572,  655.97449673])]\n"
     ]
    },
    {
     "name": "stderr",
     "output_type": "stream",
     "text": [
      "\n",
      "\n",
      "\r",
      " 32%|███▏      | 221/682 [00:20<00:47,  9.77it/s]"
     ]
    },
    {
     "name": "stdout",
     "output_type": "stream",
     "text": [
      "[array([  0.57139293,  42.29317522]), array([  -0.72073114,  653.85712411])]\n"
     ]
    },
    {
     "name": "stderr",
     "output_type": "stream",
     "text": [
      "\u001b[A\u001b[A\n",
      "\n",
      " 33%|███▎      | 223/682 [00:21<00:47,  9.63it/s]"
     ]
    },
    {
     "name": "stdout",
     "output_type": "stream",
     "text": [
      "[array([  0.57121808,  42.17745658]), array([  -0.73015954,  657.38420434])]\n",
      "[array([  0.54237047,  61.99138559]), array([  -0.72241153,  655.71804281])]\n",
      "[array([  0.5973038 ,  26.41186323]), array([  -0.72512765,  655.29925617])]\n"
     ]
    },
    {
     "name": "stderr",
     "output_type": "stream",
     "text": [
      "\u001b[A\u001b[A\n",
      "\n",
      " 33%|███▎      | 225/682 [00:21<00:44, 10.38it/s]\u001b[A\u001b[A"
     ]
    },
    {
     "name": "stdout",
     "output_type": "stream",
     "text": [
      "[array([  0.58896446,  30.70237397]), array([  -0.72232131,  654.43165789])]\n",
      "[array([  0.5948573 ,  27.27956772]), array([  -0.73121495,  657.84720899])]\n"
     ]
    },
    {
     "name": "stderr",
     "output_type": "stream",
     "text": [
      "\n",
      "\n",
      "\r",
      " 33%|███▎      | 227/682 [00:21<00:46,  9.88it/s]"
     ]
    },
    {
     "name": "stdout",
     "output_type": "stream",
     "text": [
      "[array([  0.60003939,  23.33773876]), array([  -0.73154362,  657.85771812])]\n",
      "[array([  0.605854  ,  19.76525017]), array([  -0.72788543,  656.66191336])]\n",
      "[array([  0.59726357,  24.17578673]), array([  -0.71463788,  651.53953479])]\n"
     ]
    },
    {
     "name": "stderr",
     "output_type": "stream",
     "text": [
      "\u001b[A\u001b[A\n",
      "\n",
      " 34%|███▎      | 229/682 [00:21<00:46,  9.69it/s]\u001b[A\u001b[A\n",
      "\n",
      " 34%|███▍      | 231/682 [00:21<00:44, 10.09it/s]\u001b[A\u001b[A"
     ]
    },
    {
     "name": "stdout",
     "output_type": "stream",
     "text": [
      "[array([  0.58567564,  30.10238298]), array([  -0.72642957,  655.31960839])]\n",
      "[array([  0.60683824,  17.66363971]), array([  -0.70696301,  647.33018786])]\n"
     ]
    },
    {
     "name": "stderr",
     "output_type": "stream",
     "text": [
      "\n",
      "\n",
      " 34%|███▍      | 233/682 [00:22<00:43, 10.25it/s]\u001b[A\u001b[A"
     ]
    },
    {
     "name": "stdout",
     "output_type": "stream",
     "text": [
      "[array([  0.59293643,  26.5345993 ]), array([  -0.70912616,  648.83388081])]\n",
      "[array([  0.59155589,  28.09577157]), array([  -0.70103058,  645.60150534])]\n",
      "[array([  0.59774169,  25.35868885]), array([  -0.70356191,  647.44981572])]\n"
     ]
    },
    {
     "name": "stderr",
     "output_type": "stream",
     "text": [
      "\n",
      "\n",
      " 34%|███▍      | 235/682 [00:22<00:46,  9.59it/s]\u001b[A\u001b[A\n",
      "\n",
      " 35%|███▍      | 236/682 [00:22<00:48,  9.18it/s]"
     ]
    },
    {
     "name": "stdout",
     "output_type": "stream",
     "text": [
      "[array([  0.57342657,  40.11888112]), array([  -0.71038873,  649.76594991])]\n",
      "[array([  0.60645227,  18.68935534]), array([  -0.71330204,  649.78166631])]\n"
     ]
    },
    {
     "name": "stderr",
     "output_type": "stream",
     "text": [
      "\u001b[A\u001b[A\n",
      "\n",
      " 35%|███▍      | 237/682 [00:22<00:49,  9.00it/s]\u001b[A\u001b[A\n",
      "\n",
      " 35%|███▌      | 239/682 [00:22<00:44,  9.99it/s]"
     ]
    },
    {
     "name": "stdout",
     "output_type": "stream",
     "text": [
      "[array([  0.60937875,  15.87606232]), array([  -0.71508196,  648.64938816])]\n",
      "[array([  0.60510697,  18.7047734 ]), array([  -0.70341307,  644.55758594])]\n",
      "[array([  0.60317673,  20.55585836]), array([  -0.71459201,  649.19282419])]\n"
     ]
    },
    {
     "name": "stderr",
     "output_type": "stream",
     "text": [
      "\u001b[A\u001b[A\n",
      "\n",
      " 35%|███▌      | 241/682 [00:22<00:43, 10.07it/s]\u001b[A\u001b[A"
     ]
    },
    {
     "name": "stdout",
     "output_type": "stream",
     "text": [
      "[array([  0.60745899,  17.85571091]), array([  -0.6998016 ,  644.09967703])]\n",
      "[array([  0.59501822,  24.19823783]), array([  -0.70018931,  643.89382729])]\n",
      "[array([  0.59589206,  24.56126413]), array([  -0.70064403,  644.73995611])]\n"
     ]
    },
    {
     "name": "stderr",
     "output_type": "stream",
     "text": [
      "\n",
      "\n",
      " 36%|███▌      | 243/682 [00:23<00:40, 10.74it/s]\u001b[A\u001b[A\n",
      "\n",
      " 36%|███▌      | 245/682 [00:23<00:38, 11.30it/s]"
     ]
    },
    {
     "name": "stdout",
     "output_type": "stream",
     "text": [
      "[array([  0.5676565 ,  40.08496636]), array([  -0.69535967,  641.58910966])]\n",
      "[array([  0.57814746,  34.46623234]), array([  -0.69839454,  644.8588868 ])]\n",
      "[array([  0.57655516,  36.87705892]), array([  -0.70900565,  648.93402638])]\n"
     ]
    },
    {
     "name": "stderr",
     "output_type": "stream",
     "text": [
      "\u001b[A\u001b[A\n",
      "\n",
      " 36%|███▌      | 247/682 [00:23<00:41, 10.57it/s]"
     ]
    },
    {
     "name": "stdout",
     "output_type": "stream",
     "text": [
      "[array([  0.59290785,  28.20192038]), array([  -0.70468049,  648.09306085])]\n",
      "[array([  0.61162416,  17.28134228]), array([  -0.71418318,  650.91587843])]\n"
     ]
    },
    {
     "name": "stderr",
     "output_type": "stream",
     "text": [
      "\u001b[A\u001b[A\n",
      "\n",
      " 37%|███▋      | 249/682 [00:23<00:44,  9.81it/s]"
     ]
    },
    {
     "name": "stdout",
     "output_type": "stream",
     "text": [
      "[array([  0.59580726,  27.10697954]), array([  -0.71511151,  650.8784174 ])]\n",
      "[array([  0.59533359,  27.09084192]), array([  -0.71035915,  649.76724438])]\n",
      "[array([  0.57561078,  40.68793878]), array([  -0.71254272,  650.17828778])]\n"
     ]
    },
    {
     "name": "stderr",
     "output_type": "stream",
     "text": [
      "\u001b[A\u001b[A\n",
      "\n",
      " 37%|███▋      | 251/682 [00:23<00:40, 10.77it/s]\u001b[A\u001b[A\n",
      "\n",
      " 37%|███▋      | 253/682 [00:23<00:36, 11.60it/s]"
     ]
    },
    {
     "name": "stdout",
     "output_type": "stream",
     "text": [
      "[array([  0.59971468,  23.91249383]), array([  -0.72589429,  655.32265528])]\n",
      "[array([  0.600625  ,  24.18507684]), array([  -0.71961469,  654.01236022])]\n",
      "[array([  0.61099548,  19.36584816]), array([  -0.71420865,  651.16883352])]\n"
     ]
    },
    {
     "name": "stderr",
     "output_type": "stream",
     "text": [
      "\u001b[A\u001b[A\n",
      "\n",
      " 37%|███▋      | 255/682 [00:24<00:41, 10.32it/s]"
     ]
    },
    {
     "name": "stdout",
     "output_type": "stream",
     "text": [
      "[array([  0.59967237,  26.04181153]), array([  -0.71104226,  650.25436898])]\n",
      "[array([  0.60609136,  21.45907882]), array([  -0.71957302,  652.93190678])]\n"
     ]
    },
    {
     "name": "stderr",
     "output_type": "stream",
     "text": [
      "\u001b[A\u001b[A\n",
      "\n",
      " 38%|███▊      | 257/682 [00:24<00:41, 10.34it/s]\u001b[A\u001b[A"
     ]
    },
    {
     "name": "stdout",
     "output_type": "stream",
     "text": [
      "[array([  0.60819155,  20.33662361]), array([  -0.71690904,  651.37426444])]\n",
      "[array([  0.59521964,  27.19754522]), array([  -0.73816977,  659.73349133])]\n",
      "[array([  0.59385085,  27.34694596]), array([  -0.73677499,  658.41090408])]\n"
     ]
    },
    {
     "name": "stderr",
     "output_type": "stream",
     "text": [
      "\n",
      "\n",
      " 38%|███▊      | 259/682 [00:24<00:39, 10.77it/s]\u001b[A\u001b[A\n",
      "\n",
      " 38%|███▊      | 261/682 [00:24<00:37, 11.32it/s]"
     ]
    },
    {
     "name": "stdout",
     "output_type": "stream",
     "text": [
      "[array([  0.59275768,  27.95522135]), array([  -0.72208595,  654.11444034])]\n",
      "[array([  0.5815893 ,  34.88112556]), array([  -0.71452105,  651.97923947])]\n",
      "[array([  0.57378192,  40.48908692]), array([  -0.73094849,  658.11717397])]\n"
     ]
    },
    {
     "name": "stderr",
     "output_type": "stream",
     "text": [
      "\u001b[A\u001b[A\n",
      "\n",
      " 39%|███▊      | 263/682 [00:24<00:40, 10.30it/s]"
     ]
    },
    {
     "name": "stdout",
     "output_type": "stream",
     "text": [
      "[array([  0.5888572 ,  32.15512557]), array([  -0.72438521,  656.59739815])]\n",
      "[array([  0.57285076,  42.00781171]), array([  -0.72010983,  654.69042622])]\n"
     ]
    },
    {
     "name": "stderr",
     "output_type": "stream",
     "text": [
      "\u001b[A\u001b[A\n",
      "\n",
      " 39%|███▉      | 265/682 [00:25<00:45,  9.17it/s]"
     ]
    },
    {
     "name": "stdout",
     "output_type": "stream",
     "text": [
      "[array([  0.60237317,  23.06183039]), array([  -0.72031089,  655.10948951])]\n",
      "[array([  0.58687737,  31.76087598]), array([  -0.71909391,  653.35855571])]\n"
     ]
    },
    {
     "name": "stderr",
     "output_type": "stream",
     "text": [
      "\u001b[A\u001b[A\n",
      "\n",
      " 39%|███▉      | 266/682 [00:25<00:44,  9.30it/s]\u001b[A\u001b[A\n",
      "\n",
      " 39%|███▉      | 267/682 [00:25<00:44,  9.29it/s]"
     ]
    },
    {
     "name": "stdout",
     "output_type": "stream",
     "text": [
      "[array([  0.60267205,  22.82000579]), array([  -0.72892368,  656.32357011])]\n",
      "[array([  0.59735287,  24.96708872]), array([  -0.70979275,  650.26254296])]\n",
      "[array([  0.58701793,  30.87113472]), array([  -0.70552188,  648.2827878 ])]\n"
     ]
    },
    {
     "name": "stderr",
     "output_type": "stream",
     "text": [
      "\u001b[A\u001b[A\n",
      "\n",
      " 39%|███▉      | 269/682 [00:25<00:40, 10.25it/s]\u001b[A\u001b[A"
     ]
    },
    {
     "name": "stdout",
     "output_type": "stream",
     "text": [
      "[array([  0.54558695,  53.56809081]), array([  -0.71734586,  653.52040822])]\n",
      "[array([  0.55860061,  45.6157295 ]), array([  -0.70377718,  647.95906999])]\n"
     ]
    },
    {
     "name": "stderr",
     "output_type": "stream",
     "text": [
      "\n",
      "\n",
      " 40%|███▉      | 271/682 [00:25<00:44,  9.21it/s]\u001b[A\u001b[A\n",
      "\n",
      " 40%|███▉      | 272/682 [00:25<00:45,  8.91it/s]"
     ]
    },
    {
     "name": "stdout",
     "output_type": "stream",
     "text": [
      "[array([  0.56774327,  39.9433151 ]), array([  -0.7094333 ,  649.96651683])]\n",
      "[array([  0.58002391,  32.68090052]), array([  -0.71599077,  654.68404846])]\n"
     ]
    },
    {
     "name": "stderr",
     "output_type": "stream",
     "text": [
      "\u001b[A\u001b[A\n",
      "\n",
      " 40%|████      | 274/682 [00:26<00:42,  9.56it/s]\u001b[A\u001b[A"
     ]
    },
    {
     "name": "stdout",
     "output_type": "stream",
     "text": [
      "[array([  0.57633714,  35.12359645]), array([  -0.72309375,  657.06295401])]\n",
      "[array([  0.54998287,  52.70597992]), array([  -0.71881983,  657.34375867])]\n",
      "[array([  0.57717626,  36.33747641]), array([  -0.71514536,  654.72558935])]\n"
     ]
    },
    {
     "name": "stderr",
     "output_type": "stream",
     "text": [
      "\n",
      "\n",
      " 40%|████      | 276/682 [00:26<00:39, 10.35it/s]\u001b[A\u001b[A\n",
      "\n",
      " 41%|████      | 278/682 [00:26<00:37, 10.83it/s]"
     ]
    },
    {
     "name": "stdout",
     "output_type": "stream",
     "text": [
      "[array([  0.56621001,  42.29434862]), array([  -0.70956642,  651.74948565])]\n",
      "[array([  0.5656447 ,  41.66556849]), array([  -0.71798192,  655.80603172])]\n",
      "[array([  0.57587668,  36.19030265]), array([  -0.71156327,  650.60832041])]\n"
     ]
    },
    {
     "name": "stderr",
     "output_type": "stream",
     "text": [
      "\u001b[A\u001b[A\n",
      "\n",
      " 41%|████      | 280/682 [00:26<00:39, 10.08it/s]"
     ]
    },
    {
     "name": "stdout",
     "output_type": "stream",
     "text": [
      "[array([  0.58033472,  34.69652354]), array([  -0.71433847,  654.49690042])]\n",
      "[array([  0.57557559,  38.93502822]), array([  -0.71799182,  655.8908607 ])]\n"
     ]
    },
    {
     "name": "stderr",
     "output_type": "stream",
     "text": [
      "\u001b[A\u001b[A\n",
      "\n",
      " 41%|████▏     | 282/682 [00:26<00:37, 10.59it/s]\u001b[A\u001b[A"
     ]
    },
    {
     "name": "stdout",
     "output_type": "stream",
     "text": [
      "[array([  0.58220693,  35.61785883]), array([  -0.71650031,  656.0136807 ])]\n",
      "[array([  0.53020776,  65.46612674]), array([  -0.72319916,  658.30670984])]\n",
      "[array([  0.55187194,  53.44645032]), array([  -0.71420004,  656.79741207])]\n"
     ]
    },
    {
     "name": "stderr",
     "output_type": "stream",
     "text": [
      "\n",
      "\n",
      " 42%|████▏     | 284/682 [00:27<00:36, 10.94it/s]\u001b[A\u001b[A\n",
      "\n",
      " 42%|████▏     | 286/682 [00:27<00:35, 11.29it/s]"
     ]
    },
    {
     "name": "stdout",
     "output_type": "stream",
     "text": [
      "[array([  0.56315981,  47.68878252]), array([  -0.71135967,  653.03019565])]\n",
      "[array([  0.56277632,  46.79349206]), array([  -0.72721222,  659.78937245])]\n",
      "[array([  0.5714813 ,  41.96224031]), array([  -0.71415576,  653.46744517])]\n"
     ]
    },
    {
     "name": "stderr",
     "output_type": "stream",
     "text": [
      "\u001b[A\u001b[A\n",
      "\n",
      " 42%|████▏     | 288/682 [00:27<00:36, 10.82it/s]"
     ]
    },
    {
     "name": "stdout",
     "output_type": "stream",
     "text": [
      "[array([  0.56087427,  49.08617013]), array([  -0.7124172 ,  652.81778321])]\n",
      "[array([  0.58886334,  34.41409158]), array([  -0.71241697,  653.54421094])]\n",
      "[array([  0.58203873,  38.60613598]), array([  -0.72111932,  658.79298128])]\n"
     ]
    },
    {
     "name": "stderr",
     "output_type": "stream",
     "text": [
      "\u001b[A\u001b[A\n",
      "\n",
      " 43%|████▎     | 290/682 [00:27<00:39,  9.82it/s]\u001b[A\u001b[A\n",
      "\n",
      " 43%|████▎     | 292/682 [00:27<00:36, 10.74it/s]"
     ]
    },
    {
     "name": "stdout",
     "output_type": "stream",
     "text": [
      "[array([  0.58744453,  36.38037735]), array([  -0.71643299,  656.92619746])]\n",
      "[array([  0.58165186,  39.70458128]), array([  -0.7196324 ,  657.81493325])]\n",
      "[array([  0.59217431,  32.5687081 ]), array([  -0.71433929,  654.23147346])]\n"
     ]
    },
    {
     "name": "stderr",
     "output_type": "stream",
     "text": [
      "\u001b[A\u001b[A\n",
      "\n",
      " 43%|████▎     | 294/682 [00:27<00:34, 11.33it/s]\u001b[A\u001b[A"
     ]
    },
    {
     "name": "stdout",
     "output_type": "stream",
     "text": [
      "[array([  0.58771959,  35.28928753]), array([  -0.71955615,  656.71654504])]\n",
      "[array([  0.57000411,  44.36583431]), array([  -0.72235047,  657.87069648])]\n",
      "[array([  0.59078138,  32.36238372]), array([  -0.72937641,  660.09921161])]\n"
     ]
    },
    {
     "name": "stderr",
     "output_type": "stream",
     "text": [
      "\n",
      "\n",
      "\r",
      " 43%|████▎     | 296/682 [00:28<00:36, 10.57it/s]"
     ]
    },
    {
     "name": "stdout",
     "output_type": "stream",
     "text": [
      "[array([  0.59716481,  28.17829962]), array([  -0.73227485,  660.42893171])]\n",
      "[array([  0.58490006,  34.34916637]), array([  -0.72513969,  657.54826157])]\n"
     ]
    },
    {
     "name": "stderr",
     "output_type": "stream",
     "text": [
      "\u001b[A\u001b[A\n",
      "\n",
      " 44%|████▎     | 298/682 [00:28<00:41,  9.15it/s]"
     ]
    },
    {
     "name": "stdout",
     "output_type": "stream",
     "text": [
      "[array([  0.61011531,  20.4978232 ]), array([  -0.71717213,  655.26654836])]\n",
      "[array([  0.60359513,  24.07998214]), array([  -0.72617948,  658.44905541])]\n"
     ]
    },
    {
     "name": "stderr",
     "output_type": "stream",
     "text": [
      "\u001b[A\u001b[A\n",
      "\n",
      " 44%|████▍     | 300/682 [00:28<00:39,  9.63it/s]\u001b[A\u001b[A\n",
      "\n",
      " 44%|████▍     | 302/682 [00:28<00:37, 10.22it/s]"
     ]
    },
    {
     "name": "stdout",
     "output_type": "stream",
     "text": [
      "[array([  0.56285064,  52.08642911]), array([  -0.73117684,  661.0025579 ])]\n",
      "[array([  0.60395276,  24.12171793]), array([  -0.73441337,  661.96902522])]\n",
      "[array([  0.60742394,  21.5772816 ]), array([  -0.73356824,  660.27981996])]\n"
     ]
    },
    {
     "name": "stderr",
     "output_type": "stream",
     "text": [
      "\u001b[A\u001b[A\n",
      "\n",
      " 45%|████▍     | 304/682 [00:28<00:34, 10.85it/s]\u001b[A\u001b[A"
     ]
    },
    {
     "name": "stdout",
     "output_type": "stream",
     "text": [
      "[array([  0.60550655,  22.75387652]), array([  -0.73696828,  662.53840998])]\n",
      "[array([  0.61717036,  14.15198573]), array([  -0.73909328,  660.42953585])]\n",
      "[array([  0.6236965 ,  10.32623114]), array([  -0.73439873,  658.83152399])]\n"
     ]
    },
    {
     "name": "stderr",
     "output_type": "stream",
     "text": [
      "\n",
      "\n",
      " 45%|████▍     | 306/682 [00:29<00:33, 11.17it/s]\u001b[A\u001b[A\n",
      "\n",
      " 45%|████▌     | 308/682 [00:29<00:33, 11.18it/s]"
     ]
    },
    {
     "name": "stdout",
     "output_type": "stream",
     "text": [
      "[array([  0.59611807,  25.27156356]), array([  -0.72429436,  653.94517094])]\n",
      "[array([  0.59183885,  27.47612599]), array([  -0.72811733,  656.32070053])]\n",
      "[array([  0.58361698,  31.90752779]), array([  -0.72450924,  653.43380196])]\n"
     ]
    },
    {
     "name": "stderr",
     "output_type": "stream",
     "text": [
      "\u001b[A\u001b[A\n",
      "\n",
      " 45%|████▌     | 310/682 [00:29<00:32, 11.33it/s]\u001b[A\u001b[A"
     ]
    },
    {
     "name": "stdout",
     "output_type": "stream",
     "text": [
      "[array([  0.58918864,  29.43781533]), array([  -0.73167156,  656.44835716])]\n",
      "[array([  0.57622582,  37.06766197]), array([  -0.71964922,  651.88209834])]\n",
      "[array([  0.56907557,  41.81085123]), array([  -0.71178766,  648.02329088])]\n"
     ]
    },
    {
     "name": "stderr",
     "output_type": "stream",
     "text": [
      "\n",
      "\n",
      " 46%|████▌     | 312/682 [00:29<00:30, 12.01it/s]\u001b[A\u001b[A"
     ]
    },
    {
     "name": "stdout",
     "output_type": "stream",
     "text": [
      "[array([  0.60536261,  19.14934545]), array([  -0.71917794,  651.02494927])]\n",
      "[array([  0.61090353,  16.9875785 ]), array([  -0.72412253,  652.83222307])]\n"
     ]
    },
    {
     "name": "stderr",
     "output_type": "stream",
     "text": [
      "\n",
      "\n",
      "\r",
      " 46%|████▌     | 314/682 [00:29<00:41,  8.81it/s]"
     ]
    },
    {
     "name": "stdout",
     "output_type": "stream",
     "text": [
      "[array([  0.607603  ,  18.65791934]), array([  -0.71438499,  649.68817815])]\n",
      "[array([  0.60332598,  21.70642064]), array([  -0.71710352,  651.00624749])]\n"
     ]
    },
    {
     "name": "stderr",
     "output_type": "stream",
     "text": [
      "\u001b[A\u001b[A\n",
      "\n",
      " 46%|████▋     | 316/682 [00:30<00:42,  8.57it/s]\u001b[A\u001b[A\n",
      "\n",
      " 46%|████▋     | 317/682 [00:30<00:43,  8.31it/s]"
     ]
    },
    {
     "name": "stdout",
     "output_type": "stream",
     "text": [
      "[array([  0.60144156,  23.2854912 ]), array([  -0.70695446,  646.23297166])]\n",
      "[array([  0.60296093,  22.27287227]), array([  -0.72455824,  653.52972384])]\n"
     ]
    },
    {
     "name": "stderr",
     "output_type": "stream",
     "text": [
      "\u001b[A\u001b[A\n",
      "\n",
      " 47%|████▋     | 319/682 [00:30<00:39,  9.18it/s]\u001b[A\u001b[A"
     ]
    },
    {
     "name": "stdout",
     "output_type": "stream",
     "text": [
      "[array([  0.58051893,  34.45785533]), array([  -0.72287202,  653.09845073])]\n",
      "[array([  0.58883661,  30.45445622]), array([  -0.72742231,  654.56422059])]\n",
      "[array([  0.58858659,  30.06100405]), array([  -0.72687552,  653.83187149])]\n"
     ]
    },
    {
     "name": "stderr",
     "output_type": "stream",
     "text": [
      "\n",
      "\n",
      " 47%|████▋     | 321/682 [00:30<00:36,  9.92it/s]\u001b[A\u001b[A\n",
      "\n",
      " 47%|████▋     | 323/682 [00:30<00:35, 10.16it/s]"
     ]
    },
    {
     "name": "stdout",
     "output_type": "stream",
     "text": [
      "[array([  0.5946623 ,  25.68599788]), array([  -0.73982005,  658.59977837])]\n",
      "[array([  0.59097984,  28.09732282]), array([  -0.72204093,  652.01175626])]\n",
      "[array([  0.60006111,  23.62805496]), array([  -0.7150628 ,  649.85327064])]\n"
     ]
    },
    {
     "name": "stderr",
     "output_type": "stream",
     "text": [
      "\u001b[A\u001b[A\n",
      "\n",
      " 48%|████▊     | 325/682 [00:31<00:38,  9.30it/s]"
     ]
    },
    {
     "name": "stdout",
     "output_type": "stream",
     "text": [
      "[array([  0.5829882,  35.3040326]), array([  -0.71218008,  647.78104516])]\n",
      "[array([  0.55869716,  51.11223524]), array([  -0.71448672,  650.07421698])]\n"
     ]
    },
    {
     "name": "stderr",
     "output_type": "stream",
     "text": [
      "\u001b[A\u001b[A\n",
      "\n",
      " 48%|████▊     | 326/682 [00:31<00:37,  9.41it/s]\u001b[A\u001b[A\n",
      "\n",
      " 48%|████▊     | 327/682 [00:31<00:37,  9.56it/s]"
     ]
    },
    {
     "name": "stdout",
     "output_type": "stream",
     "text": [
      "[array([  0.5919473 ,  30.28615406]), array([  -0.7091869 ,  648.70625749])]\n",
      "[array([  0.60206989,  24.82500711]), array([  -0.70883282,  648.05511823])]\n",
      "[array([  0.600006  ,  25.64630584]), array([  -0.71478324,  651.84269831])]\n"
     ]
    },
    {
     "name": "stderr",
     "output_type": "stream",
     "text": [
      "\u001b[A\u001b[A\n",
      "\n",
      " 48%|████▊     | 329/682 [00:31<00:35,  9.87it/s]\u001b[A\u001b[A"
     ]
    },
    {
     "name": "stdout",
     "output_type": "stream",
     "text": [
      "[array([  0.59706753,  28.02277084]), array([  -0.71600337,  651.44236847])]\n",
      "[array([  0.58114915,  35.04543286]), array([  -0.70584882,  646.71748446])]\n"
     ]
    },
    {
     "name": "stderr",
     "output_type": "stream",
     "text": [
      "\n",
      "\n",
      " 49%|████▊     | 331/682 [00:31<00:36,  9.63it/s]\u001b[A\u001b[A\n",
      "\n",
      " 49%|████▊     | 332/682 [00:31<00:38,  9.12it/s]"
     ]
    },
    {
     "name": "stdout",
     "output_type": "stream",
     "text": [
      "[array([  0.61886787,  12.26380182]), array([  -0.70982522,  646.35133683])]\n",
      "[array([  0.58472622,  32.63027927]), array([  -0.6998059 ,  642.36967974])]\n"
     ]
    },
    {
     "name": "stderr",
     "output_type": "stream",
     "text": [
      "\u001b[A\u001b[A\n",
      "\n",
      " 49%|████▉     | 334/682 [00:32<00:40,  8.53it/s]"
     ]
    },
    {
     "name": "stdout",
     "output_type": "stream",
     "text": [
      "[array([  0.59084459,  29.5541512 ]), array([  -0.69243405,  639.86055501])]\n",
      "[array([  0.60929052,  19.7852197 ]), array([  -0.69158269,  639.98228146])]\n"
     ]
    },
    {
     "name": "stderr",
     "output_type": "stream",
     "text": [
      "\u001b[A\u001b[A\n",
      "\n",
      " 49%|████▉     | 335/682 [00:32<00:39,  8.73it/s]\u001b[A\u001b[A\n",
      "\n",
      " 49%|████▉     | 337/682 [00:32<00:35,  9.61it/s]"
     ]
    },
    {
     "name": "stdout",
     "output_type": "stream",
     "text": [
      "[array([  0.59713338,  27.07916325]), array([  -0.70284492,  646.45348641])]\n",
      "[array([  0.6025409 ,  24.56642539]), array([  -0.68601901,  638.58287001])]\n",
      "[array([  0.59695298,  27.76519145]), array([  -0.688837  ,  640.39035936])]\n"
     ]
    },
    {
     "name": "stderr",
     "output_type": "stream",
     "text": [
      "\u001b[A\u001b[A\n",
      "\n",
      " 50%|████▉     | 339/682 [00:32<00:34, 10.02it/s]\u001b[A\u001b[A"
     ]
    },
    {
     "name": "stdout",
     "output_type": "stream",
     "text": [
      "[array([  0.60113195,  25.07439596]), array([  -0.68204223,  636.48992089])]\n",
      "[array([  0.59548198,  29.36719526]), array([  -0.68046941,  636.54903766])]\n",
      "[array([  0.60773539,  21.28464194]), array([  -0.68762718,  637.86347419])]\n"
     ]
    },
    {
     "name": "stderr",
     "output_type": "stream",
     "text": [
      "\n",
      "\n",
      "\r",
      " 50%|█████     | 341/682 [00:32<00:35,  9.69it/s]"
     ]
    },
    {
     "name": "stdout",
     "output_type": "stream",
     "text": [
      "[array([  0.60893726,  20.93160038]), array([  -0.68869019,  638.98221458])]\n",
      "[array([  0.60894832,  20.58194162]), array([  -0.68441122,  637.06075897])]\n"
     ]
    },
    {
     "name": "stderr",
     "output_type": "stream",
     "text": [
      "\u001b[A\u001b[A\n",
      "\n",
      " 50%|█████     | 342/682 [00:33<00:45,  7.41it/s]\u001b[A\u001b[A\n",
      "\n",
      " 50%|█████     | 343/682 [00:33<00:46,  7.33it/s]\u001b[A\u001b[A\n",
      "\n",
      " 50%|█████     | 344/682 [00:33<00:46,  7.28it/s]"
     ]
    },
    {
     "name": "stdout",
     "output_type": "stream",
     "text": [
      "[array([  0.58017586,  36.08474642]), array([  -0.68269207,  636.03717951])]\n",
      "[array([  0.60930817,  19.5129265 ]), array([  -0.67984254,  635.34661946])]\n"
     ]
    },
    {
     "name": "stderr",
     "output_type": "stream",
     "text": [
      "\u001b[A\u001b[A\n",
      "\n",
      " 51%|█████     | 346/682 [00:33<00:42,  7.95it/s]\u001b[A\u001b[A"
     ]
    },
    {
     "name": "stdout",
     "output_type": "stream",
     "text": [
      "[array([  0.605068  ,  22.24964154]), array([  -0.68451005,  637.31248058])]\n",
      "[array([  0.58984143,  30.63964473]), array([  -0.69294349,  641.22554691])]\n"
     ]
    },
    {
     "name": "stderr",
     "output_type": "stream",
     "text": [
      "\n",
      "\n",
      " 51%|█████     | 347/682 [00:33<00:40,  8.37it/s]\u001b[A\u001b[A\n",
      "\n",
      " 51%|█████     | 348/682 [00:33<00:42,  7.81it/s]"
     ]
    },
    {
     "name": "stdout",
     "output_type": "stream",
     "text": [
      "[array([  0.5779385,  40.0276016]), array([  -0.68900989,  639.36767784])]\n",
      "[array([  0.59366692,  30.03840019]), array([  -0.69402733,  642.15914928])]\n"
     ]
    },
    {
     "name": "stderr",
     "output_type": "stream",
     "text": [
      "\u001b[A\u001b[A\n",
      "\n",
      " 51%|█████     | 349/682 [00:33<00:39,  8.33it/s]\u001b[A\u001b[A\n",
      "\n",
      " 51%|█████▏    | 351/682 [00:34<00:35,  9.32it/s]"
     ]
    },
    {
     "name": "stdout",
     "output_type": "stream",
     "text": [
      "[array([  0.6190551 ,  14.28695787]), array([  -0.70132604,  645.62409268])]\n",
      "[array([  0.60770143,  21.11669626]), array([  -0.70367745,  646.31923983])]\n",
      "[array([  0.60374847,  24.55049275]), array([  -0.69385378,  642.1302104 ])]\n"
     ]
    },
    {
     "name": "stderr",
     "output_type": "stream",
     "text": [
      "\u001b[A\u001b[A\n",
      "\n",
      " 52%|█████▏    | 353/682 [00:34<00:32, 10.01it/s]\u001b[A\u001b[A"
     ]
    },
    {
     "name": "stdout",
     "output_type": "stream",
     "text": [
      "[array([  0.61943677,  14.09049995]), array([  -0.6957512 ,  642.92383519])]\n",
      "[array([  0.6116947 ,  17.84342364]), array([  -0.70234729,  645.10465112])]\n",
      "[array([  0.61824898,  14.43830483]), array([  -0.70338937,  645.79645189])]\n"
     ]
    },
    {
     "name": "stderr",
     "output_type": "stream",
     "text": [
      "\n",
      "\n",
      " 52%|█████▏    | 355/682 [00:34<00:30, 10.83it/s]\u001b[A\u001b[A"
     ]
    },
    {
     "name": "stdout",
     "output_type": "stream",
     "text": [
      "[array([  0.60562009,  20.87607375]), array([  -0.71051587,  648.61352814])]\n",
      "[array([  0.59927819,  24.71708577]), array([  -0.6912961 ,  640.19227846])]\n"
     ]
    },
    {
     "name": "stderr",
     "output_type": "stream",
     "text": [
      "\n",
      "\n",
      " 52%|█████▏    | 357/682 [00:34<00:38,  8.52it/s]\u001b[A\u001b[A\n",
      "\n",
      " 53%|█████▎    | 359/682 [00:34<00:34,  9.28it/s]"
     ]
    },
    {
     "name": "stdout",
     "output_type": "stream",
     "text": [
      "[array([  0.57464349,  39.46980838]), array([  -0.68173314,  636.0770901 ])]\n",
      "[array([  0.62255944,  11.50152197]), array([  -0.69446971,  640.18254131])]\n",
      "[array([  0.57082181,  44.08395891]), array([  -0.69079233,  638.81843052])]\n"
     ]
    },
    {
     "name": "stderr",
     "output_type": "stream",
     "text": [
      "\u001b[A\u001b[A\n",
      "\n",
      " 53%|█████▎    | 361/682 [00:34<00:30, 10.46it/s]\u001b[A\u001b[A"
     ]
    },
    {
     "name": "stdout",
     "output_type": "stream",
     "text": [
      "[array([  0.59677012,  27.47842544]), array([  -0.68404781,  637.21409633])]\n",
      "[array([  0.59500776,  29.48900708]), array([  -0.69003791,  637.15939877])]\n",
      "[array([  0.60281138,  25.17456143]), array([  -0.69827619,  642.55614636])]\n"
     ]
    },
    {
     "name": "stderr",
     "output_type": "stream",
     "text": [
      "\n",
      "\n",
      "\r",
      " 53%|█████▎    | 363/682 [00:35<00:36,  8.72it/s]"
     ]
    },
    {
     "name": "stdout",
     "output_type": "stream",
     "text": [
      "[array([  0.60683486,  23.23633752]), array([  -0.69963124,  641.8705699 ])]\n"
     ]
    },
    {
     "name": "stderr",
     "output_type": "stream",
     "text": [
      "\u001b[A\u001b[A\n",
      "\n",
      " 54%|█████▎    | 365/682 [00:35<00:35,  8.85it/s]"
     ]
    },
    {
     "name": "stdout",
     "output_type": "stream",
     "text": [
      "[array([  0.60072109,  27.14099438]), array([  -0.71180526,  648.32107769])]\n",
      "[array([  0.59986288,  26.83796031]), array([  -0.72148723,  651.28234693])]\n",
      "[array([  0.60676773,  22.56748656]), array([  -0.71263667,  647.63155439])]\n"
     ]
    },
    {
     "name": "stderr",
     "output_type": "stream",
     "text": [
      "\u001b[A\u001b[A\n",
      "\n",
      " 54%|█████▍    | 367/682 [00:35<00:31,  9.87it/s]\u001b[A\u001b[A"
     ]
    },
    {
     "name": "stdout",
     "output_type": "stream",
     "text": [
      "[array([  0.57148888,  42.07352941]), array([  -0.71654113,  649.84378498])]\n",
      "[array([  0.57718821,  38.88051698]), array([  -0.70818796,  645.90458768])]\n"
     ]
    },
    {
     "name": "stderr",
     "output_type": "stream",
     "text": [
      "\n",
      "\n",
      "\r",
      " 54%|█████▍    | 369/682 [00:35<00:32,  9.50it/s]"
     ]
    },
    {
     "name": "stdout",
     "output_type": "stream",
     "text": [
      "[array([  0.57293767,  41.16558058]), array([  -0.71951025,  649.6375341 ])]\n",
      "[array([  0.56270647,  47.59847465]), array([  -0.73430521,  654.98963054])]\n",
      "[array([  0.58973438,  31.90527203]), array([  -0.72033511,  649.68361803])]\n"
     ]
    },
    {
     "name": "stderr",
     "output_type": "stream",
     "text": [
      "\u001b[A\u001b[A\n",
      "\n",
      " 54%|█████▍    | 371/682 [00:36<00:36,  8.42it/s]"
     ]
    },
    {
     "name": "stdout",
     "output_type": "stream",
     "text": [
      "[array([  0.57901702,  39.39081393]), array([  -0.72743666,  652.31290085])]\n"
     ]
    },
    {
     "name": "stderr",
     "output_type": "stream",
     "text": [
      "\u001b[A\u001b[A\n",
      "\n",
      " 55%|█████▍    | 373/682 [00:36<00:33,  9.35it/s]\u001b[A\u001b[A\n",
      "\n",
      " 55%|█████▍    | 375/682 [00:36<00:29, 10.29it/s]"
     ]
    },
    {
     "name": "stdout",
     "output_type": "stream",
     "text": [
      "[array([  0.59897288,  28.05245988]), array([  -0.72146941,  650.12900363])]\n",
      "[array([  0.5968941 ,  29.31792553]), array([  -0.73510852,  654.49085484])]\n",
      "[array([  0.60233469,  26.48203417]), array([  -0.72840563,  653.701865  ])]\n"
     ]
    },
    {
     "name": "stderr",
     "output_type": "stream",
     "text": [
      "\u001b[A\u001b[A\n",
      "\n",
      " 55%|█████▌    | 377/682 [00:36<00:28, 10.88it/s]\u001b[A\u001b[A"
     ]
    },
    {
     "name": "stdout",
     "output_type": "stream",
     "text": [
      "[array([  0.60411548,  25.49819337]), array([  -0.72295645,  649.9280274 ])]\n",
      "[array([  0.61229248,  19.72050288]), array([  -0.71863312,  647.52096958])]\n",
      "[array([  0.6049265 ,  24.00585515]), array([  -0.70880434,  642.45735034])]\n"
     ]
    },
    {
     "name": "stderr",
     "output_type": "stream",
     "text": [
      "\n",
      "\n",
      " 56%|█████▌    | 379/682 [00:36<00:26, 11.38it/s]\u001b[A\u001b[A"
     ]
    },
    {
     "name": "stdout",
     "output_type": "stream",
     "text": [
      "[array([  0.58676306,  33.30025445]), array([  -0.71228071,  644.27158204])]\n",
      "[array([  0.58368928,  35.70589902]), array([  -0.69504325,  637.59741704])]\n"
     ]
    },
    {
     "name": "stderr",
     "output_type": "stream",
     "text": [
      "\n",
      "\n",
      " 56%|█████▌    | 381/682 [00:37<00:33,  8.98it/s]\u001b[A\u001b[A\n",
      "\n",
      " 56%|█████▌    | 383/682 [00:37<00:31,  9.53it/s]"
     ]
    },
    {
     "name": "stdout",
     "output_type": "stream",
     "text": [
      "[array([  0.58149001,  37.13811265]), array([  -0.71294339,  645.22474155])]\n",
      "[array([  0.60896831,  22.61413146]), array([  -0.71296763,  646.00920179])]\n",
      "[array([  0.58939453,  34.22046865]), array([  -0.720679  ,  649.36226456])]\n"
     ]
    },
    {
     "name": "stderr",
     "output_type": "stream",
     "text": [
      "\u001b[A\u001b[A\n",
      "\n",
      " 56%|█████▋    | 385/682 [00:37<00:29, 10.14it/s]\u001b[A\u001b[A"
     ]
    },
    {
     "name": "stdout",
     "output_type": "stream",
     "text": [
      "[array([  0.5937113 ,  31.72184314]), array([  -0.7150939 ,  646.85634875])]\n",
      "[array([  0.6040158 ,  25.70638578]), array([  -0.70057367,  640.97524408])]\n",
      "[array([  0.6072496 ,  23.52505544]), array([  -0.70514797,  642.60110121])]\n"
     ]
    },
    {
     "name": "stderr",
     "output_type": "stream",
     "text": [
      "\n",
      "\n",
      " 57%|█████▋    | 387/682 [00:37<00:28, 10.44it/s]\u001b[A\u001b[A\n",
      "\n",
      " 57%|█████▋    | 389/682 [00:37<00:27, 10.65it/s]"
     ]
    },
    {
     "name": "stdout",
     "output_type": "stream",
     "text": [
      "[array([  0.60522701,  24.10749111]), array([  -0.71610843,  646.93589835])]\n",
      "[array([  0.61352799,  18.63196254]), array([  -0.70628212,  642.92963772])]\n",
      "[array([  0.61296145,  19.28993703]), array([  -0.70803106,  644.18385044])]\n"
     ]
    },
    {
     "name": "stderr",
     "output_type": "stream",
     "text": [
      "\u001b[A\u001b[A\n",
      "\n",
      " 57%|█████▋    | 391/682 [00:38<00:29,  9.79it/s]"
     ]
    },
    {
     "name": "stdout",
     "output_type": "stream",
     "text": [
      "[array([  0.61724371,  17.42768063]), array([  -0.70863464,  644.20276295])]\n",
      "[array([  0.61851053,  16.92092518]), array([  -0.69046385,  636.99878345])]\n"
     ]
    },
    {
     "name": "stderr",
     "output_type": "stream",
     "text": [
      "\u001b[A\u001b[A\n",
      "\n",
      " 58%|█████▊    | 393/682 [00:38<00:31,  9.10it/s]"
     ]
    },
    {
     "name": "stdout",
     "output_type": "stream",
     "text": [
      "[array([  0.61943046,  16.05438074]), array([  -0.68755799,  635.67575836])]\n",
      "[array([  0.62281831,  14.182236  ]), array([  -0.69992103,  641.53340371])]\n"
     ]
    },
    {
     "name": "stderr",
     "output_type": "stream",
     "text": [
      "\u001b[A\u001b[A\n",
      "\n",
      " 58%|█████▊    | 394/682 [00:38<00:31,  9.26it/s]\u001b[A\u001b[A\n",
      "\n",
      " 58%|█████▊    | 395/682 [00:38<00:30,  9.41it/s]\u001b[A\u001b[A"
     ]
    },
    {
     "name": "stdout",
     "output_type": "stream",
     "text": [
      "[array([  0.62679332,  12.33377131]), array([  -0.6907835 ,  638.46458888])]\n",
      "[array([  0.60711807,  23.5106672 ]), array([  -0.69221364,  639.1627478 ])]\n",
      "[array([  0.60932945,  23.76311953]), array([  -0.68696808,  635.79482836])]\n"
     ]
    },
    {
     "name": "stderr",
     "output_type": "stream",
     "text": [
      "\n",
      "\n",
      " 58%|█████▊    | 397/682 [00:38<00:28,  9.90it/s]\u001b[A\u001b[A"
     ]
    },
    {
     "name": "stdout",
     "output_type": "stream",
     "text": [
      "[array([  0.6299829 ,  10.52650049]), array([  -0.67819324,  632.43416934])]\n",
      "[array([ 0.63362903,  8.72330803]), array([  -0.68700449,  636.08529116])]\n"
     ]
    },
    {
     "name": "stderr",
     "output_type": "stream",
     "text": [
      "\n",
      "\n",
      " 59%|█████▊    | 399/682 [00:38<00:29,  9.75it/s]\u001b[A\u001b[A\n",
      "\n",
      " 59%|█████▉    | 401/682 [00:39<00:26, 10.43it/s]"
     ]
    },
    {
     "name": "stdout",
     "output_type": "stream",
     "text": [
      "[array([  0.61832912,  17.53105167]), array([  -0.6806274,  634.2258257])]\n",
      "[array([  0.62837293,  12.6724273 ]), array([  -0.67551918,  631.6204492 ])]\n",
      "[array([ 0.64481404,  3.04722096]), array([  -0.68357949,  635.36976992])]\n"
     ]
    },
    {
     "name": "stderr",
     "output_type": "stream",
     "text": [
      "\u001b[A\u001b[A\n",
      "\n",
      " 59%|█████▉    | 403/682 [00:39<00:26, 10.64it/s]\u001b[A\u001b[A"
     ]
    },
    {
     "name": "stdout",
     "output_type": "stream",
     "text": [
      "[array([ 0.64064682,  5.61134767]), array([  -0.6747313 ,  632.84662116])]\n",
      "[array([  0.61658569,  18.83694604]), array([  -0.69443077,  639.46741672])]\n",
      "[array([  0.6331783,  10.0736856]), array([  -0.67493564,  632.35615449])]\n"
     ]
    },
    {
     "name": "stderr",
     "output_type": "stream",
     "text": [
      "\n",
      "\n",
      " 59%|█████▉    | 405/682 [00:39<00:26, 10.54it/s]\u001b[A\u001b[A"
     ]
    },
    {
     "name": "stdout",
     "output_type": "stream",
     "text": [
      "[array([  0.62548962,  14.46041527]), array([  -0.68503271,  636.73421518])]\n",
      "[array([ 0.64680612,  1.91056931]), array([  -0.67950912,  633.87517709])]\n"
     ]
    },
    {
     "name": "stderr",
     "output_type": "stream",
     "text": [
      "\n",
      "\n",
      " 60%|█████▉    | 407/682 [00:39<00:27, 10.05it/s]\u001b[A\u001b[A\n",
      "\n",
      " 60%|█████▉    | 409/682 [00:39<00:26, 10.38it/s]"
     ]
    },
    {
     "name": "stdout",
     "output_type": "stream",
     "text": [
      "[array([  0.60891007,  23.16272664]), array([  -0.67211485,  631.61527615])]\n",
      "[array([ 0.6436398 ,  2.86176758]), array([  -0.67613901,  633.32311133])]\n",
      "[array([  0.62332435,  16.98159326]), array([  -0.679737  ,  634.66252352])]\n"
     ]
    },
    {
     "name": "stderr",
     "output_type": "stream",
     "text": [
      "\u001b[A\u001b[A\n",
      "\n",
      " 60%|██████    | 411/682 [00:40<00:25, 10.74it/s]\u001b[A\u001b[A"
     ]
    },
    {
     "name": "stdout",
     "output_type": "stream",
     "text": [
      "[array([ 0.64294983,  4.13107598]), array([  -0.68817306,  638.59442857])]\n",
      "[array([ 0.63369286,  8.50954661]), array([  -0.6710535 ,  630.88843825])]\n",
      "[array([ 0.64071732,  2.23059173]), array([  -0.68024348,  632.50834498])]\n"
     ]
    },
    {
     "name": "stderr",
     "output_type": "stream",
     "text": [
      "\n",
      "\n",
      "\r",
      " 61%|██████    | 413/682 [00:40<00:26, 10.28it/s]"
     ]
    },
    {
     "name": "stdout",
     "output_type": "stream",
     "text": [
      "[array([ 0.6446074 ,  0.20385305]), array([  -0.67840981,  632.61848662])]\n",
      "[array([ 0.64253814,  0.8310434 ]), array([  -0.67679032,  633.02519004])]\n"
     ]
    },
    {
     "name": "stderr",
     "output_type": "stream",
     "text": [
      "\u001b[A\u001b[A\n",
      "\n",
      " 61%|██████    | 415/682 [00:40<00:27,  9.61it/s]\u001b[A\u001b[A\n",
      "\n",
      " 61%|██████    | 416/682 [00:40<00:29,  9.01it/s]"
     ]
    },
    {
     "name": "stdout",
     "output_type": "stream",
     "text": [
      "[array([ 0.63525278,  4.08122454]), array([  -0.67446181,  631.38859141])]\n",
      "[array([  0.61840392,  14.22244269]), array([  -0.68182567,  635.016     ])]\n"
     ]
    },
    {
     "name": "stderr",
     "output_type": "stream",
     "text": [
      "\u001b[A\u001b[A\n",
      "\n",
      " 61%|██████▏   | 418/682 [00:40<00:28,  9.21it/s]"
     ]
    },
    {
     "name": "stdout",
     "output_type": "stream",
     "text": [
      "[array([  0.62022389,  13.03891482]), array([  -0.67882376,  634.44195482])]\n",
      "[array([  0.62444997,  10.94737883]), array([  -0.6929117,  640.50734  ])]\n"
     ]
    },
    {
     "name": "stderr",
     "output_type": "stream",
     "text": [
      "\u001b[A\u001b[A\n",
      "\n",
      " 62%|██████▏   | 420/682 [00:41<00:27,  9.62it/s]\u001b[A\u001b[A"
     ]
    },
    {
     "name": "stdout",
     "output_type": "stream",
     "text": [
      "[array([ 0.64412922,  0.54562485]), array([  -0.67189914,  632.61224602])]\n",
      "[array([  0.62813174,  10.10968558]), array([  -0.67783297,  634.65285707])]\n",
      "[array([  0.61204055,  20.67239811]), array([  -0.68447451,  638.59135621])]\n"
     ]
    },
    {
     "name": "stderr",
     "output_type": "stream",
     "text": [
      "\n",
      "\n",
      " 62%|██████▏   | 421/682 [00:41<00:27,  9.58it/s]\u001b[A\u001b[A\n",
      "\n",
      " 62%|██████▏   | 423/682 [00:41<00:25, 10.20it/s]\u001b[A\u001b[A"
     ]
    },
    {
     "name": "stdout",
     "output_type": "stream",
     "text": [
      "[array([ 0.63641683,  5.82016035]), array([  -0.68992088,  639.51593639])]\n",
      "[array([  0.62556401,  11.58508444]), array([  -0.68064949,  635.47350529])]\n",
      "[array([  0.59976047,  28.89049431]), array([  -0.68298217,  635.67975718])]\n"
     ]
    },
    {
     "name": "stderr",
     "output_type": "stream",
     "text": [
      "\n",
      "\n",
      " 62%|██████▏   | 425/682 [00:41<00:24, 10.51it/s]\u001b[A\u001b[A"
     ]
    },
    {
     "name": "stdout",
     "output_type": "stream",
     "text": [
      "[array([ 0.6401131 ,  2.04662763]), array([  -0.68502538,  637.08849494])]\n",
      "[array([ 0.63386918,  5.42085659]), array([  -0.67860885,  635.6164816 ])]\n",
      "[array([ 0.6365036 ,  4.09405817]), array([  -0.68872471,  639.3287134 ])]\n"
     ]
    },
    {
     "name": "stderr",
     "output_type": "stream",
     "text": [
      "\n",
      "\n",
      " 63%|██████▎   | 427/682 [00:41<00:25,  9.97it/s]\u001b[A\u001b[A\n",
      "\n",
      " 63%|██████▎   | 429/682 [00:41<00:24, 10.43it/s]\u001b[A\u001b[A"
     ]
    },
    {
     "name": "stdout",
     "output_type": "stream",
     "text": [
      "[array([ 0.63352143,  5.5251144 ]), array([  -0.68267232,  636.32536151])]\n",
      "[array([ 0.63035793,  7.94820584]), array([  -0.6973363,  642.3603416])]\n",
      "[array([  0.61291542,  17.26728184]), array([  -0.68810281,  638.75318773])]\n"
     ]
    },
    {
     "name": "stderr",
     "output_type": "stream",
     "text": [
      "\n",
      "\n",
      " 63%|██████▎   | 431/682 [00:42<00:23, 10.74it/s]\u001b[A\u001b[A"
     ]
    },
    {
     "name": "stdout",
     "output_type": "stream",
     "text": [
      "[array([  0.62173298,  12.74184674]), array([  -0.68864532,  638.48350802])]\n",
      "[array([  0.66537374, -13.37082097]), array([  -0.68334574,  635.70312243])]\n"
     ]
    },
    {
     "name": "stderr",
     "output_type": "stream",
     "text": [
      "\n",
      "\n",
      " 63%|██████▎   | 433/682 [00:42<00:26,  9.43it/s]\u001b[A\u001b[A\n",
      "\n",
      " 64%|██████▎   | 434/682 [00:42<00:28,  8.64it/s]"
     ]
    },
    {
     "name": "stdout",
     "output_type": "stream",
     "text": [
      "[array([ 0.63126812,  7.78141957]), array([  -0.67978988,  634.47091414])]\n",
      "[array([  0.62465777,  10.53032593]), array([  -0.68084601,  634.2975295 ])]\n"
     ]
    },
    {
     "name": "stderr",
     "output_type": "stream",
     "text": [
      "\u001b[A\u001b[A\n",
      "\n",
      " 64%|██████▍   | 435/682 [00:42<00:30,  8.02it/s]\u001b[A\u001b[A"
     ]
    },
    {
     "name": "stdout",
     "output_type": "stream",
     "text": [
      "[array([  0.62472774,  10.59762683]), array([  -0.69125729,  638.28721115])]\n",
      "[array([ 0.63874998,  3.44584753]), array([  -0.68066604,  634.48104323])]\n"
     ]
    },
    {
     "name": "stderr",
     "output_type": "stream",
     "text": [
      "\n",
      "\n",
      " 64%|██████▍   | 437/682 [00:42<00:28,  8.55it/s]\u001b[A\u001b[A"
     ]
    },
    {
     "name": "stdout",
     "output_type": "stream",
     "text": [
      "[array([  0.62071906,  13.45372782]), array([  -0.68628993,  635.78299807])]\n",
      "[array([ 0.63082216,  6.80108247]), array([  -0.68402258,  634.8803991 ])]\n",
      "[array([ 0.62627401,  9.75060649]), array([  -0.68004911,  632.98130231])]\n"
     ]
    },
    {
     "name": "stderr",
     "output_type": "stream",
     "text": [
      "\n",
      "\n",
      " 64%|██████▍   | 439/682 [00:42<00:26,  9.07it/s]\u001b[A\u001b[A\n",
      "\n",
      " 65%|██████▍   | 441/682 [00:43<00:27,  8.90it/s]"
     ]
    },
    {
     "name": "stdout",
     "output_type": "stream",
     "text": [
      "[array([  0.62327774,  10.59004826]), array([  -0.68558454,  634.77930201])]\n",
      "[array([  0.60550861,  19.79526518]), array([  -0.68275196,  632.50305494])]\n"
     ]
    },
    {
     "name": "stderr",
     "output_type": "stream",
     "text": [
      "\u001b[A\u001b[A\n",
      "\n",
      " 65%|██████▍   | 442/682 [00:43<00:27,  8.69it/s]\u001b[A\u001b[A\n",
      "\n",
      " 65%|██████▍   | 443/682 [00:43<00:28,  8.48it/s]"
     ]
    },
    {
     "name": "stdout",
     "output_type": "stream",
     "text": [
      "[array([  0.61352704,  15.77545327]), array([  -0.68760093,  634.38276936])]\n",
      "[array([  0.61374455,  16.30024609]), array([  -0.67624693,  629.74841243])]\n"
     ]
    },
    {
     "name": "stderr",
     "output_type": "stream",
     "text": [
      "\u001b[A\u001b[A\n",
      "\n",
      " 65%|██████▌   | 444/682 [00:43<00:28,  8.39it/s]\u001b[A\u001b[A\n",
      "\n",
      " 65%|██████▌   | 446/682 [00:43<00:25,  9.28it/s]"
     ]
    },
    {
     "name": "stdout",
     "output_type": "stream",
     "text": [
      "[array([  0.61234742,  17.09214324]), array([  -0.67671144,  630.43303636])]\n",
      "[array([  0.61308796,  18.41279049]), array([  -0.68233132,  632.87812768])]\n",
      "[array([ 0.62957799,  9.64345044]), array([  -0.67985976,  632.11587151])]\n"
     ]
    },
    {
     "name": "stderr",
     "output_type": "stream",
     "text": [
      "\u001b[A\u001b[A\n",
      "\n",
      " 66%|██████▌   | 448/682 [00:43<00:23,  9.94it/s]\u001b[A\u001b[A"
     ]
    },
    {
     "name": "stdout",
     "output_type": "stream",
     "text": [
      "[array([  0.60837718,  22.97621196]), array([  -0.67971837,  631.77136608])]\n",
      "[array([  0.60855706,  21.98005148]), array([  -0.68953684,  634.65407602])]\n",
      "[array([ 0.63617971,  4.2926654 ]), array([  -0.67598696,  628.17750707])]\n"
     ]
    },
    {
     "name": "stderr",
     "output_type": "stream",
     "text": [
      "\n",
      "\n",
      " 66%|██████▌   | 450/682 [00:44<00:25,  9.11it/s]\u001b[A\u001b[A\n",
      "\n",
      " 66%|██████▌   | 451/682 [00:44<00:24,  9.30it/s]"
     ]
    },
    {
     "name": "stdout",
     "output_type": "stream",
     "text": [
      "[array([  0.62054954,  12.00676862]), array([  -0.68759308,  632.94607986])]\n",
      "[array([ 0.62362812,  9.46285962]), array([  -0.68205523,  632.03925584])]\n"
     ]
    },
    {
     "name": "stderr",
     "output_type": "stream",
     "text": [
      "\u001b[A\u001b[A\n",
      "\n",
      " 66%|██████▋   | 453/682 [00:44<00:22,  9.98it/s]\u001b[A\u001b[A"
     ]
    },
    {
     "name": "stdout",
     "output_type": "stream",
     "text": [
      "[array([  0.62207634,  10.51303083]), array([  -0.67985421,  630.85267217])]\n",
      "[array([  0.60840978,  16.51626353]), array([  -0.68525735,  632.57998835])]\n",
      "[array([ 0.62400781,  8.00304706]), array([  -0.6789398 ,  630.16243061])]\n"
     ]
    },
    {
     "name": "stderr",
     "output_type": "stream",
     "text": [
      "\n",
      "\n",
      " 67%|██████▋   | 455/682 [00:44<00:22, 10.15it/s]\u001b[A\u001b[A"
     ]
    },
    {
     "name": "stdout",
     "output_type": "stream",
     "text": [
      "[array([  0.6135624 ,  14.18154739]), array([  -0.67004648,  626.62302032])]\n",
      "[array([  0.61292757,  14.25135179]), array([  -0.67852641,  629.80174402])]\n"
     ]
    },
    {
     "name": "stderr",
     "output_type": "stream",
     "text": [
      "\n",
      "\n",
      " 67%|██████▋   | 457/682 [00:44<00:23,  9.68it/s]\u001b[A\u001b[A\n",
      "\n",
      " 67%|██████▋   | 458/682 [00:45<00:24,  9.09it/s]"
     ]
    },
    {
     "name": "stdout",
     "output_type": "stream",
     "text": [
      "[array([ 0.6233405 ,  9.69792474]), array([  -0.67656875,  630.03007377])]\n",
      "[array([  0.62020954,  13.59967655]), array([  -0.684322  ,  635.21961917])]\n"
     ]
    },
    {
     "name": "stderr",
     "output_type": "stream",
     "text": [
      "\u001b[A\u001b[A\n",
      "\n",
      " 67%|██████▋   | 459/682 [00:45<00:24,  9.26it/s]\u001b[A\u001b[A\n",
      "\n",
      " 68%|██████▊   | 461/682 [00:45<00:22,  9.98it/s]"
     ]
    },
    {
     "name": "stdout",
     "output_type": "stream",
     "text": [
      "[array([  0.61388684,  18.29049473]), array([  -0.66356129,  627.77538891])]\n",
      "[array([  0.60323028,  25.2786174 ]), array([  -0.66232316,  626.30074507])]\n",
      "[array([  0.61916986,  14.82149413]), array([  -0.67049051,  628.99310407])]\n"
     ]
    },
    {
     "name": "stderr",
     "output_type": "stream",
     "text": [
      "\u001b[A\u001b[A\n",
      "\n",
      " 68%|██████▊   | 463/682 [00:45<00:26,  8.27it/s]"
     ]
    },
    {
     "name": "stdout",
     "output_type": "stream",
     "text": [
      "[array([  0.62262801,  10.43567862]), array([  -0.67143215,  629.17171297])]\n",
      "[array([ 0.63291702,  5.60152732]), array([  -0.6753466 ,  631.40082593])]\n"
     ]
    },
    {
     "name": "stderr",
     "output_type": "stream",
     "text": [
      "\u001b[A\u001b[A\n",
      "\n",
      " 68%|██████▊   | 464/682 [00:45<00:28,  7.78it/s]\u001b[A\u001b[A\n",
      "\n",
      " 68%|██████▊   | 466/682 [00:45<00:25,  8.46it/s]"
     ]
    },
    {
     "name": "stdout",
     "output_type": "stream",
     "text": [
      "[array([ 0.63044241,  6.31636656]), array([  -0.66812206,  628.89342316])]\n",
      "[array([ 0.62653996,  8.49818545]), array([  -0.67634425,  632.80047678])]\n",
      "[array([  0.58912436,  29.22983407]), array([  -0.66970035,  631.05849656])]\n"
     ]
    },
    {
     "name": "stderr",
     "output_type": "stream",
     "text": [
      "\u001b[A\u001b[A\n",
      "\n",
      " 68%|██████▊   | 467/682 [00:46<00:27,  7.88it/s]\u001b[A\u001b[A\n",
      "\n",
      " 69%|██████▊   | 468/682 [00:46<00:27,  7.82it/s]"
     ]
    },
    {
     "name": "stdout",
     "output_type": "stream",
     "text": [
      "[array([  0.60730486,  19.55825272]), array([  -0.67358665,  631.73847101])]\n",
      "[array([  0.60788457,  19.34717778]), array([  -0.65946858,  626.65259361])]\n"
     ]
    },
    {
     "name": "stderr",
     "output_type": "stream",
     "text": [
      "\u001b[A\u001b[A\n",
      "\n",
      " 69%|██████▉   | 469/682 [00:46<00:30,  7.09it/s]\u001b[A\u001b[A\n",
      "\n",
      " 69%|██████▉   | 470/682 [00:46<00:30,  6.99it/s]"
     ]
    },
    {
     "name": "stdout",
     "output_type": "stream",
     "text": [
      "[array([  0.60647841,  20.19100725]), array([  -0.67250274,  631.41007643])]\n",
      "[array([  0.60718965,  21.0017741 ]), array([  -0.68193934,  636.47738488])]\n"
     ]
    },
    {
     "name": "stderr",
     "output_type": "stream",
     "text": [
      "\u001b[A\u001b[A\n",
      "\n",
      " 69%|██████▉   | 471/682 [00:46<00:31,  6.80it/s]\u001b[A\u001b[A\n",
      "\n",
      " 69%|██████▉   | 472/682 [00:46<00:28,  7.33it/s]"
     ]
    },
    {
     "name": "stdout",
     "output_type": "stream",
     "text": [
      "[array([  0.59819475,  28.71088621]), array([  -0.67092276,  632.36906361])]\n",
      "[array([  0.60282614,  25.95623913]), array([  -0.67759126,  635.7562612 ])]\n"
     ]
    },
    {
     "name": "stderr",
     "output_type": "stream",
     "text": [
      "\u001b[A\u001b[A\n",
      "\n",
      " 70%|██████▉   | 474/682 [00:46<00:24,  8.39it/s]\u001b[A\u001b[A"
     ]
    },
    {
     "name": "stdout",
     "output_type": "stream",
     "text": [
      "[array([  0.60992721,  21.28589492]), array([  -0.6764819 ,  635.61756059])]\n",
      "[array([  0.6253207 ,  11.23438955]), array([  -0.68158056,  636.54713278])]\n",
      "[array([  0.61910907,  14.86019146]), array([  -0.68152899,  636.70274649])]\n"
     ]
    },
    {
     "name": "stderr",
     "output_type": "stream",
     "text": [
      "\n",
      "\n",
      " 70%|██████▉   | 476/682 [00:47<00:22,  9.22it/s]\u001b[A\u001b[A"
     ]
    },
    {
     "name": "stdout",
     "output_type": "stream",
     "text": [
      "[array([ 0.62814807,  9.5900081 ]), array([  -0.68773053,  639.52817069])]\n",
      "[array([ 0.62838546,  9.8287338 ]), array([  -0.68821417,  639.74036875])]\n",
      "[array([  0.60399112,  23.95384109]), array([  -0.67719202,  636.27620887])]\n"
     ]
    },
    {
     "name": "stderr",
     "output_type": "stream",
     "text": [
      "\n",
      "\n",
      " 70%|███████   | 478/682 [00:47<00:21,  9.37it/s]\u001b[A\u001b[A\n",
      "\n",
      " 70%|███████   | 479/682 [00:47<00:25,  7.87it/s]\u001b[A\u001b[A\n",
      "\n",
      " 70%|███████   | 480/682 [00:47<00:27,  7.42it/s]"
     ]
    },
    {
     "name": "stdout",
     "output_type": "stream",
     "text": [
      "[array([  0.62682207,  11.48012842]), array([  -0.68415123,  638.78196335])]\n",
      "[array([  0.6174496 ,  16.72199129]), array([  -0.6911333 ,  642.30654836])]\n"
     ]
    },
    {
     "name": "stderr",
     "output_type": "stream",
     "text": [
      "\u001b[A\u001b[A\n",
      "\n",
      " 71%|███████   | 482/682 [00:47<00:23,  8.38it/s]\u001b[A\u001b[A"
     ]
    },
    {
     "name": "stdout",
     "output_type": "stream",
     "text": [
      "[array([  0.61268902,  18.51892151]), array([  -0.7019421 ,  645.80583989])]\n",
      "[array([  0.62471264,  12.29827586]), array([  -0.69030416,  641.03518825])]\n",
      "[array([  0.61388918,  17.89829248]), array([  -0.69015417,  641.5955709 ])]\n"
     ]
    },
    {
     "name": "stderr",
     "output_type": "stream",
     "text": [
      "\n",
      "\n",
      " 71%|███████   | 484/682 [00:47<00:20,  9.44it/s]\u001b[A\u001b[A"
     ]
    },
    {
     "name": "stdout",
     "output_type": "stream",
     "text": [
      "[array([  0.60056194,  29.59030275]), array([  -0.69210528,  643.23114633])]\n",
      "[array([  0.61418828,  20.04293387]), array([  -0.68536539,  639.80946126])]\n",
      "[array([ 0.63373256,  4.12140579]), array([  -0.68027044,  634.71747788])]\n"
     ]
    },
    {
     "name": "stderr",
     "output_type": "stream",
     "text": [
      "\n",
      "\n",
      " 71%|███████▏  | 486/682 [00:48<00:21,  9.23it/s]\u001b[A\u001b[A\n",
      "\n",
      " 71%|███████▏  | 487/682 [00:48<00:21,  8.92it/s]\u001b[A\u001b[A\n",
      "\n",
      " 72%|███████▏  | 488/682 [00:48<00:23,  8.16it/s]"
     ]
    },
    {
     "name": "stdout",
     "output_type": "stream",
     "text": [
      "[array([ 0.63405385,  3.0674701 ]), array([  -0.69383181,  640.6927238 ])]\n",
      "[array([  0.62130117,  11.80285011]), array([  -0.6925941 ,  639.72089836])]\n"
     ]
    },
    {
     "name": "stderr",
     "output_type": "stream",
     "text": [
      "\u001b[A\u001b[A\n",
      "\n",
      " 72%|███████▏  | 489/682 [00:48<00:23,  8.35it/s]\u001b[A\u001b[A\n",
      "\n",
      " 72%|███████▏  | 490/682 [00:48<00:22,  8.43it/s]"
     ]
    },
    {
     "name": "stdout",
     "output_type": "stream",
     "text": [
      "[array([ 0.63536725,  3.88809207]), array([  -0.68428312,  636.75465345])]\n",
      "[array([  0.60059509,  23.54251477]), array([  -0.67952154,  634.97415765])]\n"
     ]
    },
    {
     "name": "stderr",
     "output_type": "stream",
     "text": [
      "\u001b[A\u001b[A\n",
      "\n",
      " 72%|███████▏  | 492/682 [00:48<00:21,  8.99it/s]\u001b[A\u001b[A"
     ]
    },
    {
     "name": "stdout",
     "output_type": "stream",
     "text": [
      "[array([ 0.62942291,  7.61335127]), array([  -0.68804834,  638.33177442])]\n",
      "[array([ 0.62953231,  7.17322695]), array([  -0.68176874,  635.77424211])]\n",
      "[array([  0.6200848,  11.9494254]), array([  -0.67486315,  632.5073789 ])]\n"
     ]
    },
    {
     "name": "stderr",
     "output_type": "stream",
     "text": [
      "\n",
      "\n",
      " 72%|███████▏  | 494/682 [00:49<00:20,  9.05it/s]\u001b[A\u001b[A\n",
      "\n",
      " 73%|███████▎  | 495/682 [00:49<00:22,  8.26it/s]"
     ]
    },
    {
     "name": "stdout",
     "output_type": "stream",
     "text": [
      "[array([ 0.62584381,  8.7839132 ]), array([  -0.69004671,  638.92282928])]\n",
      "[array([ 0.62625679,  8.40552509]), array([  -0.69045541,  639.40604207])]\n"
     ]
    },
    {
     "name": "stderr",
     "output_type": "stream",
     "text": [
      "\u001b[A\u001b[A\n",
      "\n",
      " 73%|███████▎  | 496/682 [00:49<00:29,  6.29it/s]"
     ]
    },
    {
     "name": "stdout",
     "output_type": "stream",
     "text": [
      "[array([ 0.63757154,  1.83960096]), array([  -0.69261754,  641.69331592])]\n"
     ]
    },
    {
     "name": "stderr",
     "output_type": "stream",
     "text": [
      "\u001b[A\u001b[A\n",
      "\n",
      " 73%|███████▎  | 497/682 [00:49<00:26,  7.02it/s]\u001b[A\u001b[A\n",
      "\n",
      " 73%|███████▎  | 498/682 [00:49<00:24,  7.50it/s]"
     ]
    },
    {
     "name": "stdout",
     "output_type": "stream",
     "text": [
      "[array([  0.61766845,  13.10620472]), array([  -0.69579405,  642.23773266])]\n",
      "[array([  0.61706503,  13.87924894]), array([  -0.6921324 ,  641.28959744])]\n",
      "[array([ 0.63289068,  3.47035739]), array([  -0.69420355,  641.98020501])]\n"
     ]
    },
    {
     "name": "stderr",
     "output_type": "stream",
     "text": [
      "\u001b[A\u001b[A\n",
      "\n",
      " 73%|███████▎  | 500/682 [00:49<00:20,  8.85it/s]\u001b[A\u001b[A\n",
      "\n",
      " 74%|███████▎  | 502/682 [00:50<00:18,  9.86it/s]"
     ]
    },
    {
     "name": "stdout",
     "output_type": "stream",
     "text": [
      "[array([ 0.62860451,  6.62258338]), array([  -0.6895625 ,  641.05933276])]\n",
      "[array([  0.62063164,  10.70747977]), array([  -0.69156592,  641.12443287])]\n",
      "[array([  0.59695648,  23.08700856]), array([  -0.68357889,  639.45494236])]\n"
     ]
    },
    {
     "name": "stderr",
     "output_type": "stream",
     "text": [
      "\u001b[A\u001b[A"
     ]
    },
    {
     "name": "stdout",
     "output_type": "stream",
     "text": [
      "[array([  0.59502902,  25.2364791 ]), array([  -0.69264496,  642.71601296])]\n",
      "[array([  0.60636867,  19.39056492]), array([  -0.67755193,  636.15952057])]\n"
     ]
    },
    {
     "name": "stderr",
     "output_type": "stream",
     "text": [
      "\n",
      "\n",
      " 74%|███████▍  | 504/682 [00:50<00:20,  8.66it/s]\u001b[A\u001b[A\n",
      "\n",
      " 74%|███████▍  | 505/682 [00:50<00:20,  8.52it/s]\u001b[A\u001b[A\n",
      "\n",
      " 74%|███████▍  | 507/682 [00:50<00:18,  9.48it/s]"
     ]
    },
    {
     "name": "stdout",
     "output_type": "stream",
     "text": [
      "[array([  0.59671354,  25.51297768]), array([  -0.68654252,  641.39817677])]\n",
      "[array([  0.60360608,  21.23058016]), array([  -0.67811641,  636.53975547])]\n",
      "[array([  0.61003672,  18.00474399]), array([  -0.67756391,  635.47835122])]\n"
     ]
    },
    {
     "name": "stderr",
     "output_type": "stream",
     "text": [
      "\u001b[A\u001b[A\n",
      "\n",
      " 75%|███████▍  | 509/682 [00:50<00:17, 10.17it/s]\u001b[A\u001b[A"
     ]
    },
    {
     "name": "stdout",
     "output_type": "stream",
     "text": [
      "[array([  0.59969165,  25.92303058]), array([  -0.69036952,  640.64057133])]\n",
      "[array([  0.61147996,  19.11765461]), array([  -0.66839535,  632.64400457])]\n",
      "[array([  0.60899227,  21.86538615]), array([  -0.67809785,  636.52598735])]\n"
     ]
    },
    {
     "name": "stderr",
     "output_type": "stream",
     "text": [
      "\n",
      "\n",
      " 75%|███████▍  | 511/682 [00:50<00:15, 11.01it/s]\u001b[A\u001b[A"
     ]
    },
    {
     "name": "stdout",
     "output_type": "stream",
     "text": [
      "[array([  0.60951746,  23.10433443]), array([  -0.66606219,  632.20989838])]\n",
      "[array([  0.62295943,  14.91509895]), array([  -0.66906229,  634.14351936])]\n"
     ]
    },
    {
     "name": "stderr",
     "output_type": "stream",
     "text": [
      "\n",
      "\n",
      "\r",
      " 75%|███████▌  | 513/682 [00:51<00:16, 10.28it/s]"
     ]
    },
    {
     "name": "stdout",
     "output_type": "stream",
     "text": [
      "[array([  0.61844269,  17.07241011]), array([  -0.67585006,  636.0338319 ])]\n",
      "[array([  0.62872401,  11.18129461]), array([  -0.66743143,  631.26384805])]\n",
      "[array([  0.61704592,  16.61369466]), array([  -0.67010114,  632.80186438])]\n"
     ]
    },
    {
     "name": "stderr",
     "output_type": "stream",
     "text": [
      "\u001b[A\u001b[A\n",
      "\n",
      " 76%|███████▌  | 515/682 [00:51<00:17,  9.82it/s]\u001b[A\u001b[A\n",
      "\n",
      " 76%|███████▌  | 517/682 [00:51<00:17,  9.63it/s]"
     ]
    },
    {
     "name": "stdout",
     "output_type": "stream",
     "text": [
      "[array([  0.61939452,  14.58732492]), array([  -0.66711673,  630.71307353])]\n",
      "[array([  0.60613783,  21.09446703]), array([  -0.67462149,  634.17354334])]\n",
      "[array([ 0.6296862 ,  7.97859049]), array([  -0.6809182 ,  636.62306563])]\n"
     ]
    },
    {
     "name": "stderr",
     "output_type": "stream",
     "text": [
      "\u001b[A\u001b[A\n",
      "\n",
      " 76%|███████▌  | 519/682 [00:51<00:16,  9.95it/s]\u001b[A\u001b[A"
     ]
    },
    {
     "name": "stdout",
     "output_type": "stream",
     "text": [
      "[array([  0.61786925,  16.26122271]), array([  -0.67243738,  633.07287695])]\n",
      "[array([  0.61783908,  16.77341698]), array([  -0.6620393 ,  629.64061045])]\n",
      "[array([  0.58022758,  40.44593428]), array([  -0.66188826,  629.19776516])]\n"
     ]
    },
    {
     "name": "stderr",
     "output_type": "stream",
     "text": [
      "\n",
      "\n",
      " 76%|███████▋  | 521/682 [00:51<00:15, 10.08it/s]\u001b[A\u001b[A\n",
      "\n",
      " 77%|███████▋  | 523/682 [00:52<00:16,  9.86it/s]"
     ]
    },
    {
     "name": "stdout",
     "output_type": "stream",
     "text": [
      "[array([  0.61164832,  19.94727645]), array([  -0.65986565,  629.50242471])]\n",
      "[array([  0.61572512,  15.50404264]), array([  -0.6538959,  627.644908 ])]\n"
     ]
    },
    {
     "name": "stderr",
     "output_type": "stream",
     "text": [
      "\u001b[A\u001b[A\n",
      "\n",
      " 77%|███████▋  | 525/682 [00:52<00:15,  9.83it/s]\u001b[A\u001b[A"
     ]
    },
    {
     "name": "stdout",
     "output_type": "stream",
     "text": [
      "[array([  0.61746176,  14.94266323]), array([  -0.66468791,  632.69813253])]\n",
      "[array([  0.62412996,  10.87983094]), array([  -0.66468581,  634.01567013])]\n"
     ]
    },
    {
     "name": "stderr",
     "output_type": "stream",
     "text": [
      "\n",
      "\n",
      " 77%|███████▋  | 526/682 [00:52<00:18,  8.27it/s]\u001b[A\u001b[A\n",
      "\n",
      " 77%|███████▋  | 527/682 [00:52<00:20,  7.51it/s]"
     ]
    },
    {
     "name": "stdout",
     "output_type": "stream",
     "text": [
      "[array([  0.62120553,  11.70091238]), array([  -0.67397782,  637.83890967])]\n",
      "[array([ 0.63291285,  6.20093748]), array([  -0.67800812,  638.91043544])]\n"
     ]
    },
    {
     "name": "stderr",
     "output_type": "stream",
     "text": [
      "\u001b[A\u001b[A\n",
      "\n",
      " 77%|███████▋  | 528/682 [00:52<00:19,  7.88it/s]\u001b[A\u001b[A\n",
      "\n",
      " 78%|███████▊  | 530/682 [00:52<00:17,  8.81it/s]"
     ]
    },
    {
     "name": "stdout",
     "output_type": "stream",
     "text": [
      "[array([  0.62300667,  10.2365095 ]), array([  -0.66560628,  634.17262102])]\n",
      "[array([ 0.62706329,  7.79927217]), array([  -0.6560516 ,  630.51934578])]\n",
      "[array([ 0.63736761,  1.6297268 ]), array([  -0.68059503,  639.77766391])]\n"
     ]
    },
    {
     "name": "stderr",
     "output_type": "stream",
     "text": [
      "\u001b[A\u001b[A\n",
      "\n",
      " 78%|███████▊  | 531/682 [00:53<00:17,  8.73it/s]\u001b[A\u001b[A\n",
      "\n",
      " 78%|███████▊  | 532/682 [00:53<00:18,  8.08it/s]"
     ]
    },
    {
     "name": "stdout",
     "output_type": "stream",
     "text": [
      "[array([ 0.62470445,  9.90060718]), array([  -0.66148394,  632.47128718])]\n",
      "[array([ 0.63050433,  5.94832518]), array([  -0.67425156,  638.52304196])]\n"
     ]
    },
    {
     "name": "stderr",
     "output_type": "stream",
     "text": [
      "\u001b[A\u001b[A\n",
      "\n",
      " 78%|███████▊  | 533/682 [00:53<00:19,  7.74it/s]\u001b[A\u001b[A\n",
      "\n",
      " 78%|███████▊  | 534/682 [00:53<00:19,  7.64it/s]"
     ]
    },
    {
     "name": "stdout",
     "output_type": "stream",
     "text": [
      "[array([  0.60656098,  21.27017572]), array([  -0.66714213,  635.28474042])]\n",
      "[array([  0.60644099,  21.67491858]), array([  -0.67669738,  637.75105944])]\n"
     ]
    },
    {
     "name": "stderr",
     "output_type": "stream",
     "text": [
      "\u001b[A\u001b[A\n",
      "\n",
      " 79%|███████▊  | 536/682 [00:53<00:16,  8.62it/s]\u001b[A\u001b[A\n",
      "\n",
      " 79%|███████▊  | 537/682 [00:53<00:16,  8.96it/s]"
     ]
    },
    {
     "name": "stdout",
     "output_type": "stream",
     "text": [
      "[array([ 0.6266977 ,  7.47408456]), array([  -0.65777831,  632.66924237])]\n",
      "[array([ 0.62813529,  6.35407436]), array([  -0.67603845,  638.33331686])]\n",
      "[array([ 0.63151075,  4.77026271]), array([  -0.68095729,  641.10454176])]\n"
     ]
    },
    {
     "name": "stderr",
     "output_type": "stream",
     "text": [
      "\u001b[A\u001b[A\n",
      "\n",
      " 79%|███████▉  | 538/682 [00:54<00:22,  6.49it/s]"
     ]
    },
    {
     "name": "stdout",
     "output_type": "stream",
     "text": [
      "[array([ 0.62571483,  8.3669515 ]), array([  -0.68334135,  641.37047196])]\n"
     ]
    },
    {
     "name": "stderr",
     "output_type": "stream",
     "text": [
      "\u001b[A\u001b[A\n",
      "\n",
      " 79%|███████▉  | 539/682 [00:54<00:20,  6.90it/s]\u001b[A\u001b[A\n",
      "\n",
      " 79%|███████▉  | 540/682 [00:54<00:19,  7.39it/s]"
     ]
    },
    {
     "name": "stdout",
     "output_type": "stream",
     "text": [
      "[array([  0.60817257,  18.16534374]), array([  -0.69352921,  646.12960483])]\n",
      "[array([ 0.62846908,  6.5386834 ]), array([  -0.68706419,  642.71298064])]\n"
     ]
    },
    {
     "name": "stderr",
     "output_type": "stream",
     "text": [
      "\u001b[A\u001b[A\n",
      "\n",
      " 79%|███████▉  | 541/682 [00:54<00:17,  7.95it/s]\u001b[A\u001b[A\n",
      "\n",
      " 80%|███████▉  | 543/682 [00:54<00:15,  8.94it/s]"
     ]
    },
    {
     "name": "stdout",
     "output_type": "stream",
     "text": [
      "[array([ 0.63760708,  1.43984422]), array([  -0.68058901,  639.94818877])]\n",
      "[array([ 0.62537318,  7.32567795]), array([  -0.68488528,  640.84971829])]\n",
      "[array([ 0.63175107,  3.12284104]), array([  -0.68053247,  639.4553587 ])]\n"
     ]
    },
    {
     "name": "stderr",
     "output_type": "stream",
     "text": [
      "\u001b[A\u001b[A\n",
      "\n",
      " 80%|███████▉  | 545/682 [00:54<00:13, 10.30it/s]\u001b[A\u001b[A"
     ]
    },
    {
     "name": "stdout",
     "output_type": "stream",
     "text": [
      "[array([ 0.62610684,  6.63123791]), array([  -0.69460639,  646.0104557 ])]\n",
      "[array([  0.61233035,  14.9747172 ]), array([  -0.69894012,  646.75342455])]\n",
      "[array([  0.61630534,  13.29975943]), array([  -0.69734401,  647.86462937])]\n"
     ]
    },
    {
     "name": "stderr",
     "output_type": "stream",
     "text": [
      "\n",
      "\n",
      "\r",
      " 80%|████████  | 547/682 [00:54<00:15,  8.85it/s]"
     ]
    },
    {
     "name": "stdout",
     "output_type": "stream",
     "text": [
      "[array([ 0.62591725,  5.38868072]), array([  -0.69746999,  647.03680022])]\n",
      "[array([ 0.63339516,  0.712608  ]), array([  -0.70819926,  649.94369519])]\n"
     ]
    },
    {
     "name": "stderr",
     "output_type": "stream",
     "text": [
      "\u001b[A\u001b[A\n",
      "\n",
      " 80%|████████  | 549/682 [00:55<00:15,  8.50it/s]"
     ]
    },
    {
     "name": "stdout",
     "output_type": "stream",
     "text": [
      "[array([ 0.6284854 ,  2.70279457]), array([  -0.69179112,  644.03469467])]\n",
      "[array([ 0.61834457,  9.43090745]), array([  -0.69390545,  642.680473  ])]\n"
     ]
    },
    {
     "name": "stderr",
     "output_type": "stream",
     "text": [
      "\u001b[A\u001b[A\n",
      "\n",
      " 81%|████████  | 551/682 [00:55<00:15,  8.69it/s]\u001b[A\u001b[A\n",
      "\n",
      " 81%|████████  | 553/682 [00:55<00:13,  9.39it/s]"
     ]
    },
    {
     "name": "stdout",
     "output_type": "stream",
     "text": [
      "[array([ 0.62656388,  3.90208966]), array([  -0.69859241,  645.13661037])]\n",
      "[array([ 0.61903889,  8.4715305 ]), array([  -0.71135391,  650.55066596])]\n",
      "[array([ 0.62644505,  5.12353041]), array([  -0.69900702,  646.28867903])]\n"
     ]
    },
    {
     "name": "stderr",
     "output_type": "stream",
     "text": [
      "\u001b[A\u001b[A\n",
      "\n",
      " 81%|████████▏ | 555/682 [00:55<00:12,  9.96it/s]\u001b[A\u001b[A"
     ]
    },
    {
     "name": "stdout",
     "output_type": "stream",
     "text": [
      "[array([  0.60309932,  19.64828386]), array([  -0.70567741,  650.0651386 ])]\n",
      "[array([  0.61216345,  14.67849916]), array([  -0.70799111,  650.61681041])]\n",
      "[array([  0.61055854,  14.52935509]), array([  -0.70562166,  650.18889693])]\n"
     ]
    },
    {
     "name": "stderr",
     "output_type": "stream",
     "text": [
      "\n",
      "\n",
      "\r",
      " 82%|████████▏ | 557/682 [00:55<00:12,  9.88it/s]"
     ]
    },
    {
     "name": "stdout",
     "output_type": "stream",
     "text": [
      "[array([  0.61139147,  14.14919772]), array([  -0.69707846,  645.88199599])]\n",
      "[array([  0.58302864,  32.29747638]), array([  -0.70790645,  648.74287937])]\n"
     ]
    },
    {
     "name": "stderr",
     "output_type": "stream",
     "text": [
      "\u001b[A\u001b[A\n",
      "\n",
      " 82%|████████▏ | 559/682 [00:56<00:12,  9.72it/s]"
     ]
    },
    {
     "name": "stdout",
     "output_type": "stream",
     "text": [
      "[array([  0.59102962,  26.52570819]), array([  -0.70141287,  646.59030237])]\n",
      "[array([ 0.62561264,  3.46945569]), array([  -0.69761661,  645.24903548])]\n"
     ]
    },
    {
     "name": "stderr",
     "output_type": "stream",
     "text": [
      "\u001b[A\u001b[A\n",
      "\n",
      " 82%|████████▏ | 561/682 [00:56<00:13,  9.21it/s]\u001b[A\u001b[A\n",
      "\n",
      " 83%|████████▎ | 563/682 [00:56<00:11, 10.26it/s]"
     ]
    },
    {
     "name": "stdout",
     "output_type": "stream",
     "text": [
      "[array([  0.61224029,  11.18096959]), array([  -0.7005859 ,  647.24398678])]\n",
      "[array([  0.60927419,  13.3373179 ]), array([  -0.69897582,  646.30466688])]\n",
      "[array([  0.60626504,  14.41151819]), array([  -0.71381926,  652.81556972])]\n"
     ]
    },
    {
     "name": "stderr",
     "output_type": "stream",
     "text": [
      "\u001b[A\u001b[A\n",
      "\n",
      " 83%|████████▎ | 565/682 [00:56<00:10, 11.07it/s]\u001b[A\u001b[A"
     ]
    },
    {
     "name": "stdout",
     "output_type": "stream",
     "text": [
      "[array([ 0.61699523,  8.55209594]), array([  -0.70758582,  650.35288526])]\n",
      "[array([  0.60304229,  15.17937445]), array([  -0.70863582,  650.93260137])]\n",
      "[array([  0.60628277,  14.03459022]), array([  -0.71050553,  651.5132492 ])]\n"
     ]
    },
    {
     "name": "stderr",
     "output_type": "stream",
     "text": [
      "\n",
      "\n",
      "\r",
      " 83%|████████▎ | 567/682 [00:56<00:10, 10.52it/s]"
     ]
    },
    {
     "name": "stdout",
     "output_type": "stream",
     "text": [
      "[array([  0.60217136,  16.47961195]), array([  -0.71808869,  655.15493114])]\n",
      "[array([  0.60235598,  16.70468444]), array([  -0.7335378 ,  661.17238231])]\n"
     ]
    },
    {
     "name": "stderr",
     "output_type": "stream",
     "text": [
      "\u001b[A\u001b[A\n",
      "\n",
      " 83%|████████▎ | 569/682 [00:57<00:12,  8.88it/s]"
     ]
    },
    {
     "name": "stdout",
     "output_type": "stream",
     "text": [
      "[array([  0.60665868,  14.514147  ]), array([  -0.7312044 ,  660.63020716])]\n",
      "[array([  0.5910713 ,  23.88196947]), array([  -0.72923416,  660.73514414])]\n"
     ]
    },
    {
     "name": "stderr",
     "output_type": "stream",
     "text": [
      "\u001b[A\u001b[A\n",
      "\n",
      " 84%|████████▎ | 571/682 [00:57<00:11,  9.47it/s]\u001b[A\u001b[A"
     ]
    },
    {
     "name": "stdout",
     "output_type": "stream",
     "text": [
      "[array([  0.58078185,  31.52515036]), array([  -0.72477675,  658.73079058])]\n",
      "[array([  0.5920509,  21.8393494]), array([  -0.73673612,  664.04221834])]\n",
      "[array([  0.585297  ,  24.77554272]), array([  -0.73738482,  664.79548304])]\n"
     ]
    },
    {
     "name": "stderr",
     "output_type": "stream",
     "text": [
      "\n",
      "\n",
      " 84%|████████▍ | 573/682 [00:57<00:11,  9.70it/s]\u001b[A\u001b[A\n",
      "\n",
      " 84%|████████▍ | 575/682 [00:57<00:11,  9.36it/s]"
     ]
    },
    {
     "name": "stdout",
     "output_type": "stream",
     "text": [
      "[array([  0.59018905,  23.30041987]), array([  -0.76012871,  674.09995267])]\n",
      "[array([  0.59546159,  19.91574741]), array([  -0.74091629,  667.24882063])]\n",
      "[array([  0.5894619 ,  23.22486589]), array([  -0.74254272,  667.15987693])]\n"
     ]
    },
    {
     "name": "stderr",
     "output_type": "stream",
     "text": [
      "\u001b[A\u001b[A\n",
      "\n",
      " 85%|████████▍ | 577/682 [00:58<00:11,  9.48it/s]\u001b[A\u001b[A\n",
      "\n",
      " 85%|████████▍ | 578/682 [00:58<00:11,  9.17it/s]"
     ]
    },
    {
     "name": "stdout",
     "output_type": "stream",
     "text": [
      "[array([  0.58010309,  27.37899422]), array([  -0.74967919,  669.81896169])]\n",
      "[array([  0.5897226 ,  21.90059435]), array([  -0.7640374 ,  675.60256545])]\n"
     ]
    },
    {
     "name": "stderr",
     "output_type": "stream",
     "text": [
      "\u001b[A\u001b[A\n",
      "\n",
      " 85%|████████▍ | 579/682 [00:58<00:11,  8.99it/s]\u001b[A\u001b[A\n",
      "\n",
      " 85%|████████▌ | 580/682 [00:58<00:11,  8.94it/s]"
     ]
    },
    {
     "name": "stdout",
     "output_type": "stream",
     "text": [
      "[array([  0.57194912,  31.63765547]), array([  -0.75405219,  671.46235431])]\n",
      "[array([  0.57502534,  29.59486651]), array([  -0.74421763,  665.6345602 ])]\n"
     ]
    },
    {
     "name": "stderr",
     "output_type": "stream",
     "text": [
      "\u001b[A\u001b[A\n",
      "\n",
      " 85%|████████▌ | 581/682 [00:58<00:11,  8.88it/s]\u001b[A\u001b[A\n",
      "\n",
      " 85%|████████▌ | 582/682 [00:58<00:11,  8.60it/s]"
     ]
    },
    {
     "name": "stdout",
     "output_type": "stream",
     "text": [
      "[array([  0.59308258,  19.3103329 ]), array([  -0.74215573,  666.91924602])]\n",
      "[array([  0.57265871,  32.84866826]), array([  -0.75272371,  670.47440594])]\n",
      "[array([  0.58310159,  25.91485711]), array([  -0.75615114,  673.16803415])]\n"
     ]
    },
    {
     "name": "stderr",
     "output_type": "stream",
     "text": [
      "\u001b[A\u001b[A\n",
      "\n",
      " 86%|████████▌ | 584/682 [00:58<00:10,  9.47it/s]\u001b[A\u001b[A"
     ]
    },
    {
     "name": "stdout",
     "output_type": "stream",
     "text": [
      "[array([  0.57819829,  29.0585743 ]), array([  -0.73719403,  666.87185265])]\n",
      "[array([  0.58083839,  27.96802172]), array([  -0.74304218,  669.32404418])]\n"
     ]
    },
    {
     "name": "stderr",
     "output_type": "stream",
     "text": [
      "\n",
      "\n",
      " 86%|████████▌ | 585/682 [00:59<00:13,  7.10it/s]\u001b[A\u001b[A\n",
      "\n",
      " 86%|████████▌ | 587/682 [00:59<00:12,  7.71it/s]"
     ]
    },
    {
     "name": "stdout",
     "output_type": "stream",
     "text": [
      "[array([  0.58189003,  27.76983654]), array([  -0.74755948,  671.09084872])]\n",
      "[array([  0.57510205,  30.89888184]), array([  -0.73864133,  667.48737507])]\n"
     ]
    },
    {
     "name": "stderr",
     "output_type": "stream",
     "text": [
      "\u001b[A\u001b[A\n",
      "\n",
      " 86%|████████▌ | 588/682 [00:59<00:11,  8.07it/s]\u001b[A\u001b[A\n",
      "\n",
      " 87%|████████▋ | 590/682 [00:59<00:10,  9.13it/s]"
     ]
    },
    {
     "name": "stdout",
     "output_type": "stream",
     "text": [
      "[array([  0.5757946 ,  31.35475809]), array([  -0.74101639,  668.61962287])]\n",
      "[array([  0.5712178,  34.501797 ]), array([  -0.74900092,  673.84318419])]\n",
      "[array([  0.57340288,  32.98591095]), array([  -0.72876913,  664.05512362])]\n"
     ]
    },
    {
     "name": "stderr",
     "output_type": "stream",
     "text": [
      "\u001b[A\u001b[A\n",
      "\n",
      " 87%|████████▋ | 592/682 [00:59<00:09,  9.99it/s]\u001b[A\u001b[A"
     ]
    },
    {
     "name": "stdout",
     "output_type": "stream",
     "text": [
      "[array([  0.56813336,  37.50507911]), array([  -0.73873874,  668.56306306])]\n",
      "[array([  0.59150394,  25.54426718]), array([  -0.7434536 ,  672.59563729])]\n",
      "[array([  0.56784883,  40.06540507]), array([  -0.74887779,  675.60248759])]\n"
     ]
    },
    {
     "name": "stderr",
     "output_type": "stream",
     "text": [
      "\n",
      "\n",
      "\r",
      " 87%|████████▋ | 594/682 [00:59<00:08,  9.82it/s]"
     ]
    },
    {
     "name": "stdout",
     "output_type": "stream",
     "text": [
      "[array([  0.55764726,  48.12555305]), array([  -0.74902318,  676.08321183])]\n",
      "[array([  0.57666861,  36.18602841]), array([  -0.74569475,  675.9049218 ])]\n"
     ]
    },
    {
     "name": "stderr",
     "output_type": "stream",
     "text": [
      "\u001b[A\u001b[A\n",
      "\n",
      " 87%|████████▋ | 596/682 [01:00<00:09,  8.68it/s]"
     ]
    },
    {
     "name": "stdout",
     "output_type": "stream",
     "text": [
      "[array([  0.58824715,  28.55585349]), array([  -0.7423672 ,  675.22727936])]\n",
      "[array([  0.58259126,  31.47811264]), array([  -0.75359413,  678.08402398])]\n"
     ]
    },
    {
     "name": "stderr",
     "output_type": "stream",
     "text": [
      "\u001b[A\u001b[A\n",
      "\n",
      " 88%|████████▊ | 598/682 [01:00<00:08,  9.59it/s]\u001b[A\u001b[A\n",
      "\n",
      " 88%|████████▊ | 600/682 [01:00<00:08, 10.25it/s]"
     ]
    },
    {
     "name": "stdout",
     "output_type": "stream",
     "text": [
      "[array([  0.58747448,  28.33347831]), array([  -0.73999085,  672.87430972])]\n",
      "[array([  0.57985696,  32.12944836]), array([  -0.7323032 ,  669.57223087])]\n",
      "[array([  0.57683069,  32.69501161]), array([  -0.75581279,  678.03676731])]\n"
     ]
    },
    {
     "name": "stderr",
     "output_type": "stream",
     "text": [
      "\u001b[A\u001b[A\n",
      "\n",
      " 88%|████████▊ | 602/682 [01:00<00:07, 10.83it/s]\u001b[A\u001b[A"
     ]
    },
    {
     "name": "stdout",
     "output_type": "stream",
     "text": [
      "[array([  0.57073057,  35.46862231]), array([  -0.74390228,  673.0898804 ])]\n",
      "[array([  0.575265  ,  32.36321167]), array([  -0.75949724,  678.6922795 ])]\n",
      "[array([  0.57319801,  32.2637341 ]), array([  -0.74003652,  669.76967645])]\n"
     ]
    },
    {
     "name": "stderr",
     "output_type": "stream",
     "text": [
      "\n",
      "\n",
      " 89%|████████▊ | 604/682 [01:00<00:08,  9.52it/s]\u001b[A\u001b[A\n",
      "\n",
      " 89%|████████▉ | 606/682 [01:01<00:07, 10.11it/s]"
     ]
    },
    {
     "name": "stdout",
     "output_type": "stream",
     "text": [
      "[array([  0.58297579,  26.66072268]), array([  -0.75086467,  673.11097688])]\n",
      "[array([  0.55783613,  42.48674589]), array([  -0.75103901,  673.82955015])]\n",
      "[array([  0.55562763,  45.43437753]), array([  -0.76595687,  681.19020907])]\n"
     ]
    },
    {
     "name": "stderr",
     "output_type": "stream",
     "text": [
      "\u001b[A\u001b[A\n",
      "\n",
      " 89%|████████▉ | 608/682 [01:01<00:07, 10.28it/s]\u001b[A\u001b[A"
     ]
    },
    {
     "name": "stdout",
     "output_type": "stream",
     "text": [
      "[array([  0.57257649,  35.16656515]), array([  -0.76092452,  679.49913092])]\n",
      "[array([  0.56488641,  39.80631637]), array([  -0.76517004,  682.4347076 ])]\n"
     ]
    },
    {
     "name": "stderr",
     "output_type": "stream",
     "text": [
      "\n",
      "\n",
      "\r",
      " 89%|████████▉ | 610/682 [01:01<00:07,  9.45it/s]"
     ]
    },
    {
     "name": "stdout",
     "output_type": "stream",
     "text": [
      "[array([  0.57100408,  36.4789864 ]), array([  -0.78549871,  690.47832959])]\n",
      "[array([  0.5771776 ,  32.15983045]), array([  -0.77600727,  685.42464773])]\n"
     ]
    },
    {
     "name": "stderr",
     "output_type": "stream",
     "text": [
      "\u001b[A\u001b[A\n",
      "\n",
      " 90%|████████▉ | 612/682 [01:01<00:07,  9.72it/s]\u001b[A\u001b[A"
     ]
    },
    {
     "name": "stdout",
     "output_type": "stream",
     "text": [
      "[array([  0.57578866,  32.97109583]), array([  -0.77340038,  685.30899886])]\n",
      "[array([  0.5706952 ,  35.39887261]), array([  -0.77400863,  684.32898702])]\n",
      "[array([  0.56881872,  36.84218403]), array([  -0.79905142,  696.20800564])]\n"
     ]
    },
    {
     "name": "stderr",
     "output_type": "stream",
     "text": [
      "\n",
      "\n",
      " 90%|█████████ | 614/682 [01:01<00:07,  9.38it/s]\u001b[A\u001b[A\n",
      "\n",
      " 90%|█████████ | 615/682 [01:02<00:08,  8.35it/s]"
     ]
    },
    {
     "name": "stdout",
     "output_type": "stream",
     "text": [
      "[array([  0.5718734 ,  35.54732006]), array([  -0.78620533,  689.9918906 ])]\n",
      "[array([  0.56528611,  38.44340004]), array([  -0.79598415,  694.20527039])]\n"
     ]
    },
    {
     "name": "stderr",
     "output_type": "stream",
     "text": [
      "\u001b[A\u001b[A\n",
      "\n",
      " 90%|█████████ | 616/682 [01:02<00:07,  8.69it/s]\u001b[A\u001b[A\n",
      "\n",
      " 91%|█████████ | 618/682 [01:02<00:06,  9.26it/s]"
     ]
    },
    {
     "name": "stdout",
     "output_type": "stream",
     "text": [
      "[array([  0.56406146,  39.04781864]), array([  -0.78851344,  689.62451183])]\n",
      "[array([  0.57521517,  33.49840049]), array([  -0.778827  ,  685.63773347])]\n",
      "[array([  0.55527662,  44.07440205]), array([  -0.793825  ,  692.18287991])]\n"
     ]
    },
    {
     "name": "stderr",
     "output_type": "stream",
     "text": [
      "\u001b[A\u001b[A\n",
      "\n",
      " 91%|█████████ | 619/682 [01:02<00:06,  9.47it/s]\u001b[A\u001b[A\n",
      "\n",
      " 91%|█████████ | 620/682 [01:02<00:07,  8.48it/s]"
     ]
    },
    {
     "name": "stdout",
     "output_type": "stream",
     "text": [
      "[array([  0.56746361,  38.42991136]), array([  -0.79066736,  691.63940325])]\n",
      "[array([  0.5594736 ,  41.91682606]), array([  -0.8078082 ,  698.21890987])]\n"
     ]
    },
    {
     "name": "stderr",
     "output_type": "stream",
     "text": [
      "\u001b[A\u001b[A\n",
      "\n",
      " 91%|█████████ | 621/682 [01:02<00:09,  6.49it/s]"
     ]
    },
    {
     "name": "stdout",
     "output_type": "stream",
     "text": [
      "[array([  0.55998728,  42.39489091]), array([  -0.79643409,  693.43483571])]\n"
     ]
    },
    {
     "name": "stderr",
     "output_type": "stream",
     "text": [
      "\u001b[A\u001b[A\n",
      "\n",
      " 91%|█████████▏| 623/682 [01:03<00:07,  7.46it/s]\u001b[A\u001b[A"
     ]
    },
    {
     "name": "stdout",
     "output_type": "stream",
     "text": [
      "[array([  0.56020408,  40.55306122]), array([  -0.82024992,  702.83118663])]\n",
      "[array([  0.56250087,  37.65956784]), array([  -0.80715754,  696.28852885])]\n",
      "[array([  0.56528786,  36.2928775 ]), array([  -0.80951654,  695.47365004])]\n"
     ]
    },
    {
     "name": "stderr",
     "output_type": "stream",
     "text": [
      "\n",
      "\n",
      " 91%|█████████▏| 624/682 [01:03<00:07,  7.75it/s]\u001b[A\u001b[A\n",
      "\n",
      " 92%|█████████▏| 625/682 [01:03<00:06,  8.22it/s]\u001b[A\u001b[A"
     ]
    },
    {
     "name": "stdout",
     "output_type": "stream",
     "text": [
      "[array([  0.55896918,  39.27230433]), array([  -0.80321504,  691.20936787])]\n",
      "[array([  0.54118884,  48.87190465]), array([  -0.81105073,  695.67394148])]\n"
     ]
    },
    {
     "name": "stderr",
     "output_type": "stream",
     "text": [
      "\n",
      "\n",
      " 92%|█████████▏| 627/682 [01:03<00:06,  8.60it/s]\u001b[A\u001b[A\n",
      "\n",
      " 92%|█████████▏| 628/682 [01:03<00:06,  8.62it/s]"
     ]
    },
    {
     "name": "stdout",
     "output_type": "stream",
     "text": [
      "[array([  0.57061546,  33.26019515]), array([  -0.81648484,  698.52759302])]\n",
      "[array([  0.55181763,  45.67881981]), array([  -0.81879776,  699.88507169])]\n"
     ]
    },
    {
     "name": "stderr",
     "output_type": "stream",
     "text": [
      "\u001b[A\u001b[A\n",
      "\n",
      " 92%|█████████▏| 630/682 [01:03<00:05,  9.49it/s]\u001b[A\u001b[A"
     ]
    },
    {
     "name": "stdout",
     "output_type": "stream",
     "text": [
      "[array([  0.55648434,  42.67967291]), array([  -0.80981702,  697.58394802])]\n",
      "[array([  0.51995318,  67.93008407]), array([  -0.80807307,  696.66672113])]\n",
      "[array([  0.56367497,  39.27707514]), array([  -0.81449654,  698.56949282])]\n"
     ]
    },
    {
     "name": "stderr",
     "output_type": "stream",
     "text": [
      "\n",
      "\n",
      " 93%|█████████▎| 632/682 [01:03<00:04, 10.34it/s]\u001b[A\u001b[A"
     ]
    },
    {
     "name": "stdout",
     "output_type": "stream",
     "text": [
      "[array([  0.55395741,  46.52751437]), array([  -0.82271132,  703.78299721])]\n",
      "[array([  0.55682304,  44.94006495]), array([  -0.80577473,  695.09221407])]\n"
     ]
    },
    {
     "name": "stderr",
     "output_type": "stream",
     "text": [
      "\n",
      "\n",
      "\r",
      " 93%|█████████▎| 634/682 [01:04<00:04,  9.73it/s]"
     ]
    },
    {
     "name": "stdout",
     "output_type": "stream",
     "text": [
      "[array([  0.56429037,  39.1515187 ]), array([  -0.80775835,  695.95069011])]\n",
      "[array([  0.55561986,  44.19334281]), array([  -0.80097475,  691.86866513])]\n"
     ]
    },
    {
     "name": "stderr",
     "output_type": "stream",
     "text": [
      "\u001b[A\u001b[A\n",
      "\n",
      " 93%|█████████▎| 636/682 [01:04<00:04,  9.46it/s]\u001b[A\u001b[A\n",
      "\n",
      " 93%|█████████▎| 637/682 [01:04<00:04,  9.39it/s]"
     ]
    },
    {
     "name": "stdout",
     "output_type": "stream",
     "text": [
      "[array([  0.55790309,  43.10611256]), array([  -0.81320814,  697.7956186 ])]\n",
      "[array([  0.55279475,  46.09507052]), array([  -0.80323956,  692.14944883])]\n"
     ]
    },
    {
     "name": "stderr",
     "output_type": "stream",
     "text": [
      "\u001b[A\u001b[A\n",
      "\n",
      " 94%|█████████▎| 639/682 [01:04<00:04,  9.74it/s]\u001b[A\u001b[A"
     ]
    },
    {
     "name": "stdout",
     "output_type": "stream",
     "text": [
      "[array([  0.55485667,  44.95371862]), array([  -0.8062084 ,  694.15248453])]\n",
      "[array([  0.58170733,  31.05105984]), array([  -0.8042153 ,  691.70921059])]\n"
     ]
    },
    {
     "name": "stderr",
     "output_type": "stream",
     "text": [
      "\n",
      "\n",
      " 94%|█████████▍| 640/682 [01:04<00:04,  9.53it/s]\u001b[A\u001b[A\n",
      "\n",
      " 94%|█████████▍| 641/682 [01:04<00:04,  9.17it/s]"
     ]
    },
    {
     "name": "stdout",
     "output_type": "stream",
     "text": [
      "[array([  0.5716168 ,  37.43225596]), array([  -0.78918785,  685.17518243])]\n",
      "[array([  0.56908648,  38.3534937 ]), array([  -0.79420174,  687.86301621])]\n"
     ]
    },
    {
     "name": "stderr",
     "output_type": "stream",
     "text": [
      "\u001b[A\u001b[A\n",
      "\n",
      " 94%|█████████▍| 642/682 [01:04<00:04,  9.16it/s]\u001b[A\u001b[A\n",
      "\n",
      " 94%|█████████▍| 643/682 [01:05<00:04,  9.17it/s]"
     ]
    },
    {
     "name": "stdout",
     "output_type": "stream",
     "text": [
      "[array([  0.57386727,  36.1123918 ]), array([  -0.79717689,  688.02597667])]\n",
      "[array([  0.54794243,  51.72976291]), array([  -0.78349789,  681.00262166])]\n"
     ]
    },
    {
     "name": "stderr",
     "output_type": "stream",
     "text": [
      "\u001b[A\u001b[A\n",
      "\n",
      " 94%|█████████▍| 644/682 [01:05<00:04,  8.85it/s]\u001b[A\u001b[A\n",
      "\n",
      " 95%|█████████▍| 645/682 [01:05<00:04,  7.65it/s]"
     ]
    },
    {
     "name": "stdout",
     "output_type": "stream",
     "text": [
      "[array([  0.5321832 ,  62.04558192]), array([  -0.78527174,  681.26991868])]\n",
      "[array([  0.55147275,  51.23898097]), array([  -0.77762567,  678.80654159])]\n"
     ]
    },
    {
     "name": "stderr",
     "output_type": "stream",
     "text": [
      "\u001b[A\u001b[A\n",
      "\n",
      " 95%|█████████▍| 646/682 [01:05<00:04,  8.04it/s]\u001b[A\u001b[A\n",
      "\n",
      " 95%|█████████▍| 647/682 [01:05<00:04,  8.37it/s]"
     ]
    },
    {
     "name": "stdout",
     "output_type": "stream",
     "text": [
      "[array([  0.57869829,  33.26366641]), array([  -0.77945411,  680.48470402])]\n",
      "[array([  0.58861835,  26.94198537]), array([  -0.76817144,  676.39821234])]\n",
      "[array([  0.59736016,  23.22125322]), array([  -0.7722811,  678.7863831])]\n"
     ]
    },
    {
     "name": "stderr",
     "output_type": "stream",
     "text": [
      "\u001b[A\u001b[A\n",
      "\n",
      " 95%|█████████▌| 649/682 [01:05<00:03,  9.22it/s]\u001b[A\u001b[A"
     ]
    },
    {
     "name": "stdout",
     "output_type": "stream",
     "text": [
      "[array([  0.57895222,  33.85418307]), array([  -0.78053698,  681.7331345 ])]\n",
      "[array([  0.58551059,  30.0429085 ]), array([  -0.77260877,  677.98266405])]\n"
     ]
    },
    {
     "name": "stderr",
     "output_type": "stream",
     "text": [
      "\n",
      "\n",
      " 95%|█████████▌| 651/682 [01:05<00:03,  9.98it/s]\u001b[A\u001b[A"
     ]
    },
    {
     "name": "stdout",
     "output_type": "stream",
     "text": [
      "[array([  0.61259979,  13.85179426]), array([  -0.76608645,  675.83162437])]\n",
      "[array([  0.60717674,  16.98817286]), array([  -0.76293816,  674.58455809])]\n"
     ]
    },
    {
     "name": "stderr",
     "output_type": "stream",
     "text": [
      "\n",
      "\n",
      " 96%|█████████▌| 653/682 [01:06<00:03,  9.23it/s]\u001b[A\u001b[A\n",
      "\n",
      " 96%|█████████▌| 654/682 [01:06<00:03,  8.42it/s]"
     ]
    },
    {
     "name": "stdout",
     "output_type": "stream",
     "text": [
      "[array([  0.58893927,  26.24898985]), array([  -0.76582783,  674.73234208])]\n",
      "[array([  0.60463275,  16.72503369]), array([  -0.75998361,  670.20682479])]\n"
     ]
    },
    {
     "name": "stderr",
     "output_type": "stream",
     "text": [
      "\u001b[A\u001b[A\n",
      "\n",
      " 96%|█████████▌| 655/682 [01:06<00:03,  8.59it/s]\u001b[A\u001b[A\n",
      "\n",
      " 96%|█████████▌| 656/682 [01:06<00:03,  8.52it/s]"
     ]
    },
    {
     "name": "stdout",
     "output_type": "stream",
     "text": [
      "[array([  0.6105937 ,  13.36654782]), array([  -0.77006714,  673.21280198])]\n",
      "[array([  0.56331593,  44.12793734]), array([  -0.74483465,  665.2468808 ])]\n"
     ]
    },
    {
     "name": "stderr",
     "output_type": "stream",
     "text": [
      "\u001b[A\u001b[A\n",
      "\n",
      " 96%|█████████▋| 657/682 [01:06<00:02,  8.63it/s]\u001b[A\u001b[A\n",
      "\n",
      " 96%|█████████▋| 658/682 [01:06<00:02,  8.59it/s]"
     ]
    },
    {
     "name": "stdout",
     "output_type": "stream",
     "text": [
      "[array([  0.59517677,  23.60624416]), array([  -0.74338928,  663.97784242])]\n",
      "[array([  0.60587251,  16.03526512]), array([  -0.75122556,  667.60439238])]\n"
     ]
    },
    {
     "name": "stderr",
     "output_type": "stream",
     "text": [
      "\u001b[A\u001b[A\n",
      "\n",
      " 97%|█████████▋| 659/682 [01:06<00:02,  8.65it/s]\u001b[A\u001b[A\n",
      "\n",
      " 97%|█████████▋| 660/682 [01:07<00:02,  8.36it/s]"
     ]
    },
    {
     "name": "stdout",
     "output_type": "stream",
     "text": [
      "[array([  0.59798697,  21.70992224]), array([  -0.74434263,  665.90031026])]\n",
      "[array([  0.59400806,  22.42562137]), array([  -0.74394697,  665.6208413 ])]\n"
     ]
    },
    {
     "name": "stderr",
     "output_type": "stream",
     "text": [
      "\u001b[A\u001b[A\n",
      "\n",
      " 97%|█████████▋| 662/682 [01:07<00:02,  9.28it/s]\u001b[A\u001b[A"
     ]
    },
    {
     "name": "stdout",
     "output_type": "stream",
     "text": [
      "[array([  0.60314937,  19.13221378]), array([  -0.72399397,  657.56559847])]\n",
      "[array([  0.60468725,  17.66240445]), array([  -0.72443666,  657.03598448])]\n",
      "[array([  0.58366529,  29.24391273]), array([  -0.71515586,  652.62389857])]\n"
     ]
    },
    {
     "name": "stderr",
     "output_type": "stream",
     "text": [
      "\n",
      "\n",
      " 97%|█████████▋| 664/682 [01:07<00:01, 10.30it/s]\u001b[A\u001b[A\n",
      "\n",
      " 98%|█████████▊| 666/682 [01:07<00:01, 10.48it/s]"
     ]
    },
    {
     "name": "stdout",
     "output_type": "stream",
     "text": [
      "[array([  0.60820886,  14.38666145]), array([  -0.73071708,  658.61126104])]\n",
      "[array([  0.59759834,  19.67431039]), array([  -0.73368935,  658.98136591])]\n",
      "[array([  0.6049826,  15.4741904]), array([  -0.7274758 ,  657.10722264])]\n"
     ]
    },
    {
     "name": "stderr",
     "output_type": "stream",
     "text": [
      "\u001b[A\u001b[A\n",
      "\n",
      " 98%|█████████▊| 668/682 [01:07<00:01,  9.68it/s]"
     ]
    },
    {
     "name": "stdout",
     "output_type": "stream",
     "text": [
      "[array([  0.58763409,  24.92239661]), array([  -0.72032852,  653.86645209])]\n",
      "[array([  0.60903101,  12.46828127]), array([  -0.71896918,  654.2306565 ])]\n"
     ]
    },
    {
     "name": "stderr",
     "output_type": "stream",
     "text": [
      "\u001b[A\u001b[A\n",
      "\n",
      " 98%|█████████▊| 670/682 [01:07<00:01, 10.00it/s]\u001b[A\u001b[A"
     ]
    },
    {
     "name": "stdout",
     "output_type": "stream",
     "text": [
      "[array([  0.58787574,  27.11775173]), array([  -0.71823952,  654.12067451])]\n",
      "[array([  0.61062032,  13.99322678]), array([  -0.71929737,  655.05719324])]\n",
      "[array([  0.59287043,  25.27520214]), array([  -0.70444419,  648.29964075])]\n"
     ]
    },
    {
     "name": "stderr",
     "output_type": "stream",
     "text": [
      "\n",
      "\n",
      "\r",
      " 99%|█████████▊| 672/682 [01:08<00:01,  9.98it/s]"
     ]
    },
    {
     "name": "stdout",
     "output_type": "stream",
     "text": [
      "[array([  0.60744271,  15.53956191]), array([  -0.71828685,  654.39744543])]\n",
      "[array([  0.60231741,  18.6749534 ]), array([  -0.70060333,  648.59565514])]\n",
      "[array([  0.60664627,  16.13436964]), array([  -0.70701381,  650.1254169 ])]\n"
     ]
    },
    {
     "name": "stderr",
     "output_type": "stream",
     "text": [
      "\u001b[A\u001b[A\n",
      "\n",
      " 99%|█████████▉| 674/682 [01:08<00:00,  9.31it/s]\u001b[A\u001b[A\n",
      "\n",
      " 99%|█████████▉| 675/682 [01:08<00:00,  7.56it/s]\u001b[A\u001b[A"
     ]
    },
    {
     "name": "stdout",
     "output_type": "stream",
     "text": [
      "[array([  0.60431164,  18.57688399]), array([  -0.70921609,  651.93309285])]\n"
     ]
    },
    {
     "name": "stderr",
     "output_type": "stream",
     "text": [
      "\n",
      "\n",
      " 99%|█████████▉| 676/682 [01:08<00:00,  8.07it/s]\u001b[A\u001b[A\n",
      "\n",
      " 99%|█████████▉| 678/682 [01:08<00:00,  9.39it/s]"
     ]
    },
    {
     "name": "stdout",
     "output_type": "stream",
     "text": [
      "[array([  0.58093683,  31.53363195]), array([  -0.72081317,  657.16586255])]\n",
      "[array([  0.60060662,  21.45149759]), array([  -0.71717654,  655.50751001])]\n",
      "[array([  0.58454918,  31.27907064]), array([  -0.71794872,  655.35897436])]\n"
     ]
    },
    {
     "name": "stderr",
     "output_type": "stream",
     "text": [
      "\u001b[A\u001b[A\n",
      "\n",
      "100%|█████████▉| 680/682 [01:08<00:00, 10.51it/s]\u001b[A\u001b[A"
     ]
    },
    {
     "name": "stdout",
     "output_type": "stream",
     "text": [
      "[array([  0.60482468,  18.96339121]), array([  -0.72537992,  658.86215257])]\n",
      "[array([  0.58789592,  29.39087472]), array([  -0.72946353,  661.55561984])]\n",
      "[array([  0.58418602,  32.51590612]), array([  -0.72640319,  658.82718484])]\n"
     ]
    },
    {
     "name": "stderr",
     "output_type": "stream",
     "text": [
      "\n",
      "\n",
      "100%|█████████▉| 681/682 [01:09<00:00,  9.84it/s]\u001b[A\u001b[A"
     ]
    },
    {
     "name": "stdout",
     "output_type": "stream",
     "text": [
      "[MoviePy] Done.\n",
      "[MoviePy] >>>> Video ready: yellow_output1.mp4 \n",
      "\n",
      "CPU times: user 3min 25s, sys: 14.1 s, total: 3min 39s\n",
      "Wall time: 1min 10s\n"
     ]
    }
   ],
   "source": [
    "yellow_output = 'yellow_output1.mp4'\n",
    "testy_clip = VideoFileClip(\"solidYellowLeft.mp4\")\n",
    "yellow_clip = testy_clip.fl_image(LaneLineDetector)\n",
    "%time yellow_clip.write_videofile(yellow_output, audio=False)"
   ]
  },
  {
   "cell_type": "code",
   "execution_count": 106,
   "metadata": {},
   "outputs": [
    {
     "data": {
      "text/html": [
       "\n",
       "<video width=\"960\" height=\"520\" controls>\n",
       "  <source src=\"yellow_output1.mp4\" type=\"video/mp4\">\n",
       "</video>\n"
      ],
      "text/plain": [
       "<IPython.core.display.HTML object>"
      ]
     },
     "execution_count": 106,
     "metadata": {},
     "output_type": "execute_result"
    }
   ],
   "source": [
    "HTML(\"\"\"\n",
    "<video width=\"960\" height=\"520\" controls>\n",
    "  <source src=\"{0}\" type=\"video/mp4\">\n",
    "</video>\n",
    "\"\"\".format(yellow_output))"
   ]
  },
  {
   "cell_type": "code",
   "execution_count": null,
   "metadata": {
    "collapsed": true
   },
   "outputs": [],
   "source": []
  }
 ],
 "metadata": {
  "colab": {
   "default_view": {},
   "name": "1_notmnist.ipynb",
   "provenance": [],
   "version": "0.3.2",
   "views": {}
  },
  "kernelspec": {
   "display_name": "Python 3",
   "language": "python",
   "name": "python3"
  },
  "language_info": {
   "codemirror_mode": {
    "name": "ipython",
    "version": 3
   },
   "file_extension": ".py",
   "mimetype": "text/x-python",
   "name": "python",
   "nbconvert_exporter": "python",
   "pygments_lexer": "ipython3",
   "version": "3.6.1"
  }
 },
 "nbformat": 4,
 "nbformat_minor": 1
}
