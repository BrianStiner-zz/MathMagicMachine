{
 "cells": [
  {
   "cell_type": "markdown",
   "metadata": {},
   "source": [
    "## Problem: Add up all the ascii values of all the letters that are different between two words"
   ]
  },
  {
   "cell_type": "code",
   "execution_count": 6,
   "metadata": {},
   "outputs": [
    {
     "data": {
      "text/plain": [
       "('cat', 'bat')"
      ]
     },
     "execution_count": 6,
     "metadata": {},
     "output_type": "execute_result"
    }
   ],
   "source": [
    "word1 = \"cat\"\n",
    "word2 = \"bat\"\n",
    "word1,word2"
   ]
  },
  {
   "cell_type": "code",
   "execution_count": 7,
   "metadata": {
    "collapsed": true
   },
   "outputs": [],
   "source": [
    "def add_word_differences(word1,word2):\n",
    "    total=0\n",
    "    all_letters = list(set(word1+word2))\n",
    "    for letter in all_letters:\n",
    "        total += abs(word1.count(letter)-word2.count(letter))*ord(letter)\n",
    "    return total"
   ]
  },
  {
   "cell_type": "code",
   "execution_count": 8,
   "metadata": {},
   "outputs": [
    {
     "data": {
      "text/plain": [
       "197"
      ]
     },
     "execution_count": 8,
     "metadata": {},
     "output_type": "execute_result"
    }
   ],
   "source": [
    "add_word_differences(word1,word2)"
   ]
  },
  {
   "cell_type": "markdown",
   "metadata": {},
   "source": [
    "## Problem: Find the number of unmatched parenthesis in a string"
   ]
  },
  {
   "cell_type": "code",
   "execution_count": 3,
   "metadata": {
    "collapsed": true
   },
   "outputs": [],
   "source": [
    "paras0 = \"\"#0\n",
    "paras1 = \"))(()\" #3\n",
    "paras2 = \"(()()\" #1\n",
    "paras3 = \"()(())\" #0"
   ]
  },
  {
   "cell_type": "code",
   "execution_count": 4,
   "metadata": {
    "collapsed": true
   },
   "outputs": [],
   "source": [
    "def howmanyunpaired(paras):\n",
    "    try:\n",
    "        total = 0\n",
    "        while paras[total] != '(':\n",
    "            total+=1\n",
    "        #next, start pairing\n",
    "        counter = 0\n",
    "        for x in range(total,len(paras)):\n",
    "            if paras[x] == '(':\n",
    "                counter+=1\n",
    "            elif paras[x] == ')':\n",
    "                counter-=1\n",
    "        return total + counter\n",
    "    except:\n",
    "        return 0"
   ]
  },
  {
   "cell_type": "code",
   "execution_count": 5,
   "metadata": {},
   "outputs": [
    {
     "data": {
      "text/plain": [
       "(0, 3, 1, 0)"
      ]
     },
     "execution_count": 5,
     "metadata": {},
     "output_type": "execute_result"
    }
   ],
   "source": [
    "howmanyunpaired(paras0),howmanyunpaired(paras1),howmanyunpaired(paras2),howmanyunpaired(paras3)"
   ]
  },
  {
   "cell_type": "markdown",
   "metadata": {},
   "source": [
    "## Problem: Count up four letter words"
   ]
  },
  {
   "cell_type": "code",
   "execution_count": 31,
   "metadata": {
    "collapsed": true
   },
   "outputs": [],
   "source": [
    "sentence = \"How many four letter words are in this sentence?\" #3\n",
    "sentence1 = \"and how about this one?\" #2?"
   ]
  },
  {
   "cell_type": "code",
   "execution_count": 32,
   "metadata": {
    "collapsed": true
   },
   "outputs": [],
   "source": [
    "def howmanyfourletterwords(sentence):\n",
    "    try:\n",
    "        listowords = sentence.split(\" \")\n",
    "        count=0\n",
    "        for x in range(0,len(listowords)):\n",
    "            if len(listowords[x])==4:\n",
    "                count+=1\n",
    "        return count\n",
    "    except:\n",
    "        return 0"
   ]
  },
  {
   "cell_type": "code",
   "execution_count": 36,
   "metadata": {},
   "outputs": [
    {
     "data": {
      "text/plain": [
       "(3, 2)"
      ]
     },
     "execution_count": 36,
     "metadata": {},
     "output_type": "execute_result"
    }
   ],
   "source": [
    "howmanyfourletterwords(sentence),howmanyfourletterwords(sentence1)"
   ]
  },
  {
   "cell_type": "markdown",
   "metadata": {},
   "source": [
    "## Problem: On graph paper, a diamond can be formed with a \"radius\" of n. Find the area of that diamond given n."
   ]
  },
  {
   "cell_type": "markdown",
   "metadata": {},
   "source": [
    "Example: \n",
    "n=1, A=1. \n",
    "n=2, A=5. \n",
    "n=3, A=13. \n",
    "n=4, A=25"
   ]
  },
  {
   "cell_type": "code",
   "execution_count": 37,
   "metadata": {
    "collapsed": true
   },
   "outputs": [],
   "source": [
    "def shapeArea(n):\n",
    "    if n==1:\n",
    "        return 1\n",
    "    else:\n",
    "        return 4*(n-1)+shapeArea(n-1)\n"
   ]
  },
  {
   "cell_type": "code",
   "execution_count": 38,
   "metadata": {},
   "outputs": [
    {
     "data": {
      "text/plain": [
       "(1, 5, 13, 25, 41)"
      ]
     },
     "execution_count": 38,
     "metadata": {},
     "output_type": "execute_result"
    }
   ],
   "source": [
    "shapeArea(1),shapeArea(2),shapeArea(3),shapeArea(4),shapeArea(5),\n"
   ]
  },
  {
   "cell_type": "markdown",
   "metadata": {
    "collapsed": true
   },
   "source": [
    "## Problem: Return all the longest strings in a list of strings. "
   ]
  },
  {
   "cell_type": "code",
   "execution_count": 1,
   "metadata": {
    "collapsed": true
   },
   "outputs": [],
   "source": [
    "abc = [\"ab\",\"a\",\"cab\",\"bac\",\"abc\",\"ba\",\"ab\",\"c\"]\n",
    "pets =[\"cat\",\"dog\",\"lizard\",\"snake\",\"mouse\",\"fish\",\"parrot\",\"pig\"] "
   ]
  },
  {
   "cell_type": "code",
   "execution_count": 2,
   "metadata": {
    "collapsed": true
   },
   "outputs": [],
   "source": [
    "def allLongestStrings(wordlist):\n",
    "    mlength = max(len(word) for word in wordlist)\n",
    "    longestwords = [word for word in wordlist if len(word) == mlength]\n",
    "    return longestwords"
   ]
  },
  {
   "cell_type": "code",
   "execution_count": 3,
   "metadata": {},
   "outputs": [
    {
     "data": {
      "text/plain": [
       "(['cab', 'bac', 'abc'], ['lizard', 'parrot'])"
      ]
     },
     "execution_count": 3,
     "metadata": {},
     "output_type": "execute_result"
    }
   ],
   "source": [
    "allLongestStrings(abc),allLongestStrings(pets)"
   ]
  },
  {
   "cell_type": "markdown",
   "metadata": {},
   "source": [
    "## Problem: Add the number of characters two strings share."
   ]
  },
  {
   "cell_type": "code",
   "execution_count": 14,
   "metadata": {},
   "outputs": [
    {
     "data": {
      "text/plain": [
       "('cat', 'dog', 'calculate', 'gopher')"
      ]
     },
     "execution_count": 14,
     "metadata": {},
     "output_type": "execute_result"
    }
   ],
   "source": [
    "cat,dog,calculate,gopher = \"cat\",\"dog\",\"calculate\",\"gopher\"\n",
    "cat,dog,calculate,gopher"
   ]
  },
  {
   "cell_type": "code",
   "execution_count": 15,
   "metadata": {
    "collapsed": true
   },
   "outputs": [],
   "source": [
    "def commonCharacterCount(s1, s2):\n",
    "    total=0\n",
    "    all_letters = list(set(s1+s2))\n",
    "    for letter in all_letters:\n",
    "        total += min(s1.count(letter),s2.count(letter))\n",
    "    return total"
   ]
  },
  {
   "cell_type": "code",
   "execution_count": 16,
   "metadata": {},
   "outputs": [
    {
     "data": {
      "text/plain": [
       "(3, 0, 2)"
      ]
     },
     "execution_count": 16,
     "metadata": {},
     "output_type": "execute_result"
    }
   ],
   "source": [
    "commonCharacterCount(cat,calculate),commonCharacterCount(cat,dog),commonCharacterCount(dog,gopher)"
   ]
  },
  {
   "cell_type": "markdown",
   "metadata": {
    "collapsed": true
   },
   "source": [
    "## Problem: A number is considered lucky if the sum of the first half of the digits is equal to the sum of the second half."
   ]
  },
  {
   "cell_type": "code",
   "execution_count": 1,
   "metadata": {
    "collapsed": true
   },
   "outputs": [],
   "source": [
    "#ONE LINE BOYS.\n",
    "def islucky(n):\n",
    "    return sum([int(i) for i in str(n)[:int(len(str(n))/2):1]])==sum([int(i) for i in str(n)[int(len(str(n))/2)::1]])"
   ]
  },
  {
   "cell_type": "code",
   "execution_count": 2,
   "metadata": {},
   "outputs": [
    {
     "data": {
      "text/plain": [
       "(True, True, False)"
      ]
     },
     "execution_count": 2,
     "metadata": {},
     "output_type": "execute_result"
    }
   ],
   "source": [
    "islucky(1230),islucky(12345050),islucky(3431)"
   ]
  },
  {
   "cell_type": "markdown",
   "metadata": {},
   "source": [
    "## Problem: Sort a list but skip -1's. "
   ]
  },
  {
   "cell_type": "code",
   "execution_count": 93,
   "metadata": {},
   "outputs": [
    {
     "data": {
      "text/plain": [
       "[-1, 1, 5, 4, 3, -1, -1, 2]"
      ]
     },
     "execution_count": 93,
     "metadata": {},
     "output_type": "execute_result"
    }
   ],
   "source": [
    "l = [-1,1,5,4,3,-1,-1,2]\n",
    "l"
   ]
  },
  {
   "cell_type": "code",
   "execution_count": 94,
   "metadata": {},
   "outputs": [],
   "source": [
    "def SortButSkipNeg1(a):\n",
    "    temp = 0\n",
    "    for left in range(0,len(a)-1):\n",
    "        if a[left]==-1:\n",
    "            pass\n",
    "        else:\n",
    "            for right in range(left+1,len(a)):\n",
    "                if a[right]==-1:\n",
    "                    pass\n",
    "                else:\n",
    "                    if a[left]>a[right]:\n",
    "                        print(a)\n",
    "                        print([0]*left+[1]+[0]*(right-left-1)+[2]+[0]*(len(a)-right-1))\n",
    "                        print()\n",
    "                        temp=a[right]\n",
    "                        a[right]=a[left]\n",
    "                        a[left]=temp\n",
    "    return a"
   ]
  },
  {
   "cell_type": "code",
   "execution_count": 95,
   "metadata": {},
   "outputs": [
    {
     "name": "stdout",
     "output_type": "stream",
     "text": [
      "[-1, 1, 5, 4, 3, -1, -1, 2]\n",
      "[0, 0, 1, 2, 0, 0, 0, 0]\n",
      "\n",
      "[-1, 1, 4, 5, 3, -1, -1, 2]\n",
      "[0, 0, 1, 0, 2, 0, 0, 0]\n",
      "\n",
      "[-1, 1, 3, 5, 4, -1, -1, 2]\n",
      "[0, 0, 1, 0, 0, 0, 0, 2]\n",
      "\n",
      "[-1, 1, 2, 5, 4, -1, -1, 3]\n",
      "[0, 0, 0, 1, 2, 0, 0, 0]\n",
      "\n",
      "[-1, 1, 2, 4, 5, -1, -1, 3]\n",
      "[0, 0, 0, 1, 0, 0, 0, 2]\n",
      "\n",
      "[-1, 1, 2, 3, 5, -1, -1, 4]\n",
      "[0, 0, 0, 0, 1, 0, 0, 2]\n",
      "\n"
     ]
    },
    {
     "data": {
      "text/plain": [
       "[-1, 1, 2, 3, 4, -1, -1, 5]"
      ]
     },
     "execution_count": 95,
     "metadata": {},
     "output_type": "execute_result"
    }
   ],
   "source": [
    "SortButSkipNeg1(l)"
   ]
  },
  {
   "cell_type": "markdown",
   "metadata": {},
   "source": [
    "## Problem: reverse text inside () and remove ()"
   ]
  },
  {
   "cell_type": "code",
   "execution_count": 100,
   "metadata": {},
   "outputs": [
    {
     "data": {
      "text/plain": [
       "'Code(Cha(lle)nge)'"
      ]
     },
     "execution_count": 100,
     "metadata": {},
     "output_type": "execute_result"
    }
   ],
   "source": [
    "text = \"Code(Cha(lle)nge)\" \n",
    "text\n",
    "#Code.egn.lle.ahC"
   ]
  },
  {
   "cell_type": "code",
   "execution_count": 114,
   "metadata": {},
   "outputs": [
    {
     "data": {
      "text/plain": [
       "[['Code', 'Cha', 'lle'], ['nge'], ['']]"
      ]
     },
     "execution_count": 114,
     "metadata": {},
     "output_type": "execute_result"
    }
   ],
   "source": [
    "s=text.split(\"(\")\n",
    "[d.split(\"(\") for d in s]"
   ]
  },
  {
   "cell_type": "code",
   "execution_count": 103,
   "metadata": {},
   "outputs": [
    {
     "data": {
      "text/plain": [
       "(['Code', 'Cha', 'lle)nge)'], ['Code(Cha(lle', 'nge', ''])"
      ]
     },
     "execution_count": 103,
     "metadata": {},
     "output_type": "execute_result"
    }
   ],
   "source": [
    "s,e"
   ]
  },
  {
   "cell_type": "code",
   "execution_count": null,
   "metadata": {
    "collapsed": true
   },
   "outputs": [],
   "source": []
  }
 ],
 "metadata": {
  "kernelspec": {
   "display_name": "Python 3",
   "language": "python",
   "name": "python3"
  },
  "language_info": {
   "codemirror_mode": {
    "name": "ipython",
    "version": 3
   },
   "file_extension": ".py",
   "mimetype": "text/x-python",
   "name": "python",
   "nbconvert_exporter": "python",
   "pygments_lexer": "ipython3",
   "version": "3.6.1"
  }
 },
 "nbformat": 4,
 "nbformat_minor": 2
}
